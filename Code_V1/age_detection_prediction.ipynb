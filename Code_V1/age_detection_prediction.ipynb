{
  "cells": [
    {
      "cell_type": "markdown",
      "metadata": {
        "colab_type": "text",
        "id": "ZXWen-qYTnFz"
      },
      "source": [
        "# Implementation of Age Detection\n",
        "\n",
        "\n",
        "here we are doing prediction as s output we want numbers instead of range\n"
      ]
    },
    {
      "cell_type": "code",
      "execution_count": 1,
      "metadata": {
        "colab": {
          "base_uri": "https://localhost:8080/",
          "height": 121
        },
        "colab_type": "code",
        "id": "hKte8OqSpsHt",
        "outputId": "e839cb8b-a0fa-4523-895b-8e30202583ce"
      },
      "outputs": [],
      "source": [
        "# # Let's mount google drive into Colaboratory, so that data stored in drive can be used in Colab\n",
        "\n",
        "# from google.colab import drive\n",
        "# drive.mount('/content/drive')"
      ]
    },
    {
      "cell_type": "code",
      "execution_count": 2,
      "metadata": {
        "colab": {},
        "colab_type": "code",
        "id": "tMntnszrJNtj"
      },
      "outputs": [],
      "source": [
        "# # Let's unzip the data that we have presently in zipped format, in the below location\n",
        "\n",
        "# !unzip \"/content/drive/My Drive/wiki_crop.zip\"              \n"
      ]
    },
    {
      "cell_type": "code",
      "execution_count": 3,
      "metadata": {},
      "outputs": [],
      "source": [
        "# !pip install pandas"
      ]
    },
    {
      "cell_type": "code",
      "execution_count": 21,
      "metadata": {},
      "outputs": [],
      "source": [
        "!pip install mlflow --quiet"
      ]
    },
    {
      "cell_type": "code",
      "execution_count": 22,
      "metadata": {},
      "outputs": [],
      "source": [
        "import mlflow\n",
        "import os\n",
        "from getpass import getpass\n",
        "\n",
        "os.environ['MLFLOW_TRACKING_USERNAME'] = input('Enter your DAGsHub username: ')\n",
        "os.environ['MLFLOW_TRACKING_PASSWORD'] = getpass('Enter your DAGsHub access token: ')\n",
        "os.environ['MLFLOW_TRACKING_PROJECTNAME'] = input('Enter your DAGsHub project name: ')\n",
        "\n",
        "mlflow.set_tracking_uri(f'https://dagshub.com/' + os.environ['MLFLOW_TRACKING_USERNAME']\n",
        "                        + '/' + os.environ['MLFLOW_TRACKING_PROJECTNAME'] + '.mlflow')"
      ]
    },
    {
      "cell_type": "markdown",
      "metadata": {},
      "source": [
        "username:: rachana\n",
        "\n",
        "\n",
        "token:c90d6e849df9e5f5024decdde31d82dd4a85619a\n",
        "project name: age_detection"
      ]
    },
    {
      "cell_type": "code",
      "execution_count": 23,
      "metadata": {
        "colab": {
          "base_uri": "https://localhost:8080/",
          "height": 87
        },
        "colab_type": "code",
        "id": "TwcR7Qa3qYmG",
        "outputId": "46ec4d25-e149-474f-c5d6-17e7a48d1952"
      },
      "outputs": [],
      "source": [
        "import scipy.io\n",
        "import math\n",
        "import pandas as pd\n",
        "import numpy as np\n",
        "import matplotlib.pyplot as plt\n",
        "import seaborn as sns\n",
        "from keras import applications,activations\n",
        "from keras.preprocessing.image import ImageDataGenerator,load_img,img_to_array\n",
        "from keras import optimizers,utils\n",
        "from keras.models import Sequential, Model \n",
        "from keras.layers import Dropout, Flatten, Dense, GlobalAveragePooling2D,BatchNormalization,ZeroPadding2D\n",
        "from keras.layers import Convolution2D, Activation,MaxPooling2D\n",
        "from keras import backend as k \n",
        "from keras.callbacks import ModelCheckpoint, LearningRateScheduler, TensorBoard, EarlyStopping\n",
        "from sklearn.utils import shuffle\n",
        "from keras.optimizers.legacy import Adam\n",
        "from keras.callbacks import LearningRateScheduler\n",
        "from keras.preprocessing import image\n",
        "from keras.preprocessing.image import ImageDataGenerator\n",
        "from keras.models import load_model"
      ]
    },
    {
      "cell_type": "code",
      "execution_count": 24,
      "metadata": {
        "colab": {},
        "colab_type": "code",
        "id": "CGmYB36UqrIc"
      },
      "outputs": [],
      "source": [
        "mat = scipy.io.loadmat('/Users/rachana/Rachana_Python_VS/age_detection/wiki.mat')\n",
        "\n",
        "# Reading Matlab files with SciPy"
      ]
    },
    {
      "cell_type": "code",
      "execution_count": 25,
      "metadata": {
        "colab": {
          "base_uri": "https://localhost:8080/",
          "height": 440
        },
        "colab_type": "code",
        "id": "7_eZm4knKxAw",
        "outputId": "6c09a848-88c6-4f66-dc53-854e89bc55c7"
      },
      "outputs": [
        {
          "data": {
            "text/plain": [
              "{'__header__': b'MATLAB 5.0 MAT-file, Platform: GLNXA64, Created on: Sat Jan 16 16:25:20 2016',\n",
              " '__version__': '1.0',\n",
              " '__globals__': [],\n",
              " 'wiki': array([[(array([[723671, 703186, 711677, ..., 720620, 723893, 713846]], dtype=int32), array([[2009, 1964, 2008, ..., 2013, 2011, 2008]], dtype=uint16), array([[array(['17/10000217_1981-05-05_2009.jpg'], dtype='<U31'),\n",
              "                 array(['48/10000548_1925-04-04_1964.jpg'], dtype='<U31'),\n",
              "                 array(['12/100012_1948-07-03_2008.jpg'], dtype='<U29'), ...,\n",
              "                 array(['09/9998109_1972-12-27_2013.jpg'], dtype='<U30'),\n",
              "                 array(['00/9999400_1981-12-13_2011.jpg'], dtype='<U30'),\n",
              "                 array(['80/999980_1954-06-11_2008.jpg'], dtype='<U29')]],\n",
              "               dtype=object), array([[1., 1., 1., ..., 1., 1., 0.]]), array([[array(['Sami Jauhojärvi'], dtype='<U15'),\n",
              "                 array(['Dettmar Cramer'], dtype='<U14'),\n",
              "                 array(['Marc Okrand'], dtype='<U11'), ...,\n",
              "                 array(['Michael Wiesinger'], dtype='<U17'),\n",
              "                 array(['Johann Grugger'], dtype='<U14'),\n",
              "                 array(['Greta Van Susteren'], dtype='<U18')]], dtype=object), array([[array([[111.29109473, 111.29109473, 252.66993082, 252.66993082]]),\n",
              "                 array([[252.4833023 , 126.68165115, 354.53192596, 228.73027481]]),\n",
              "                 array([[113.52, 169.84, 366.08, 422.4 ]]), ...,\n",
              "                 array([[169.88839786,  74.31669472, 235.2534231 , 139.68171997]]),\n",
              "                 array([[1, 1, 1, 1]], dtype=uint8),\n",
              "                 array([[ 92.72633235,  62.0435549 , 230.12083087, 199.43805342]])]],\n",
              "               dtype=object), array([[4.30096239, 2.6456395 , 4.32932883, ..., 3.49430317,       -inf,\n",
              "                 5.48691655]]), array([[       nan, 1.94924791,        nan, ...,        nan,        nan,\n",
              "                        nan]]))                                                                                                                                                                                           ]],\n",
              "       dtype=[('dob', 'O'), ('photo_taken', 'O'), ('full_path', 'O'), ('gender', 'O'), ('name', 'O'), ('face_location', 'O'), ('face_score', 'O'), ('second_face_score', 'O')])}"
            ]
          },
          "execution_count": 25,
          "metadata": {},
          "output_type": "execute_result"
        }
      ],
      "source": [
        "mat         # Matlab file"
      ]
    },
    {
      "cell_type": "markdown",
      "metadata": {},
      "source": [
        "## Data Collection and Transforamtion from mat file to dataframe"
      ]
    },
    {
      "cell_type": "code",
      "execution_count": 26,
      "metadata": {
        "colab": {},
        "colab_type": "code",
        "id": "JVU2JxALqufP"
      },
      "outputs": [],
      "source": [
        "# Converting into pandas dataframe. Always easier and better to deal with :)\n",
        "\n",
        "instances = mat['wiki'][0][0][0].shape[1]\n",
        " \n",
        "columns = [\"dob\", \"photo_taken\", \"full_path\", \"gender\", \"name\", \"face_location\", \"face_score\", \"second_face_score\"]\n",
        " \n",
        "df = pd.DataFrame(index = range(0,instances), columns = columns)\n",
        " \n",
        "for i in mat:\n",
        "    if i == \"wiki\":\n",
        "        current_array = mat[i][0][0]\n",
        "        \n",
        "for j in range(len(current_array)):\n",
        "    df[columns[j]] = pd.DataFrame(current_array[j][0])"
      ]
    },
    {
      "cell_type": "code",
      "execution_count": 27,
      "metadata": {
        "colab": {
          "base_uri": "https://localhost:8080/",
          "height": 195
        },
        "colab_type": "code",
        "id": "zV0jtPsEqxHV",
        "outputId": "171ad513-58ae-4d42-9214-4cf215dbced9"
      },
      "outputs": [
        {
          "data": {
            "text/html": [
              "<div>\n",
              "<style scoped>\n",
              "    .dataframe tbody tr th:only-of-type {\n",
              "        vertical-align: middle;\n",
              "    }\n",
              "\n",
              "    .dataframe tbody tr th {\n",
              "        vertical-align: top;\n",
              "    }\n",
              "\n",
              "    .dataframe thead th {\n",
              "        text-align: right;\n",
              "    }\n",
              "</style>\n",
              "<table border=\"1\" class=\"dataframe\">\n",
              "  <thead>\n",
              "    <tr style=\"text-align: right;\">\n",
              "      <th></th>\n",
              "      <th>dob</th>\n",
              "      <th>photo_taken</th>\n",
              "      <th>full_path</th>\n",
              "      <th>gender</th>\n",
              "      <th>name</th>\n",
              "      <th>face_location</th>\n",
              "      <th>face_score</th>\n",
              "      <th>second_face_score</th>\n",
              "    </tr>\n",
              "  </thead>\n",
              "  <tbody>\n",
              "    <tr>\n",
              "      <th>0</th>\n",
              "      <td>723671</td>\n",
              "      <td>2009</td>\n",
              "      <td>[17/10000217_1981-05-05_2009.jpg]</td>\n",
              "      <td>1.0</td>\n",
              "      <td>[Sami Jauhojärvi]</td>\n",
              "      <td>[[111.29109473290997, 111.29109473290997, 252....</td>\n",
              "      <td>4.300962</td>\n",
              "      <td>NaN</td>\n",
              "    </tr>\n",
              "    <tr>\n",
              "      <th>1</th>\n",
              "      <td>703186</td>\n",
              "      <td>1964</td>\n",
              "      <td>[48/10000548_1925-04-04_1964.jpg]</td>\n",
              "      <td>1.0</td>\n",
              "      <td>[Dettmar Cramer]</td>\n",
              "      <td>[[252.48330229530742, 126.68165114765371, 354....</td>\n",
              "      <td>2.645639</td>\n",
              "      <td>1.949248</td>\n",
              "    </tr>\n",
              "    <tr>\n",
              "      <th>2</th>\n",
              "      <td>711677</td>\n",
              "      <td>2008</td>\n",
              "      <td>[12/100012_1948-07-03_2008.jpg]</td>\n",
              "      <td>1.0</td>\n",
              "      <td>[Marc Okrand]</td>\n",
              "      <td>[[113.52, 169.83999999999997, 366.08, 422.4]]</td>\n",
              "      <td>4.329329</td>\n",
              "      <td>NaN</td>\n",
              "    </tr>\n",
              "    <tr>\n",
              "      <th>3</th>\n",
              "      <td>705061</td>\n",
              "      <td>1961</td>\n",
              "      <td>[65/10001965_1930-05-23_1961.jpg]</td>\n",
              "      <td>1.0</td>\n",
              "      <td>[Aleksandar Matanović]</td>\n",
              "      <td>[[1, 1, 634, 440]]</td>\n",
              "      <td>-inf</td>\n",
              "      <td>NaN</td>\n",
              "    </tr>\n",
              "    <tr>\n",
              "      <th>4</th>\n",
              "      <td>720044</td>\n",
              "      <td>2012</td>\n",
              "      <td>[16/10002116_1971-05-31_2012.jpg]</td>\n",
              "      <td>0.0</td>\n",
              "      <td>[Diana Damrau]</td>\n",
              "      <td>[[171.61031405173117, 75.57451239763239, 266.7...</td>\n",
              "      <td>3.408442</td>\n",
              "      <td>NaN</td>\n",
              "    </tr>\n",
              "  </tbody>\n",
              "</table>\n",
              "</div>"
            ],
            "text/plain": [
              "      dob  photo_taken                          full_path  gender  \\\n",
              "0  723671         2009  [17/10000217_1981-05-05_2009.jpg]     1.0   \n",
              "1  703186         1964  [48/10000548_1925-04-04_1964.jpg]     1.0   \n",
              "2  711677         2008    [12/100012_1948-07-03_2008.jpg]     1.0   \n",
              "3  705061         1961  [65/10001965_1930-05-23_1961.jpg]     1.0   \n",
              "4  720044         2012  [16/10002116_1971-05-31_2012.jpg]     0.0   \n",
              "\n",
              "                     name                                      face_location  \\\n",
              "0       [Sami Jauhojärvi]  [[111.29109473290997, 111.29109473290997, 252....   \n",
              "1        [Dettmar Cramer]  [[252.48330229530742, 126.68165114765371, 354....   \n",
              "2           [Marc Okrand]      [[113.52, 169.83999999999997, 366.08, 422.4]]   \n",
              "3  [Aleksandar Matanović]                                 [[1, 1, 634, 440]]   \n",
              "4          [Diana Damrau]  [[171.61031405173117, 75.57451239763239, 266.7...   \n",
              "\n",
              "   face_score  second_face_score  \n",
              "0    4.300962                NaN  \n",
              "1    2.645639           1.949248  \n",
              "2    4.329329                NaN  \n",
              "3        -inf                NaN  \n",
              "4    3.408442                NaN  "
            ]
          },
          "execution_count": 27,
          "metadata": {},
          "output_type": "execute_result"
        }
      ],
      "source": [
        "df.head()               # Lets see how exactly our dataset looks"
      ]
    },
    {
      "cell_type": "code",
      "execution_count": 28,
      "metadata": {
        "colab": {
          "base_uri": "https://localhost:8080/",
          "height": 269
        },
        "colab_type": "code",
        "id": "vd_Z7g0T2A2R",
        "outputId": "3789e6c7-00b8-4350-aa89-af3e9c1fcf9e"
      },
      "outputs": [
        {
          "name": "stdout",
          "output_type": "stream",
          "text": [
            "<class 'pandas.core.frame.DataFrame'>\n",
            "RangeIndex: 62328 entries, 0 to 62327\n",
            "Data columns (total 8 columns):\n",
            " #   Column             Non-Null Count  Dtype  \n",
            "---  ------             --------------  -----  \n",
            " 0   dob                62328 non-null  int32  \n",
            " 1   photo_taken        62328 non-null  uint16 \n",
            " 2   full_path          62328 non-null  object \n",
            " 3   gender             59685 non-null  float64\n",
            " 4   name               62328 non-null  object \n",
            " 5   face_location      62328 non-null  object \n",
            " 6   face_score         62328 non-null  float64\n",
            " 7   second_face_score  4096 non-null   float64\n",
            "dtypes: float64(3), int32(1), object(3), uint16(1)\n",
            "memory usage: 3.2+ MB\n"
          ]
        }
      ],
      "source": [
        "df.info()"
      ]
    },
    {
      "cell_type": "code",
      "execution_count": 29,
      "metadata": {
        "colab": {},
        "colab_type": "code",
        "id": "yY5-DgNnqyou"
      },
      "outputs": [],
      "source": [
        "from datetime import datetime, timedelta\n",
        "def datenum_to_datetime(datenum):\n",
        "    days = datenum % 1\n",
        "    hours = days % 1 * 24\n",
        "    minutes = hours % 1 * 60\n",
        "    seconds = minutes % 1 * 60\n",
        "    exact_date = datetime.fromordinal(int(datenum)) + timedelta(days=int(days)) + timedelta(hours=int(hours)) \\\n",
        "    + timedelta(minutes=int(minutes)) + timedelta(seconds=round(seconds)) - timedelta(days=366)\n",
        "\n",
        "    return exact_date.year\n",
        " \n",
        "df['date_of_birth'] = df['dob'].apply(datenum_to_datetime)"
      ]
    },
    {
      "cell_type": "code",
      "execution_count": 30,
      "metadata": {
        "colab": {},
        "colab_type": "code",
        "id": "MuyXHt_Xq0n4"
      },
      "outputs": [],
      "source": [
        "df['age'] = df['photo_taken'] - df['date_of_birth']          # Getting present age"
      ]
    },
    {
      "cell_type": "code",
      "execution_count": 31,
      "metadata": {
        "colab": {
          "base_uri": "https://localhost:8080/",
          "height": 195
        },
        "colab_type": "code",
        "id": "6SjgG6fSLX2j",
        "outputId": "59621863-b2c0-4f8e-e30f-3ee40a203d43"
      },
      "outputs": [
        {
          "data": {
            "text/html": [
              "<div>\n",
              "<style scoped>\n",
              "    .dataframe tbody tr th:only-of-type {\n",
              "        vertical-align: middle;\n",
              "    }\n",
              "\n",
              "    .dataframe tbody tr th {\n",
              "        vertical-align: top;\n",
              "    }\n",
              "\n",
              "    .dataframe thead th {\n",
              "        text-align: right;\n",
              "    }\n",
              "</style>\n",
              "<table border=\"1\" class=\"dataframe\">\n",
              "  <thead>\n",
              "    <tr style=\"text-align: right;\">\n",
              "      <th></th>\n",
              "      <th>dob</th>\n",
              "      <th>photo_taken</th>\n",
              "      <th>full_path</th>\n",
              "      <th>gender</th>\n",
              "      <th>name</th>\n",
              "      <th>face_location</th>\n",
              "      <th>face_score</th>\n",
              "      <th>second_face_score</th>\n",
              "      <th>date_of_birth</th>\n",
              "      <th>age</th>\n",
              "    </tr>\n",
              "  </thead>\n",
              "  <tbody>\n",
              "    <tr>\n",
              "      <th>0</th>\n",
              "      <td>723671</td>\n",
              "      <td>2009</td>\n",
              "      <td>[17/10000217_1981-05-05_2009.jpg]</td>\n",
              "      <td>1.0</td>\n",
              "      <td>[Sami Jauhojärvi]</td>\n",
              "      <td>[[111.29109473290997, 111.29109473290997, 252....</td>\n",
              "      <td>4.300962</td>\n",
              "      <td>NaN</td>\n",
              "      <td>1981</td>\n",
              "      <td>28</td>\n",
              "    </tr>\n",
              "    <tr>\n",
              "      <th>1</th>\n",
              "      <td>703186</td>\n",
              "      <td>1964</td>\n",
              "      <td>[48/10000548_1925-04-04_1964.jpg]</td>\n",
              "      <td>1.0</td>\n",
              "      <td>[Dettmar Cramer]</td>\n",
              "      <td>[[252.48330229530742, 126.68165114765371, 354....</td>\n",
              "      <td>2.645639</td>\n",
              "      <td>1.949248</td>\n",
              "      <td>1925</td>\n",
              "      <td>39</td>\n",
              "    </tr>\n",
              "    <tr>\n",
              "      <th>2</th>\n",
              "      <td>711677</td>\n",
              "      <td>2008</td>\n",
              "      <td>[12/100012_1948-07-03_2008.jpg]</td>\n",
              "      <td>1.0</td>\n",
              "      <td>[Marc Okrand]</td>\n",
              "      <td>[[113.52, 169.83999999999997, 366.08, 422.4]]</td>\n",
              "      <td>4.329329</td>\n",
              "      <td>NaN</td>\n",
              "      <td>1948</td>\n",
              "      <td>60</td>\n",
              "    </tr>\n",
              "    <tr>\n",
              "      <th>3</th>\n",
              "      <td>705061</td>\n",
              "      <td>1961</td>\n",
              "      <td>[65/10001965_1930-05-23_1961.jpg]</td>\n",
              "      <td>1.0</td>\n",
              "      <td>[Aleksandar Matanović]</td>\n",
              "      <td>[[1, 1, 634, 440]]</td>\n",
              "      <td>-inf</td>\n",
              "      <td>NaN</td>\n",
              "      <td>1930</td>\n",
              "      <td>31</td>\n",
              "    </tr>\n",
              "    <tr>\n",
              "      <th>4</th>\n",
              "      <td>720044</td>\n",
              "      <td>2012</td>\n",
              "      <td>[16/10002116_1971-05-31_2012.jpg]</td>\n",
              "      <td>0.0</td>\n",
              "      <td>[Diana Damrau]</td>\n",
              "      <td>[[171.61031405173117, 75.57451239763239, 266.7...</td>\n",
              "      <td>3.408442</td>\n",
              "      <td>NaN</td>\n",
              "      <td>1971</td>\n",
              "      <td>41</td>\n",
              "    </tr>\n",
              "  </tbody>\n",
              "</table>\n",
              "</div>"
            ],
            "text/plain": [
              "      dob  photo_taken                          full_path  gender  \\\n",
              "0  723671         2009  [17/10000217_1981-05-05_2009.jpg]     1.0   \n",
              "1  703186         1964  [48/10000548_1925-04-04_1964.jpg]     1.0   \n",
              "2  711677         2008    [12/100012_1948-07-03_2008.jpg]     1.0   \n",
              "3  705061         1961  [65/10001965_1930-05-23_1961.jpg]     1.0   \n",
              "4  720044         2012  [16/10002116_1971-05-31_2012.jpg]     0.0   \n",
              "\n",
              "                     name                                      face_location  \\\n",
              "0       [Sami Jauhojärvi]  [[111.29109473290997, 111.29109473290997, 252....   \n",
              "1        [Dettmar Cramer]  [[252.48330229530742, 126.68165114765371, 354....   \n",
              "2           [Marc Okrand]      [[113.52, 169.83999999999997, 366.08, 422.4]]   \n",
              "3  [Aleksandar Matanović]                                 [[1, 1, 634, 440]]   \n",
              "4          [Diana Damrau]  [[171.61031405173117, 75.57451239763239, 266.7...   \n",
              "\n",
              "   face_score  second_face_score  date_of_birth  age  \n",
              "0    4.300962                NaN           1981   28  \n",
              "1    2.645639           1.949248           1925   39  \n",
              "2    4.329329                NaN           1948   60  \n",
              "3        -inf                NaN           1930   31  \n",
              "4    3.408442                NaN           1971   41  "
            ]
          },
          "execution_count": 31,
          "metadata": {},
          "output_type": "execute_result"
        }
      ],
      "source": [
        "df.head()"
      ]
    },
    {
      "cell_type": "markdown",
      "metadata": {},
      "source": [
        "## Data Cleaning and Preprocessing"
      ]
    },
    {
      "cell_type": "code",
      "execution_count": 32,
      "metadata": {
        "colab": {},
        "colab_type": "code",
        "id": "gru7UnYuq3-h"
      },
      "outputs": [],
      "source": [
        "#remove pictures does not include face\n",
        "df = df[df['face_score'] != -np.inf]\n",
        " \n",
        "#some pictures include more than one face, remove them\n",
        "df = df[df['second_face_score'].isna()]\n",
        "\n",
        "#some guys seem to be greater than 100. Let's remove them and first make a model that classifies from 1 to 100\n",
        "df = df[df['age'] <= 65]\n",
        " \n",
        "#some guys seem to be unborn in the data set i.e age < 0\n",
        "df = df[df['age'] >= 20]"
      ]
    },
    {
      "cell_type": "code",
      "execution_count": 33,
      "metadata": {
        "colab": {
          "base_uri": "https://localhost:8080/",
          "height": 302
        },
        "colab_type": "code",
        "id": "-pYYP8OYE9FZ",
        "outputId": "bbc98f3e-9bf7-4145-ee37-bd4f91ac0144"
      },
      "outputs": [
        {
          "name": "stdout",
          "output_type": "stream",
          "text": [
            "<class 'pandas.core.frame.DataFrame'>\n",
            "Index: 34885 entries, 0 to 62327\n",
            "Data columns (total 10 columns):\n",
            " #   Column             Non-Null Count  Dtype  \n",
            "---  ------             --------------  -----  \n",
            " 0   dob                34885 non-null  int32  \n",
            " 1   photo_taken        34885 non-null  uint16 \n",
            " 2   full_path          34885 non-null  object \n",
            " 3   gender             34198 non-null  float64\n",
            " 4   name               34885 non-null  object \n",
            " 5   face_location      34885 non-null  object \n",
            " 6   face_score         34885 non-null  float64\n",
            " 7   second_face_score  0 non-null      float64\n",
            " 8   date_of_birth      34885 non-null  int64  \n",
            " 9   age                34885 non-null  int64  \n",
            "dtypes: float64(3), int32(1), int64(2), object(3), uint16(1)\n",
            "memory usage: 2.6+ MB\n"
          ]
        }
      ],
      "source": [
        "df.info()"
      ]
    },
    {
      "cell_type": "code",
      "execution_count": 34,
      "metadata": {
        "colab": {},
        "colab_type": "code",
        "id": "gZbDU1L0ELma"
      },
      "outputs": [],
      "source": [
        "# Lower threshold for face_score - allows more images of poor quality (making the model more robust)\n",
        "\n",
        "df = df[df['face_score'] >= 1.75]\n",
        " \n",
        "df = df.drop(columns = ['name','face_score','second_face_score','date_of_birth','face_location'])"
      ]
    },
    {
      "cell_type": "code",
      "execution_count": 35,
      "metadata": {
        "colab": {
          "base_uri": "https://localhost:8080/",
          "height": 218
        },
        "colab_type": "code",
        "id": "vTykAjscFC-F",
        "outputId": "da8a1c9f-6245-4db0-87ff-252faf87a616"
      },
      "outputs": [
        {
          "name": "stdout",
          "output_type": "stream",
          "text": [
            "<class 'pandas.core.frame.DataFrame'>\n",
            "Index: 29752 entries, 0 to 62327\n",
            "Data columns (total 5 columns):\n",
            " #   Column       Non-Null Count  Dtype  \n",
            "---  ------       --------------  -----  \n",
            " 0   dob          29752 non-null  int32  \n",
            " 1   photo_taken  29752 non-null  uint16 \n",
            " 2   full_path    29752 non-null  object \n",
            " 3   gender       29164 non-null  float64\n",
            " 4   age          29752 non-null  int64  \n",
            "dtypes: float64(1), int32(1), int64(1), object(1), uint16(1)\n",
            "memory usage: 1.1+ MB\n"
          ]
        }
      ],
      "source": [
        "df.info()     # Only gender has null values. Since, this project deals with age estimation\n",
        "              # only, we needn't worry about those. We would anyways be dropping gender\n",
        "              # column after EDA (or at least won't be feeding it to the model)"
      ]
    },
    {
      "cell_type": "code",
      "execution_count": 36,
      "metadata": {
        "colab": {
          "base_uri": "https://localhost:8080/",
          "height": 195
        },
        "colab_type": "code",
        "id": "m84G9Z35q5PN",
        "outputId": "ddf0a79c-46af-4e52-df5c-e4631448ccd4"
      },
      "outputs": [
        {
          "data": {
            "text/html": [
              "<div>\n",
              "<style scoped>\n",
              "    .dataframe tbody tr th:only-of-type {\n",
              "        vertical-align: middle;\n",
              "    }\n",
              "\n",
              "    .dataframe tbody tr th {\n",
              "        vertical-align: top;\n",
              "    }\n",
              "\n",
              "    .dataframe thead th {\n",
              "        text-align: right;\n",
              "    }\n",
              "</style>\n",
              "<table border=\"1\" class=\"dataframe\">\n",
              "  <thead>\n",
              "    <tr style=\"text-align: right;\">\n",
              "      <th></th>\n",
              "      <th>dob</th>\n",
              "      <th>photo_taken</th>\n",
              "      <th>full_path</th>\n",
              "      <th>gender</th>\n",
              "      <th>age</th>\n",
              "    </tr>\n",
              "  </thead>\n",
              "  <tbody>\n",
              "    <tr>\n",
              "      <th>0</th>\n",
              "      <td>723671</td>\n",
              "      <td>2009</td>\n",
              "      <td>[17/10000217_1981-05-05_2009.jpg]</td>\n",
              "      <td>1.0</td>\n",
              "      <td>28</td>\n",
              "    </tr>\n",
              "    <tr>\n",
              "      <th>2</th>\n",
              "      <td>711677</td>\n",
              "      <td>2008</td>\n",
              "      <td>[12/100012_1948-07-03_2008.jpg]</td>\n",
              "      <td>1.0</td>\n",
              "      <td>60</td>\n",
              "    </tr>\n",
              "    <tr>\n",
              "      <th>4</th>\n",
              "      <td>720044</td>\n",
              "      <td>2012</td>\n",
              "      <td>[16/10002116_1971-05-31_2012.jpg]</td>\n",
              "      <td>0.0</td>\n",
              "      <td>41</td>\n",
              "    </tr>\n",
              "    <tr>\n",
              "      <th>5</th>\n",
              "      <td>716189</td>\n",
              "      <td>2012</td>\n",
              "      <td>[02/10002702_1960-11-09_2012.jpg]</td>\n",
              "      <td>0.0</td>\n",
              "      <td>52</td>\n",
              "    </tr>\n",
              "    <tr>\n",
              "      <th>6</th>\n",
              "      <td>707745</td>\n",
              "      <td>1971</td>\n",
              "      <td>[41/10003541_1937-09-27_1971.jpg]</td>\n",
              "      <td>1.0</td>\n",
              "      <td>34</td>\n",
              "    </tr>\n",
              "  </tbody>\n",
              "</table>\n",
              "</div>"
            ],
            "text/plain": [
              "      dob  photo_taken                          full_path  gender  age\n",
              "0  723671         2009  [17/10000217_1981-05-05_2009.jpg]     1.0   28\n",
              "2  711677         2008    [12/100012_1948-07-03_2008.jpg]     1.0   60\n",
              "4  720044         2012  [16/10002116_1971-05-31_2012.jpg]     0.0   41\n",
              "5  716189         2012  [02/10002702_1960-11-09_2012.jpg]     0.0   52\n",
              "6  707745         1971  [41/10003541_1937-09-27_1971.jpg]     1.0   34"
            ]
          },
          "execution_count": 36,
          "metadata": {},
          "output_type": "execute_result"
        }
      ],
      "source": [
        "df.head()\n",
        "\n",
        "# GENDER: 0 - female , 1-male , NaN - unknown"
      ]
    },
    {
      "cell_type": "code",
      "execution_count": 37,
      "metadata": {
        "colab": {
          "base_uri": "https://localhost:8080/",
          "height": 284
        },
        "colab_type": "code",
        "id": "aUxOPEqMmOYO",
        "outputId": "2d15dfd3-e322-491d-880f-f97401638e27"
      },
      "outputs": [
        {
          "data": {
            "text/html": [
              "<div>\n",
              "<style scoped>\n",
              "    .dataframe tbody tr th:only-of-type {\n",
              "        vertical-align: middle;\n",
              "    }\n",
              "\n",
              "    .dataframe tbody tr th {\n",
              "        vertical-align: top;\n",
              "    }\n",
              "\n",
              "    .dataframe thead th {\n",
              "        text-align: right;\n",
              "    }\n",
              "</style>\n",
              "<table border=\"1\" class=\"dataframe\">\n",
              "  <thead>\n",
              "    <tr style=\"text-align: right;\">\n",
              "      <th></th>\n",
              "      <th>dob</th>\n",
              "      <th>photo_taken</th>\n",
              "      <th>gender</th>\n",
              "      <th>age</th>\n",
              "    </tr>\n",
              "  </thead>\n",
              "  <tbody>\n",
              "    <tr>\n",
              "      <th>count</th>\n",
              "      <td>29752.000000</td>\n",
              "      <td>29752.000000</td>\n",
              "      <td>29164.000000</td>\n",
              "      <td>29752.000000</td>\n",
              "    </tr>\n",
              "    <tr>\n",
              "      <th>mean</th>\n",
              "      <td>717926.678509</td>\n",
              "      <td>2001.257495</td>\n",
              "      <td>0.742594</td>\n",
              "      <td>36.140293</td>\n",
              "    </tr>\n",
              "    <tr>\n",
              "      <th>std</th>\n",
              "      <td>8551.286016</td>\n",
              "      <td>19.976254</td>\n",
              "      <td>0.437213</td>\n",
              "      <td>12.232321</td>\n",
              "    </tr>\n",
              "    <tr>\n",
              "      <th>min</th>\n",
              "      <td>685555.000000</td>\n",
              "      <td>1940.000000</td>\n",
              "      <td>0.000000</td>\n",
              "      <td>20.000000</td>\n",
              "    </tr>\n",
              "    <tr>\n",
              "      <th>25%</th>\n",
              "      <td>713283.750000</td>\n",
              "      <td>2006.000000</td>\n",
              "      <td>0.000000</td>\n",
              "      <td>26.000000</td>\n",
              "    </tr>\n",
              "    <tr>\n",
              "      <th>50%</th>\n",
              "      <td>720385.500000</td>\n",
              "      <td>2010.000000</td>\n",
              "      <td>1.000000</td>\n",
              "      <td>33.000000</td>\n",
              "    </tr>\n",
              "    <tr>\n",
              "      <th>75%</th>\n",
              "      <td>724720.000000</td>\n",
              "      <td>2013.000000</td>\n",
              "      <td>1.000000</td>\n",
              "      <td>45.000000</td>\n",
              "    </tr>\n",
              "    <tr>\n",
              "      <th>max</th>\n",
              "      <td>729016.000000</td>\n",
              "      <td>2015.000000</td>\n",
              "      <td>1.000000</td>\n",
              "      <td>65.000000</td>\n",
              "    </tr>\n",
              "  </tbody>\n",
              "</table>\n",
              "</div>"
            ],
            "text/plain": [
              "                 dob   photo_taken        gender           age\n",
              "count   29752.000000  29752.000000  29164.000000  29752.000000\n",
              "mean   717926.678509   2001.257495      0.742594     36.140293\n",
              "std      8551.286016     19.976254      0.437213     12.232321\n",
              "min    685555.000000   1940.000000      0.000000     20.000000\n",
              "25%    713283.750000   2006.000000      0.000000     26.000000\n",
              "50%    720385.500000   2010.000000      1.000000     33.000000\n",
              "75%    724720.000000   2013.000000      1.000000     45.000000\n",
              "max    729016.000000   2015.000000      1.000000     65.000000"
            ]
          },
          "execution_count": 37,
          "metadata": {},
          "output_type": "execute_result"
        }
      ],
      "source": [
        "df.describe()"
      ]
    },
    {
      "cell_type": "code",
      "execution_count": 38,
      "metadata": {
        "colab": {
          "base_uri": "https://localhost:8080/",
          "height": 402
        },
        "colab_type": "code",
        "id": "gWErC5CcmRRh",
        "outputId": "f59553eb-662e-4dd7-91e3-06be5dc993d0"
      },
      "outputs": [
        {
          "data": {
            "text/html": [
              "<div>\n",
              "<style scoped>\n",
              "    .dataframe tbody tr th:only-of-type {\n",
              "        vertical-align: middle;\n",
              "    }\n",
              "\n",
              "    .dataframe tbody tr th {\n",
              "        vertical-align: top;\n",
              "    }\n",
              "\n",
              "    .dataframe thead th {\n",
              "        text-align: right;\n",
              "    }\n",
              "</style>\n",
              "<table border=\"1\" class=\"dataframe\">\n",
              "  <thead>\n",
              "    <tr style=\"text-align: right;\">\n",
              "      <th></th>\n",
              "      <th>dob</th>\n",
              "      <th>photo_taken</th>\n",
              "      <th>full_path</th>\n",
              "      <th>gender</th>\n",
              "      <th>age</th>\n",
              "      <th>path</th>\n",
              "    </tr>\n",
              "  </thead>\n",
              "  <tbody>\n",
              "    <tr>\n",
              "      <th>0</th>\n",
              "      <td>723671</td>\n",
              "      <td>2009</td>\n",
              "      <td>[17/10000217_1981-05-05_2009.jpg]</td>\n",
              "      <td>1.0</td>\n",
              "      <td>28</td>\n",
              "      <td>17/10000217_1981-05-05_2009.jpg</td>\n",
              "    </tr>\n",
              "    <tr>\n",
              "      <th>2</th>\n",
              "      <td>711677</td>\n",
              "      <td>2008</td>\n",
              "      <td>[12/100012_1948-07-03_2008.jpg]</td>\n",
              "      <td>1.0</td>\n",
              "      <td>60</td>\n",
              "      <td>12/100012_1948-07-03_2008.jpg</td>\n",
              "    </tr>\n",
              "    <tr>\n",
              "      <th>4</th>\n",
              "      <td>720044</td>\n",
              "      <td>2012</td>\n",
              "      <td>[16/10002116_1971-05-31_2012.jpg]</td>\n",
              "      <td>0.0</td>\n",
              "      <td>41</td>\n",
              "      <td>16/10002116_1971-05-31_2012.jpg</td>\n",
              "    </tr>\n",
              "    <tr>\n",
              "      <th>5</th>\n",
              "      <td>716189</td>\n",
              "      <td>2012</td>\n",
              "      <td>[02/10002702_1960-11-09_2012.jpg]</td>\n",
              "      <td>0.0</td>\n",
              "      <td>52</td>\n",
              "      <td>02/10002702_1960-11-09_2012.jpg</td>\n",
              "    </tr>\n",
              "    <tr>\n",
              "      <th>6</th>\n",
              "      <td>707745</td>\n",
              "      <td>1971</td>\n",
              "      <td>[41/10003541_1937-09-27_1971.jpg]</td>\n",
              "      <td>1.0</td>\n",
              "      <td>34</td>\n",
              "      <td>41/10003541_1937-09-27_1971.jpg</td>\n",
              "    </tr>\n",
              "    <tr>\n",
              "      <th>...</th>\n",
              "      <td>...</td>\n",
              "      <td>...</td>\n",
              "      <td>...</td>\n",
              "      <td>...</td>\n",
              "      <td>...</td>\n",
              "      <td>...</td>\n",
              "    </tr>\n",
              "    <tr>\n",
              "      <th>62321</th>\n",
              "      <td>707521</td>\n",
              "      <td>1968</td>\n",
              "      <td>[38/9996938_1937-02-15_1968.jpg]</td>\n",
              "      <td>1.0</td>\n",
              "      <td>31</td>\n",
              "      <td>38/9996938_1937-02-15_1968.jpg</td>\n",
              "    </tr>\n",
              "    <tr>\n",
              "      <th>62322</th>\n",
              "      <td>709971</td>\n",
              "      <td>1968</td>\n",
              "      <td>[46/9996946_1943-11-01_1968.jpg]</td>\n",
              "      <td>1.0</td>\n",
              "      <td>25</td>\n",
              "      <td>46/9996946_1943-11-01_1968.jpg</td>\n",
              "    </tr>\n",
              "    <tr>\n",
              "      <th>62323</th>\n",
              "      <td>707582</td>\n",
              "      <td>1963</td>\n",
              "      <td>[49/9996949_1937-04-17_1963.jpg]</td>\n",
              "      <td>1.0</td>\n",
              "      <td>26</td>\n",
              "      <td>49/9996949_1937-04-17_1963.jpg</td>\n",
              "    </tr>\n",
              "    <tr>\n",
              "      <th>62325</th>\n",
              "      <td>720620</td>\n",
              "      <td>2013</td>\n",
              "      <td>[09/9998109_1972-12-27_2013.jpg]</td>\n",
              "      <td>1.0</td>\n",
              "      <td>41</td>\n",
              "      <td>09/9998109_1972-12-27_2013.jpg</td>\n",
              "    </tr>\n",
              "    <tr>\n",
              "      <th>62327</th>\n",
              "      <td>713846</td>\n",
              "      <td>2008</td>\n",
              "      <td>[80/999980_1954-06-11_2008.jpg]</td>\n",
              "      <td>0.0</td>\n",
              "      <td>54</td>\n",
              "      <td>80/999980_1954-06-11_2008.jpg</td>\n",
              "    </tr>\n",
              "  </tbody>\n",
              "</table>\n",
              "<p>29752 rows × 6 columns</p>\n",
              "</div>"
            ],
            "text/plain": [
              "          dob  photo_taken                          full_path  gender  age  \\\n",
              "0      723671         2009  [17/10000217_1981-05-05_2009.jpg]     1.0   28   \n",
              "2      711677         2008    [12/100012_1948-07-03_2008.jpg]     1.0   60   \n",
              "4      720044         2012  [16/10002116_1971-05-31_2012.jpg]     0.0   41   \n",
              "5      716189         2012  [02/10002702_1960-11-09_2012.jpg]     0.0   52   \n",
              "6      707745         1971  [41/10003541_1937-09-27_1971.jpg]     1.0   34   \n",
              "...       ...          ...                                ...     ...  ...   \n",
              "62321  707521         1968   [38/9996938_1937-02-15_1968.jpg]     1.0   31   \n",
              "62322  709971         1968   [46/9996946_1943-11-01_1968.jpg]     1.0   25   \n",
              "62323  707582         1963   [49/9996949_1937-04-17_1963.jpg]     1.0   26   \n",
              "62325  720620         2013   [09/9998109_1972-12-27_2013.jpg]     1.0   41   \n",
              "62327  713846         2008    [80/999980_1954-06-11_2008.jpg]     0.0   54   \n",
              "\n",
              "                                  path  \n",
              "0      17/10000217_1981-05-05_2009.jpg  \n",
              "2        12/100012_1948-07-03_2008.jpg  \n",
              "4      16/10002116_1971-05-31_2012.jpg  \n",
              "5      02/10002702_1960-11-09_2012.jpg  \n",
              "6      41/10003541_1937-09-27_1971.jpg  \n",
              "...                                ...  \n",
              "62321   38/9996938_1937-02-15_1968.jpg  \n",
              "62322   46/9996946_1943-11-01_1968.jpg  \n",
              "62323   49/9996949_1937-04-17_1963.jpg  \n",
              "62325   09/9998109_1972-12-27_2013.jpg  \n",
              "62327    80/999980_1954-06-11_2008.jpg  \n",
              "\n",
              "[29752 rows x 6 columns]"
            ]
          },
          "execution_count": 38,
          "metadata": {},
          "output_type": "execute_result"
        }
      ],
      "source": [
        "df['path'] = [str(np.squeeze(i)) for i in df['full_path']]\n",
        "df"
      ]
    },
    {
      "cell_type": "markdown",
      "metadata": {
        "colab_type": "text",
        "id": "cEpH-DpenCag"
      },
      "source": [
        "After looking at all data and their datatypes and cleaning the data, to get relevant columns,  lets analyze the data and its distribution, for better understanding of dataset."
      ]
    },
    {
      "cell_type": "markdown",
      "metadata": {
        "colab_type": "text",
        "id": "ZOvajklsnS0W"
      },
      "source": [
        "## EDA (Exploratory Data Analysis)"
      ]
    },
    {
      "cell_type": "code",
      "execution_count": 39,
      "metadata": {
        "colab": {
          "base_uri": "https://localhost:8080/",
          "height": 388
        },
        "colab_type": "code",
        "id": "ekOeTc2Lq9kC",
        "outputId": "a5f74b54-7557-4b11-f356-03374444f6b5"
      },
      "outputs": [
        {
          "data": {
            "image/png": "[encoded data removed]",
            "text/plain": [
              "<Figure size 1000x600 with 1 Axes>"
            ]
          },
          "metadata": {},
          "output_type": "display_data"
        }
      ],
      "source": [
        "df['age'].hist(bins=df['age'].nunique(),color='g',figsize=(10,6))  \n",
        "\n",
        "# Pretty obvious that a large chunk of population in training data is from 20 to 60. Sort of bell-shaped curve (Gaussian Distribution)-   very non uniform\n",
        "\n",
        "plt.xlabel('Age')\n",
        "plt.ylabel('No. of people')\n",
        "plt.show()"
      ]
    },
    {
      "cell_type": "markdown",
      "metadata": {
        "colab_type": "text",
        "id": "dnxEi1qDtQvP"
      },
      "source": [
        "Pretty obvious that a large chunk of population in training data is from 20 to 60. Sort of bell-shaped curve (Gaussian Distribution) -very non uniform.\n",
        "\n",
        "\n",
        "Mean age is 38.492"
      ]
    },
    {
      "cell_type": "code",
      "execution_count": 40,
      "metadata": {
        "colab": {
          "base_uri": "https://localhost:8080/",
          "height": 313
        },
        "colab_type": "code",
        "id": "7bKLTpIuXxPj",
        "outputId": "8c3f4f95-71e1-4c2d-8e64-0062b56e695f"
      },
      "outputs": [
        {
          "data": {
            "image/png": "[encoded data removed]",
            "text/plain": [
              "<Figure size 640x480 with 1 Axes>"
            ]
          },
          "metadata": {},
          "output_type": "display_data"
        }
      ],
      "source": [
        "x1 = df[df['gender']==1]['gender'].count()\n",
        "x2 = df[df['gender']==0]['gender'].count()\n",
        "inp = [x1,x2,650]\n",
        "lab = ['Male', 'Female', 'Unknown']\n",
        "\n",
        "plt.pie(inp, labels=lab,radius=1.6,autopct='%.1f%%')\n",
        "plt.show()\n",
        "\n",
        "# Clearly, the dataset is heavily imbalanced in favour of males"
      ]
    },
    {
      "cell_type": "code",
      "execution_count": 41,
      "metadata": {
        "colab": {
          "base_uri": "https://localhost:8080/",
          "height": 450
        },
        "colab_type": "code",
        "id": "ZxGsjIYvRkiR",
        "outputId": "746a12a1-23fb-4089-affe-86c1613d230c"
      },
      "outputs": [
        {
          "data": {
            "image/png": "[encoded data removed]",
            "text/plain": [
              "<Figure size 2300x600 with 1 Axes>"
            ]
          },
          "metadata": {},
          "output_type": "display_data"
        }
      ],
      "source": [
        "x = df.sort_values(by='photo_taken')\n",
        "\n",
        "fig= plt.figure(figsize=(23,6))                        # width and height of plot in unit inches\n",
        "axes= fig.add_axes([0.1,0.1,0.8,0.8])\n",
        "axes.plot(x['photo_taken'],x['age'])\n",
        "plt.title('Correlation b/w Age and time when photo was taken\\n')\n",
        "plt.xlabel('\\nTime of photo')\n",
        "plt.ylabel('Age')\n",
        "plt.show()\n",
        "\n",
        "# Shows that irrespective of when photo was taken, almost always ppl between 20-70 have been covered.\n"
      ]
    },
    {
      "cell_type": "markdown",
      "metadata": {
        "colab_type": "text",
        "id": "KVeucT4DUbct"
      },
      "source": [
        "The above graph, just tells us that people of different age groups were there irrespective of when the photo was taken. It does NOT tell us about the number of photos taken for each group. For that, let's plot the mean age for each year in which photo was taken"
      ]
    },
    {
      "cell_type": "markdown",
      "metadata": {
        "colab_type": "text",
        "id": "MAkp9xW1U1U5"
      },
      "source": [
        "### Pixel based EDA on images"
      ]
    },
    {
      "cell_type": "code",
      "execution_count": 42,
      "metadata": {
        "colab": {},
        "colab_type": "code",
        "id": "Q2t1AD_PJJ7J"
      },
      "outputs": [
        {
          "name": "stderr",
          "output_type": "stream",
          "text": [
            "/Users/rachana/miniforge3/envs/moon/lib/python3.10/site-packages/PIL/TiffImagePlugin.py:870: UserWarning: Corrupt EXIF data.  Expecting to read 2 bytes but only got 0. \n",
            "  warnings.warn(str(msg))\n"
          ]
        }
      ],
      "source": [
        "# For further EDA on images itself, we need to extract their pixel values. These pixel values won't have any use other than in EDA\n",
        "\n",
        "target_size = (180, 180)\n",
        " \n",
        "def get_image_pixel(image_path):\n",
        "    pic = load_img(\"/Users/rachana/Rachana_Python_VS/age_detection/wiki/%s\" % image_path[0],target_size=target_size)\n",
        "    x = img_to_array(pic).reshape(1, -1)[0]\n",
        "    return x\n",
        " \n",
        "df['pixels'] = df['full_path'].apply(get_image_pixel)"
      ]
    },
    {
      "cell_type": "markdown",
      "metadata": {
        "colab_type": "text",
        "id": "StRR5CxNbd26"
      },
      "source": [
        "* Keras provides the `load_img()` function for loading an image from file as a \n",
        "PIL image object. \n",
        "\n",
        "The `load_img()` function provides additional arguments that may be useful when loading the image, such as **grayscale** that allows the image to be loaded in grayscale (defaults to False), **color_mode** that allows the image mode or channel format to be specified (defaults to rgb), and **target_size** that allows a tuple of (height, width) to be specified, resizing the image automatically after being loaded.\n",
        "\n",
        "\n",
        "* Keras provides the `img_to_array()` function for converting a loaded image in PIL format into a NumPy array for use with deep learning models.\n",
        "\n",
        "The numpy array essentially is the  pixel data."
      ]
    },
    {
      "cell_type": "code",
      "execution_count": 25,
      "metadata": {
        "colab": {
          "base_uri": "https://localhost:8080/",
          "height": 195
        },
        "colab_type": "code",
        "id": "gMwJid8pE0dO",
        "outputId": "b7c9707b-6c2a-4b45-ad57-2dfa44fbb459"
      },
      "outputs": [
        {
          "data": {
            "text/html": [
              "<div>\n",
              "<style scoped>\n",
              "    .dataframe tbody tr th:only-of-type {\n",
              "        vertical-align: middle;\n",
              "    }\n",
              "\n",
              "    .dataframe tbody tr th {\n",
              "        vertical-align: top;\n",
              "    }\n",
              "\n",
              "    .dataframe thead th {\n",
              "        text-align: right;\n",
              "    }\n",
              "</style>\n",
              "<table border=\"1\" class=\"dataframe\">\n",
              "  <thead>\n",
              "    <tr style=\"text-align: right;\">\n",
              "      <th></th>\n",
              "      <th>dob</th>\n",
              "      <th>photo_taken</th>\n",
              "      <th>full_path</th>\n",
              "      <th>gender</th>\n",
              "      <th>age</th>\n",
              "      <th>path</th>\n",
              "      <th>pixels</th>\n",
              "    </tr>\n",
              "  </thead>\n",
              "  <tbody>\n",
              "    <tr>\n",
              "      <th>0</th>\n",
              "      <td>723671</td>\n",
              "      <td>2009</td>\n",
              "      <td>[17/10000217_1981-05-05_2009.jpg]</td>\n",
              "      <td>1.0</td>\n",
              "      <td>28</td>\n",
              "      <td>17/10000217_1981-05-05_2009.jpg</td>\n",
              "      <td>[252.0, 252.0, 240.0, 253.0, 253.0, 241.0, 253...</td>\n",
              "    </tr>\n",
              "    <tr>\n",
              "      <th>2</th>\n",
              "      <td>711677</td>\n",
              "      <td>2008</td>\n",
              "      <td>[12/100012_1948-07-03_2008.jpg]</td>\n",
              "      <td>1.0</td>\n",
              "      <td>60</td>\n",
              "      <td>12/100012_1948-07-03_2008.jpg</td>\n",
              "      <td>[91.0, 95.0, 96.0, 89.0, 93.0, 94.0, 88.0, 92....</td>\n",
              "    </tr>\n",
              "    <tr>\n",
              "      <th>4</th>\n",
              "      <td>720044</td>\n",
              "      <td>2012</td>\n",
              "      <td>[16/10002116_1971-05-31_2012.jpg]</td>\n",
              "      <td>0.0</td>\n",
              "      <td>41</td>\n",
              "      <td>16/10002116_1971-05-31_2012.jpg</td>\n",
              "      <td>[49.0, 8.0, 2.0, 49.0, 8.0, 2.0, 49.0, 8.0, 2....</td>\n",
              "    </tr>\n",
              "    <tr>\n",
              "      <th>5</th>\n",
              "      <td>716189</td>\n",
              "      <td>2012</td>\n",
              "      <td>[02/10002702_1960-11-09_2012.jpg]</td>\n",
              "      <td>0.0</td>\n",
              "      <td>52</td>\n",
              "      <td>02/10002702_1960-11-09_2012.jpg</td>\n",
              "      <td>[120.0, 101.0, 87.0, 116.0, 96.0, 85.0, 95.0, ...</td>\n",
              "    </tr>\n",
              "    <tr>\n",
              "      <th>6</th>\n",
              "      <td>707745</td>\n",
              "      <td>1971</td>\n",
              "      <td>[41/10003541_1937-09-27_1971.jpg]</td>\n",
              "      <td>1.0</td>\n",
              "      <td>34</td>\n",
              "      <td>41/10003541_1937-09-27_1971.jpg</td>\n",
              "      <td>[198.0, 198.0, 200.0, 196.0, 195.0, 201.0, 194...</td>\n",
              "    </tr>\n",
              "  </tbody>\n",
              "</table>\n",
              "</div>"
            ],
            "text/plain": [
              "      dob  photo_taken                          full_path  gender  age  \\\n",
              "0  723671         2009  [17/10000217_1981-05-05_2009.jpg]     1.0   28   \n",
              "2  711677         2008    [12/100012_1948-07-03_2008.jpg]     1.0   60   \n",
              "4  720044         2012  [16/10002116_1971-05-31_2012.jpg]     0.0   41   \n",
              "5  716189         2012  [02/10002702_1960-11-09_2012.jpg]     0.0   52   \n",
              "6  707745         1971  [41/10003541_1937-09-27_1971.jpg]     1.0   34   \n",
              "\n",
              "                              path  \\\n",
              "0  17/10000217_1981-05-05_2009.jpg   \n",
              "2    12/100012_1948-07-03_2008.jpg   \n",
              "4  16/10002116_1971-05-31_2012.jpg   \n",
              "5  02/10002702_1960-11-09_2012.jpg   \n",
              "6  41/10003541_1937-09-27_1971.jpg   \n",
              "\n",
              "                                              pixels  \n",
              "0  [252.0, 252.0, 240.0, 253.0, 253.0, 241.0, 253...  \n",
              "2  [91.0, 95.0, 96.0, 89.0, 93.0, 94.0, 88.0, 92....  \n",
              "4  [49.0, 8.0, 2.0, 49.0, 8.0, 2.0, 49.0, 8.0, 2....  \n",
              "5  [120.0, 101.0, 87.0, 116.0, 96.0, 85.0, 95.0, ...  \n",
              "6  [198.0, 198.0, 200.0, 196.0, 195.0, 201.0, 194...  "
            ]
          },
          "execution_count": 25,
          "metadata": {},
          "output_type": "execute_result"
        }
      ],
      "source": [
        "df.head()"
      ]
    },
    {
      "cell_type": "code",
      "execution_count": 43,
      "metadata": {
        "colab": {
          "base_uri": "https://localhost:8080/",
          "height": 151
        },
        "colab_type": "code",
        "id": "C6SVjIr8hlFR",
        "outputId": "a297d5f4-cdc1-4631-b5d0-bc45b2728860"
      },
      "outputs": [
        {
          "data": {
            "text/plain": [
              "array([20, 21, 22, 23, 24, 25, 26, 27, 28, 29, 30, 31, 32, 33, 34, 35, 36,\n",
              "       37, 38, 39, 40, 41, 42, 43, 44, 45, 46, 47, 48, 49, 50, 51, 52, 53,\n",
              "       54, 55, 56, 57, 58, 59, 60, 61, 62, 63, 64, 65])"
            ]
          },
          "execution_count": 43,
          "metadata": {},
          "output_type": "execute_result"
        }
      ],
      "source": [
        "x = df['age']           # We have 97 unique age values with us. 2,3,4 are missing\n",
        "x = x.sort_values()\n",
        "x.unique()"
      ]
    },
    {
      "cell_type": "code",
      "execution_count": 44,
      "metadata": {
        "colab": {
          "base_uri": "https://localhost:8080/",
          "height": 34
        },
        "colab_type": "code",
        "id": "nTqHsh_sdeiF",
        "outputId": "c3af86d2-0072-4e44-e3d2-675d966ba6c5"
      },
      "outputs": [
        {
          "data": {
            "text/plain": [
              "97200"
            ]
          },
          "execution_count": 44,
          "metadata": {},
          "output_type": "execute_result"
        }
      ],
      "source": [
        "df['pixels'][0].size\n",
        "\n",
        "# Each image now is 180 x 180 x 1. Hence has 32,400 pixels (NumPy array)"
      ]
    },
    {
      "cell_type": "code",
      "execution_count": null,
      "metadata": {
        "colab": {
          "base_uri": "https://localhost:8080/",
          "height": 447
        },
        "colab_type": "code",
        "id": "BWkbZ3MUeTcf",
        "outputId": "4eb1de5d-419a-4c4f-95dd-f4acd6e22013"
      },
      "outputs": [],
      "source": [
        "# # Here, we get the average pixel value for every image\n",
        "\n",
        "# x = df.sort_values(by='age')\n",
        "# x.reset_index(inplace=True)\n",
        "\n",
        "# x['pixel_per_image'] = x['pixels']\n",
        "# x['pixel_deviation_per_image'] = x['pixels']\n",
        "\n",
        "# for i in range(34200):\n",
        "#   x['pixel_per_image'][i] = x['pixels'][i].mean()\n",
        "#   x['pixel_deviation_per_image'][i] = x['pixels'][i].max()-x['pixels'][i].min()\n",
        "\n",
        "# x.head()"
      ]
    },
    {
      "cell_type": "code",
      "execution_count": null,
      "metadata": {
        "colab": {
          "base_uri": "https://localhost:8080/",
          "height": 67
        },
        "colab_type": "code",
        "id": "85e7QWrdUWyb",
        "outputId": "2520d729-0e6c-4b1e-dab1-8cf38046703e"
      },
      "outputs": [
        {
          "name": "stdout",
          "output_type": "stream",
          "text": [
            "7.9112244\n",
            "241.59853\n",
            "106.72448830409357\n"
          ]
        }
      ],
      "source": [
        "# print(x['pixel_per_image'].min())          \n",
        "\n",
        "# print(x['pixel_per_image'].max())\n",
        "\n",
        "# print(x['pixel_per_image'].mean())     # Average pixel value across all images"
      ]
    },
    {
      "cell_type": "code",
      "execution_count": null,
      "metadata": {
        "colab": {
          "base_uri": "https://localhost:8080/",
          "height": 118
        },
        "colab_type": "code",
        "id": "J7vHBZrVu9Ep",
        "outputId": "cfc218f9-1aed-49a5-808b-5b8bc12398d0"
      },
      "outputs": [],
      "source": [
        "# pip uninstall keras-preprocessing"
      ]
    },
    {
      "cell_type": "code",
      "execution_count": null,
      "metadata": {
        "colab": {
          "base_uri": "https://localhost:8080/",
          "height": 34
        },
        "colab_type": "code",
        "id": "jiDNLcJTu-hQ",
        "outputId": "23d949ed-434b-49fe-b5c6-5ba9ef4d7968"
      },
      "outputs": [],
      "source": [
        "# pip install git+https://github.com/keras-team/keras-preprocessing.git -q"
      ]
    },
    {
      "cell_type": "code",
      "execution_count": null,
      "metadata": {},
      "outputs": [],
      "source": [
        "# # Defining a function to return the class labels corresponding to the re-distributed 7 age-ranges.\n",
        "\n",
        "# def class_labels_reassign(age):\n",
        "\n",
        "#     if 20 <= age <25:\n",
        "#         return 0\n",
        "#     elif 25 <= age < 30:\n",
        "#         return 1\n",
        "#     elif 30 <= age < 35:\n",
        "#         return 2\n",
        "#     elif 35 <= age < 40:\n",
        "#         return 3\n",
        "#     elif 40 <= age < 45:\n",
        "#         return 4\n",
        "#     elif 45 <= age < 50:\n",
        "#         return 5\n",
        "#     elif 50 <= age < 55:\n",
        "#         return 6\n",
        "#     elif 55 <= age < 60:\n",
        "#         return 6\n",
        "#     else:\n",
        "#         return 7"
      ]
    },
    {
      "cell_type": "code",
      "execution_count": null,
      "metadata": {},
      "outputs": [],
      "source": [
        "# df['ageclass'] = df['age'].map(class_labels_reassign)"
      ]
    },
    {
      "cell_type": "code",
      "execution_count": null,
      "metadata": {},
      "outputs": [
        {
          "data": {
            "text/html": [
              "<div>\n",
              "<style scoped>\n",
              "    .dataframe tbody tr th:only-of-type {\n",
              "        vertical-align: middle;\n",
              "    }\n",
              "\n",
              "    .dataframe tbody tr th {\n",
              "        vertical-align: top;\n",
              "    }\n",
              "\n",
              "    .dataframe thead th {\n",
              "        text-align: right;\n",
              "    }\n",
              "</style>\n",
              "<table border=\"1\" class=\"dataframe\">\n",
              "  <thead>\n",
              "    <tr style=\"text-align: right;\">\n",
              "      <th></th>\n",
              "      <th>dob</th>\n",
              "      <th>photo_taken</th>\n",
              "      <th>full_path</th>\n",
              "      <th>gender</th>\n",
              "      <th>age</th>\n",
              "      <th>path</th>\n",
              "      <th>pixels</th>\n",
              "      <th>ageclass</th>\n",
              "    </tr>\n",
              "  </thead>\n",
              "  <tbody>\n",
              "    <tr>\n",
              "      <th>0</th>\n",
              "      <td>723671</td>\n",
              "      <td>2009</td>\n",
              "      <td>[17/10000217_1981-05-05_2009.jpg]</td>\n",
              "      <td>1.0</td>\n",
              "      <td>28</td>\n",
              "      <td>17/10000217_1981-05-05_2009.jpg</td>\n",
              "      <td>[252.0, 252.0, 240.0, 253.0, 253.0, 241.0, 253...</td>\n",
              "      <td>1</td>\n",
              "    </tr>\n",
              "    <tr>\n",
              "      <th>2</th>\n",
              "      <td>711677</td>\n",
              "      <td>2008</td>\n",
              "      <td>[12/100012_1948-07-03_2008.jpg]</td>\n",
              "      <td>1.0</td>\n",
              "      <td>60</td>\n",
              "      <td>12/100012_1948-07-03_2008.jpg</td>\n",
              "      <td>[91.0, 95.0, 96.0, 89.0, 93.0, 94.0, 88.0, 92....</td>\n",
              "      <td>6</td>\n",
              "    </tr>\n",
              "    <tr>\n",
              "      <th>4</th>\n",
              "      <td>720044</td>\n",
              "      <td>2012</td>\n",
              "      <td>[16/10002116_1971-05-31_2012.jpg]</td>\n",
              "      <td>0.0</td>\n",
              "      <td>41</td>\n",
              "      <td>16/10002116_1971-05-31_2012.jpg</td>\n",
              "      <td>[49.0, 8.0, 2.0, 49.0, 8.0, 2.0, 49.0, 8.0, 2....</td>\n",
              "      <td>4</td>\n",
              "    </tr>\n",
              "    <tr>\n",
              "      <th>5</th>\n",
              "      <td>716189</td>\n",
              "      <td>2012</td>\n",
              "      <td>[02/10002702_1960-11-09_2012.jpg]</td>\n",
              "      <td>0.0</td>\n",
              "      <td>52</td>\n",
              "      <td>02/10002702_1960-11-09_2012.jpg</td>\n",
              "      <td>[120.0, 101.0, 87.0, 116.0, 96.0, 85.0, 95.0, ...</td>\n",
              "      <td>6</td>\n",
              "    </tr>\n",
              "    <tr>\n",
              "      <th>6</th>\n",
              "      <td>707745</td>\n",
              "      <td>1971</td>\n",
              "      <td>[41/10003541_1937-09-27_1971.jpg]</td>\n",
              "      <td>1.0</td>\n",
              "      <td>34</td>\n",
              "      <td>41/10003541_1937-09-27_1971.jpg</td>\n",
              "      <td>[198.0, 198.0, 200.0, 196.0, 195.0, 201.0, 194...</td>\n",
              "      <td>2</td>\n",
              "    </tr>\n",
              "    <tr>\n",
              "      <th>...</th>\n",
              "      <td>...</td>\n",
              "      <td>...</td>\n",
              "      <td>...</td>\n",
              "      <td>...</td>\n",
              "      <td>...</td>\n",
              "      <td>...</td>\n",
              "      <td>...</td>\n",
              "      <td>...</td>\n",
              "    </tr>\n",
              "    <tr>\n",
              "      <th>62321</th>\n",
              "      <td>707521</td>\n",
              "      <td>1968</td>\n",
              "      <td>[38/9996938_1937-02-15_1968.jpg]</td>\n",
              "      <td>1.0</td>\n",
              "      <td>31</td>\n",
              "      <td>38/9996938_1937-02-15_1968.jpg</td>\n",
              "      <td>[71.0, 71.0, 71.0, 71.0, 71.0, 71.0, 71.0, 71....</td>\n",
              "      <td>2</td>\n",
              "    </tr>\n",
              "    <tr>\n",
              "      <th>62322</th>\n",
              "      <td>709971</td>\n",
              "      <td>1968</td>\n",
              "      <td>[46/9996946_1943-11-01_1968.jpg]</td>\n",
              "      <td>1.0</td>\n",
              "      <td>25</td>\n",
              "      <td>46/9996946_1943-11-01_1968.jpg</td>\n",
              "      <td>[57.0, 57.0, 57.0, 43.0, 43.0, 43.0, 68.0, 68....</td>\n",
              "      <td>1</td>\n",
              "    </tr>\n",
              "    <tr>\n",
              "      <th>62323</th>\n",
              "      <td>707582</td>\n",
              "      <td>1963</td>\n",
              "      <td>[49/9996949_1937-04-17_1963.jpg]</td>\n",
              "      <td>1.0</td>\n",
              "      <td>26</td>\n",
              "      <td>49/9996949_1937-04-17_1963.jpg</td>\n",
              "      <td>[48.0, 48.0, 48.0, 46.0, 46.0, 46.0, 47.0, 47....</td>\n",
              "      <td>1</td>\n",
              "    </tr>\n",
              "    <tr>\n",
              "      <th>62325</th>\n",
              "      <td>720620</td>\n",
              "      <td>2013</td>\n",
              "      <td>[09/9998109_1972-12-27_2013.jpg]</td>\n",
              "      <td>1.0</td>\n",
              "      <td>41</td>\n",
              "      <td>09/9998109_1972-12-27_2013.jpg</td>\n",
              "      <td>[142.0, 176.0, 100.0, 142.0, 176.0, 100.0, 142...</td>\n",
              "      <td>4</td>\n",
              "    </tr>\n",
              "    <tr>\n",
              "      <th>62327</th>\n",
              "      <td>713846</td>\n",
              "      <td>2008</td>\n",
              "      <td>[80/999980_1954-06-11_2008.jpg]</td>\n",
              "      <td>0.0</td>\n",
              "      <td>54</td>\n",
              "      <td>80/999980_1954-06-11_2008.jpg</td>\n",
              "      <td>[26.0, 22.0, 13.0, 80.0, 80.0, 72.0, 31.0, 32....</td>\n",
              "      <td>6</td>\n",
              "    </tr>\n",
              "  </tbody>\n",
              "</table>\n",
              "<p>34200 rows × 8 columns</p>\n",
              "</div>"
            ],
            "text/plain": [
              "          dob  photo_taken                          full_path  gender  age  \\\n",
              "0      723671         2009  [17/10000217_1981-05-05_2009.jpg]     1.0   28   \n",
              "2      711677         2008    [12/100012_1948-07-03_2008.jpg]     1.0   60   \n",
              "4      720044         2012  [16/10002116_1971-05-31_2012.jpg]     0.0   41   \n",
              "5      716189         2012  [02/10002702_1960-11-09_2012.jpg]     0.0   52   \n",
              "6      707745         1971  [41/10003541_1937-09-27_1971.jpg]     1.0   34   \n",
              "...       ...          ...                                ...     ...  ...   \n",
              "62321  707521         1968   [38/9996938_1937-02-15_1968.jpg]     1.0   31   \n",
              "62322  709971         1968   [46/9996946_1943-11-01_1968.jpg]     1.0   25   \n",
              "62323  707582         1963   [49/9996949_1937-04-17_1963.jpg]     1.0   26   \n",
              "62325  720620         2013   [09/9998109_1972-12-27_2013.jpg]     1.0   41   \n",
              "62327  713846         2008    [80/999980_1954-06-11_2008.jpg]     0.0   54   \n",
              "\n",
              "                                  path  \\\n",
              "0      17/10000217_1981-05-05_2009.jpg   \n",
              "2        12/100012_1948-07-03_2008.jpg   \n",
              "4      16/10002116_1971-05-31_2012.jpg   \n",
              "5      02/10002702_1960-11-09_2012.jpg   \n",
              "6      41/10003541_1937-09-27_1971.jpg   \n",
              "...                                ...   \n",
              "62321   38/9996938_1937-02-15_1968.jpg   \n",
              "62322   46/9996946_1943-11-01_1968.jpg   \n",
              "62323   49/9996949_1937-04-17_1963.jpg   \n",
              "62325   09/9998109_1972-12-27_2013.jpg   \n",
              "62327    80/999980_1954-06-11_2008.jpg   \n",
              "\n",
              "                                                  pixels  ageclass  \n",
              "0      [252.0, 252.0, 240.0, 253.0, 253.0, 241.0, 253...         1  \n",
              "2      [91.0, 95.0, 96.0, 89.0, 93.0, 94.0, 88.0, 92....         6  \n",
              "4      [49.0, 8.0, 2.0, 49.0, 8.0, 2.0, 49.0, 8.0, 2....         4  \n",
              "5      [120.0, 101.0, 87.0, 116.0, 96.0, 85.0, 95.0, ...         6  \n",
              "6      [198.0, 198.0, 200.0, 196.0, 195.0, 201.0, 194...         2  \n",
              "...                                                  ...       ...  \n",
              "62321  [71.0, 71.0, 71.0, 71.0, 71.0, 71.0, 71.0, 71....         2  \n",
              "62322  [57.0, 57.0, 57.0, 43.0, 43.0, 43.0, 68.0, 68....         1  \n",
              "62323  [48.0, 48.0, 48.0, 46.0, 46.0, 46.0, 47.0, 47....         1  \n",
              "62325  [142.0, 176.0, 100.0, 142.0, 176.0, 100.0, 142...         4  \n",
              "62327  [26.0, 22.0, 13.0, 80.0, 80.0, 72.0, 31.0, 32....         6  \n",
              "\n",
              "[34200 rows x 8 columns]"
            ]
          },
          "execution_count": 35,
          "metadata": {},
          "output_type": "execute_result"
        }
      ],
      "source": [
        "df"
      ]
    },
    {
      "cell_type": "markdown",
      "metadata": {
        "colab_type": "text",
        "id": "6RJsPNTgEbl3"
      },
      "source": [
        "## Image Data Generator\n",
        "\n",
        "Image Data Generator is used to artificially expand a dataset by creating modified versions of images or other data points.It is a powerful technique that can help improve the performance, generalization, and robustness of machine learning models\n",
        "\n",
        "**Note: Only augment images in train set. Validation/test set images must not be augmented.**"
      ]
    },
    {
      "cell_type": "code",
      "execution_count": 45,
      "metadata": {
        "colab": {},
        "colab_type": "code",
        "id": "tomAfP8gCXa1"
      },
      "outputs": [],
      "source": [
        "from sklearn.model_selection import train_test_split\n",
        "# Split the DataFrame into train and test\n",
        "train, val = train_test_split(df, test_size=0.2, random_state=42)"
      ]
    },
    {
      "cell_type": "code",
      "execution_count": 46,
      "metadata": {
        "colab": {
          "base_uri": "https://localhost:8080/",
          "height": 50
        },
        "colab_type": "code",
        "id": "7pWxZSxzvMW7",
        "outputId": "2f3bea6a-d3bf-4bb5-cf03-6f3323739fcf"
      },
      "outputs": [
        {
          "name": "stdout",
          "output_type": "stream",
          "text": [
            "Found 23801 validated image filenames.\n",
            "Found 5951 validated image filenames.\n"
          ]
        }
      ],
      "source": [
        "train_datagen=ImageDataGenerator(rescale=1./255.,                # IDG instance\n",
        "                           rotation_range=25,\n",
        "                           brightness_range=[0.7,1.3],\n",
        "                           zoom_range=0.5,\n",
        "                           horizontal_flip=True)    \n",
        "\n",
        "\n",
        "valid_datagen=ImageDataGenerator(rescale=1./255.)                # IDG instance\n",
        "                           \n",
        "\n",
        "train_generator = train_datagen.flow_from_dataframe(\n",
        "    dataframe=train,\n",
        "    directory='/Users/rachana/Rachana_Python_VS/age_detection/wiki',\n",
        "    x_col=\"path\",\n",
        "    y_col=\"age\",\n",
        "    batch_size=64,\n",
        "    seed=42,\n",
        "    shuffle=True,\n",
        "    class_mode=\"raw\",\n",
        "    target_size=(180,180))\n",
        "\n",
        "valid_generator=valid_datagen.flow_from_dataframe(\n",
        "    dataframe=val,\n",
        "    directory=\"/Users/rachana/Rachana_Python_VS/age_detection/wiki\",\n",
        "    x_col=\"path\",\n",
        "    y_col=\"age\",\n",
        "    batch_size=64,\n",
        "    seed=42,\n",
        "    shuffle=True,\n",
        "    class_mode=\"raw\",\n",
        "    target_size=(180,180))"
      ]
    },
    {
      "cell_type": "code",
      "execution_count": 30,
      "metadata": {},
      "outputs": [
        {
          "data": {
            "text/plain": [
              "372"
            ]
          },
          "execution_count": 30,
          "metadata": {},
          "output_type": "execute_result"
        }
      ],
      "source": [
        "len(train_generator)"
      ]
    },
    {
      "cell_type": "markdown",
      "metadata": {
        "colab_type": "text",
        "id": "vMvOFy5qVtOC"
      },
      "source": [
        "## Model Architecture\n",
        "Age estimation is a regression problem. \n"
      ]
    },
    {
      "cell_type": "code",
      "execution_count": null,
      "metadata": {
        "colab": {},
        "colab_type": "code",
        "id": "kYqUhLsjsLco"
      },
      "outputs": [],
      "source": [
        "from keras.models import Model\n",
        "from keras.layers import BatchNormalization\n",
        "from keras.layers import SeparableConv2D\n",
        "from keras.layers import MaxPooling2D\n",
        "from keras.layers import SpatialDropout2D\n",
        "from keras.layers import Activation\n",
        "from keras.layers import Dropout\n",
        "from keras.layers import Lambda\n",
        "from keras.layers import Dense\n",
        "from keras.layers import Flatten\n",
        "from keras.layers import Input\n",
        "from keras.regularizers import l1_l2\n",
        "\n",
        "input_shape = (180, 180, 3)\n",
        "inputs = Input(shape=input_shape)\n",
        "\n",
        "x = SeparableConv2D(64, (3, 3), padding=\"same\")(inputs)\n",
        "x = Activation(\"relu\")(x)\n",
        "x = MaxPooling2D(pool_size=(2, 2))(x)\n",
        "x = BatchNormalization()(x)\n",
        "\n",
        "x = SeparableConv2D(128, (3, 3), padding=\"same\")(x)\n",
        "x = Activation(\"relu\")(x)\n",
        "x = MaxPooling2D(pool_size=(2, 2))(x)\n",
        "x = BatchNormalization()(x)\n",
        "\n",
        "x = SeparableConv2D(128, (3, 3), padding=\"same\")(x)\n",
        "x = Activation(\"relu\")(x)\n",
        "x = MaxPooling2D(pool_size=(2, 2))(x)\n",
        "x = SpatialDropout2D(0.15)(x)\n",
        "x = BatchNormalization()(x)\n",
        "\n",
        "x = SeparableConv2D(256, (3, 3), padding=\"same\")(x)\n",
        "x = Activation(\"relu\")(x)\n",
        "x = MaxPooling2D(pool_size=(2, 2))(x)\n",
        "x = SpatialDropout2D(0.15)(x)\n",
        "x = BatchNormalization()(x)\n",
        "\n",
        "x = SeparableConv2D(256, (3, 3), padding=\"same\")(x)\n",
        "x = Activation(\"relu\")(x)\n",
        "x = MaxPooling2D(pool_size=(2, 2))(x)\n",
        "x = SpatialDropout2D(0.15)(x)\n",
        "x = BatchNormalization()(x)\n",
        "\n",
        "x = Flatten()(x)\n",
        "\n",
        "x = Dense(128)(x)\n",
        "x = Activation(\"relu\")(x)\n",
        "x = Dropout(0.30)(x)\n",
        "x = BatchNormalization()(x)\n",
        "\n",
        "x = Dense(64)(x)\n",
        "x = Activation(\"relu\")(x)\n",
        "x = Dropout(0.30)(x)\n",
        "x = BatchNormalization()(x)\n",
        "\n",
        "x = Dense(64)(x)\n",
        "x = Activation(\"relu\")(x)\n",
        "x = Dropout(0.20)(x)\n",
        "x = BatchNormalization()(x)\n",
        "\n",
        "x = Dense(1)(x)\n",
        "x = Activation(\"relu\")(x)           # linear also works. But relu is better\n",
        "\n",
        "age_model = Model(inputs=inputs, outputs=x)"
      ]
    },
    {
      "cell_type": "code",
      "execution_count": null,
      "metadata": {
        "colab": {
          "base_uri": "https://localhost:8080/",
          "height": 1000
        },
        "colab_type": "code",
        "id": "7YxXUKe5-cke",
        "outputId": "eeb06ab9-fcb5-4c5a-c97c-b0a482bc3e6c"
      },
      "outputs": [
        {
          "name": "stdout",
          "output_type": "stream",
          "text": [
            "Model: \"model\"\n",
            "_________________________________________________________________\n",
            " Layer (type)                Output Shape              Param #   \n",
            "=================================================================\n",
            " input_1 (InputLayer)        [(None, 180, 180, 3)]     0         \n",
            "                                                                 \n",
            " separable_conv2d (Separabl  (None, 180, 180, 64)      283       \n",
            " eConv2D)                                                        \n",
            "                                                                 \n",
            " activation (Activation)     (None, 180, 180, 64)      0         \n",
            "                                                                 \n",
            " max_pooling2d (MaxPooling2  (None, 90, 90, 64)        0         \n",
            " D)                                                              \n",
            "                                                                 \n",
            " batch_normalization (Batch  (None, 90, 90, 64)        256       \n",
            " Normalization)                                                  \n",
            "                                                                 \n",
            " separable_conv2d_1 (Separa  (None, 90, 90, 128)       8896      \n",
            " bleConv2D)                                                      \n",
            "                                                                 \n",
            " activation_1 (Activation)   (None, 90, 90, 128)       0         \n",
            "                                                                 \n",
            " max_pooling2d_1 (MaxPoolin  (None, 45, 45, 128)       0         \n",
            " g2D)                                                            \n",
            "                                                                 \n",
            " batch_normalization_1 (Bat  (None, 45, 45, 128)       512       \n",
            " chNormalization)                                                \n",
            "                                                                 \n",
            " separable_conv2d_2 (Separa  (None, 45, 45, 128)       17664     \n",
            " bleConv2D)                                                      \n",
            "                                                                 \n",
            " activation_2 (Activation)   (None, 45, 45, 128)       0         \n",
            "                                                                 \n",
            " max_pooling2d_2 (MaxPoolin  (None, 22, 22, 128)       0         \n",
            " g2D)                                                            \n",
            "                                                                 \n",
            " spatial_dropout2d (Spatial  (None, 22, 22, 128)       0         \n",
            " Dropout2D)                                                      \n",
            "                                                                 \n",
            " batch_normalization_2 (Bat  (None, 22, 22, 128)       512       \n",
            " chNormalization)                                                \n",
            "                                                                 \n",
            " separable_conv2d_3 (Separa  (None, 22, 22, 256)       34176     \n",
            " bleConv2D)                                                      \n",
            "                                                                 \n",
            " activation_3 (Activation)   (None, 22, 22, 256)       0         \n",
            "                                                                 \n",
            " max_pooling2d_3 (MaxPoolin  (None, 11, 11, 256)       0         \n",
            " g2D)                                                            \n",
            "                                                                 \n",
            " spatial_dropout2d_1 (Spati  (None, 11, 11, 256)       0         \n",
            " alDropout2D)                                                    \n",
            "                                                                 \n",
            " batch_normalization_3 (Bat  (None, 11, 11, 256)       1024      \n",
            " chNormalization)                                                \n",
            "                                                                 \n",
            " separable_conv2d_4 (Separa  (None, 11, 11, 256)       68096     \n",
            " bleConv2D)                                                      \n",
            "                                                                 \n",
            " activation_4 (Activation)   (None, 11, 11, 256)       0         \n",
            "                                                                 \n",
            " max_pooling2d_4 (MaxPoolin  (None, 5, 5, 256)         0         \n",
            " g2D)                                                            \n",
            "                                                                 \n",
            " spatial_dropout2d_2 (Spati  (None, 5, 5, 256)         0         \n",
            " alDropout2D)                                                    \n",
            "                                                                 \n",
            " batch_normalization_4 (Bat  (None, 5, 5, 256)         1024      \n",
            " chNormalization)                                                \n",
            "                                                                 \n",
            " flatten (Flatten)           (None, 6400)              0         \n",
            "                                                                 \n",
            " dense (Dense)               (None, 128)               819328    \n",
            "                                                                 \n",
            " activation_5 (Activation)   (None, 128)               0         \n",
            "                                                                 \n",
            " dropout (Dropout)           (None, 128)               0         \n",
            "                                                                 \n",
            " batch_normalization_5 (Bat  (None, 128)               512       \n",
            " chNormalization)                                                \n",
            "                                                                 \n",
            " dense_1 (Dense)             (None, 64)                8256      \n",
            "                                                                 \n",
            " activation_6 (Activation)   (None, 64)                0         \n",
            "                                                                 \n",
            " dropout_1 (Dropout)         (None, 64)                0         \n",
            "                                                                 \n",
            " batch_normalization_6 (Bat  (None, 64)                256       \n",
            " chNormalization)                                                \n",
            "                                                                 \n",
            " dense_2 (Dense)             (None, 64)                4160      \n",
            "                                                                 \n",
            " activation_7 (Activation)   (None, 64)                0         \n",
            "                                                                 \n",
            " dropout_2 (Dropout)         (None, 64)                0         \n",
            "                                                                 \n",
            " batch_normalization_7 (Bat  (None, 64)                256       \n",
            " chNormalization)                                                \n",
            "                                                                 \n",
            " dense_3 (Dense)             (None, 1)                 65        \n",
            "                                                                 \n",
            " activation_8 (Activation)   (None, 1)                 0         \n",
            "                                                                 \n",
            "=================================================================\n",
            "Total params: 965276 (3.68 MB)\n",
            "Trainable params: 963100 (3.67 MB)\n",
            "Non-trainable params: 2176 (8.50 KB)\n",
            "_________________________________________________________________\n"
          ]
        }
      ],
      "source": [
        "age_model.summary()"
      ]
    },
    {
      "cell_type": "code",
      "execution_count": 31,
      "metadata": {},
      "outputs": [
        {
          "ename": "NameError",
          "evalue": "name 'age_model' is not defined",
          "output_type": "error",
          "traceback": [
            "\u001b[0;31m---------------------------------------------------------------------------\u001b[0m",
            "\u001b[0;31mNameError\u001b[0m                                 Traceback (most recent call last)",
            "\u001b[1;32m/Users/rachana/Rachana_Python_VS/age_detection/age_detection_prediction.ipynb Cell 53\u001b[0m line \u001b[0;36m1\n\u001b[0;32m----> <a href='vscode-notebook-cell:/Users/rachana/Rachana_Python_VS/age_detection/age_detection_prediction.ipynb#Y103sZmlsZQ%3D%3D?line=0'>1</a>\u001b[0m age_model\u001b[39m.\u001b[39mcompile(loss\u001b[39m=\u001b[39m\u001b[39m'\u001b[39m\u001b[39mmse\u001b[39m\u001b[39m'\u001b[39m, optimizer\u001b[39m=\u001b[39m\u001b[39m'\u001b[39m\u001b[39mAdam\u001b[39m\u001b[39m'\u001b[39m, metrics\u001b[39m=\u001b[39m[\u001b[39m'\u001b[39m\u001b[39mmae\u001b[39m\u001b[39m'\u001b[39m,\u001b[39m'\u001b[39m\u001b[39mmse\u001b[39m\u001b[39m'\u001b[39m])\n",
            "\u001b[0;31mNameError\u001b[0m: name 'age_model' is not defined"
          ]
        }
      ],
      "source": [
        "age_model.compile(loss='mse', optimizer='Adam', metrics=['mae','mse'])"
      ]
    },
    {
      "cell_type": "code",
      "execution_count": 32,
      "metadata": {},
      "outputs": [],
      "source": [
        "filepath='/Users/rachana/Rachana_Python_VS/age_gender/model/agemodelp.h5'\n",
        "from keras import callbacks\n",
        "checkpoint = callbacks.ModelCheckpoint(filepath, monitor='val_loss', verbose=1, save_best_only=True, mode='min')"
      ]
    },
    {
      "cell_type": "code",
      "execution_count": null,
      "metadata": {},
      "outputs": [
        {
          "name": "stdout",
          "output_type": "stream",
          "text": [
            "Epoch 1/60\n",
            "372/372 [==============================] - ETA: 0s - loss: 298.3463 - mae: 11.9568 - mse: 298.3463\n",
            "Epoch 1: val_loss improved from 222.84854 to 130.74478, saving model to /Users/rachana/Rachana_Python_VS/age_gender/model/agemodelp.h5\n",
            "372/372 [==============================] - 258s 694ms/step - loss: 298.3463 - mae: 11.9568 - mse: 298.3463 - val_loss: 130.7448 - val_mae: 9.3585 - val_mse: 130.7448\n",
            "Epoch 2/60\n",
            "372/372 [==============================] - ETA: 0s - loss: 140.8431 - mae: 9.7716 - mse: 140.8431\n",
            "Epoch 2: val_loss did not improve from 130.74478\n",
            "372/372 [==============================] - 256s 686ms/step - loss: 140.8431 - mae: 9.7716 - mse: 140.8431 - val_loss: 135.9767 - val_mae: 9.2208 - val_mse: 135.9767\n",
            "Epoch 3/60\n",
            "372/372 [==============================] - ETA: 0s - loss: 134.6801 - mae: 9.5309 - mse: 134.6801\n",
            "Epoch 3: val_loss improved from 130.74478 to 129.15985, saving model to /Users/rachana/Rachana_Python_VS/age_gender/model/agemodelp.h5\n",
            "372/372 [==============================] - 251s 672ms/step - loss: 134.6801 - mae: 9.5309 - mse: 134.6801 - val_loss: 129.1599 - val_mae: 9.2723 - val_mse: 129.1599\n",
            "Epoch 4/60\n",
            "372/372 [==============================] - ETA: 0s - loss: 131.4418 - mae: 9.3877 - mse: 131.4418\n",
            "Epoch 4: val_loss improved from 129.15985 to 125.58406, saving model to /Users/rachana/Rachana_Python_VS/age_gender/model/agemodelp.h5\n",
            "372/372 [==============================] - 266s 715ms/step - loss: 131.4418 - mae: 9.3877 - mse: 131.4418 - val_loss: 125.5841 - val_mae: 9.0226 - val_mse: 125.5841\n",
            "Epoch 5/60\n",
            "372/372 [==============================] - ETA: 0s - loss: 129.4966 - mae: 9.3001 - mse: 129.4966\n",
            "Epoch 5: val_loss did not improve from 125.58406\n",
            "372/372 [==============================] - 275s 736ms/step - loss: 129.4966 - mae: 9.3001 - mse: 129.4966 - val_loss: 132.5549 - val_mae: 9.4171 - val_mse: 132.5549\n",
            "Epoch 6/60\n",
            "372/372 [==============================] - ETA: 0s - loss: 127.2462 - mae: 9.2171 - mse: 127.2462\n",
            "Epoch 6: val_loss did not improve from 125.58406\n",
            "372/372 [==============================] - 291s 780ms/step - loss: 127.2462 - mae: 9.2171 - mse: 127.2462 - val_loss: 126.7138 - val_mae: 8.9639 - val_mse: 126.7138\n",
            "Epoch 7/60\n",
            "372/372 [==============================] - ETA: 0s - loss: 126.8164 - mae: 9.1948 - mse: 126.8164\n",
            "Epoch 7: val_loss did not improve from 125.58406\n",
            "372/372 [==============================] - 266s 714ms/step - loss: 126.8164 - mae: 9.1948 - mse: 126.8164 - val_loss: 126.1275 - val_mae: 8.9568 - val_mse: 126.1275\n",
            "Epoch 8/60\n",
            "372/372 [==============================] - ETA: 0s - loss: 125.7616 - mae: 9.1497 - mse: 125.7616\n",
            "Epoch 8: val_loss did not improve from 125.58406\n",
            "372/372 [==============================] - 290s 778ms/step - loss: 125.7616 - mae: 9.1497 - mse: 125.7616 - val_loss: 133.5714 - val_mae: 9.4177 - val_mse: 133.5714\n",
            "Epoch 9/60\n",
            "372/372 [==============================] - ETA: 0s - loss: 123.7145 - mae: 9.0511 - mse: 123.7145\n",
            "Epoch 9: val_loss improved from 125.58406 to 119.30770, saving model to /Users/rachana/Rachana_Python_VS/age_gender/model/agemodelp.h5\n",
            "372/372 [==============================] - 283s 761ms/step - loss: 123.7145 - mae: 9.0511 - mse: 123.7145 - val_loss: 119.3077 - val_mae: 9.0022 - val_mse: 119.3077\n",
            "Epoch 10/60\n",
            "372/372 [==============================] - ETA: 0s - loss: 121.7556 - mae: 8.9575 - mse: 121.7556\n",
            "Epoch 10: val_loss did not improve from 119.30770\n",
            "372/372 [==============================] - 284s 763ms/step - loss: 121.7556 - mae: 8.9575 - mse: 121.7556 - val_loss: 135.1089 - val_mae: 9.0413 - val_mse: 135.1089\n",
            "Epoch 11/60\n",
            "372/372 [==============================] - ETA: 0s - loss: 120.7249 - mae: 8.9103 - mse: 120.7249\n",
            "Epoch 11: val_loss improved from 119.30770 to 113.78925, saving model to /Users/rachana/Rachana_Python_VS/age_gender/model/agemodelp.h5\n",
            "372/372 [==============================] - 260s 697ms/step - loss: 120.7249 - mae: 8.9103 - mse: 120.7249 - val_loss: 113.7892 - val_mae: 8.7662 - val_mse: 113.7892\n",
            "Epoch 12/60\n",
            "372/372 [==============================] - ETA: 0s - loss: 118.7510 - mae: 8.8464 - mse: 118.7510\n",
            "Epoch 12: val_loss did not improve from 113.78925\n",
            "372/372 [==============================] - 282s 756ms/step - loss: 118.7510 - mae: 8.8464 - mse: 118.7510 - val_loss: 118.2607 - val_mae: 8.5526 - val_mse: 118.2607\n",
            "Epoch 13/60\n",
            "372/372 [==============================] - ETA: 0s - loss: 116.7683 - mae: 8.7374 - mse: 116.7683\n",
            "Epoch 13: val_loss improved from 113.78925 to 112.83141, saving model to /Users/rachana/Rachana_Python_VS/age_gender/model/agemodelp.h5\n",
            "372/372 [==============================] - 254s 679ms/step - loss: 116.7683 - mae: 8.7374 - mse: 116.7683 - val_loss: 112.8314 - val_mae: 8.5600 - val_mse: 112.8314\n",
            "Epoch 14/60\n",
            "372/372 [==============================] - ETA: 0s - loss: 115.6626 - mae: 8.7049 - mse: 115.6626\n",
            "Epoch 14: val_loss did not improve from 112.83141\n",
            "372/372 [==============================] - 258s 691ms/step - loss: 115.6626 - mae: 8.7049 - mse: 115.6626 - val_loss: 116.8594 - val_mae: 8.7472 - val_mse: 116.8594\n",
            "Epoch 15/60\n",
            "372/372 [==============================] - ETA: 0s - loss: 113.9320 - mae: 8.6007 - mse: 113.9320\n",
            "Epoch 15: val_loss did not improve from 112.83141\n",
            "372/372 [==============================] - 268s 719ms/step - loss: 113.9320 - mae: 8.6007 - mse: 113.9320 - val_loss: 117.3664 - val_mae: 8.5003 - val_mse: 117.3664\n",
            "Epoch 16/60\n",
            "372/372 [==============================] - ETA: 0s - loss: 114.0254 - mae: 8.6151 - mse: 114.0254\n",
            "Epoch 16: val_loss improved from 112.83141 to 109.60378, saving model to /Users/rachana/Rachana_Python_VS/age_gender/model/agemodelp.h5\n",
            "372/372 [==============================] - 270s 725ms/step - loss: 114.0254 - mae: 8.6151 - mse: 114.0254 - val_loss: 109.6038 - val_mae: 8.2385 - val_mse: 109.6038\n",
            "Epoch 17/60\n",
            "372/372 [==============================] - ETA: 0s - loss: 113.4316 - mae: 8.5850 - mse: 113.4316\n",
            "Epoch 17: val_loss did not improve from 109.60378\n",
            "372/372 [==============================] - 289s 776ms/step - loss: 113.4316 - mae: 8.5850 - mse: 113.4316 - val_loss: 127.9332 - val_mae: 8.8173 - val_mse: 127.9332\n",
            "Epoch 18/60\n",
            "372/372 [==============================] - ETA: 0s - loss: 113.3351 - mae: 8.6040 - mse: 113.3351\n",
            "Epoch 18: val_loss did not improve from 109.60378\n",
            "372/372 [==============================] - 264s 707ms/step - loss: 113.3351 - mae: 8.6040 - mse: 113.3351 - val_loss: 117.8617 - val_mae: 8.6580 - val_mse: 117.8617\n",
            "Epoch 19/60\n",
            "372/372 [==============================] - ETA: 0s - loss: 112.8783 - mae: 8.5745 - mse: 112.8783\n",
            "Epoch 19: val_loss did not improve from 109.60378\n",
            "372/372 [==============================] - 258s 692ms/step - loss: 112.8783 - mae: 8.5745 - mse: 112.8783 - val_loss: 117.6620 - val_mae: 8.6397 - val_mse: 117.6620\n",
            "Epoch 20/60\n",
            "372/372 [==============================] - ETA: 0s - loss: 111.5378 - mae: 8.5258 - mse: 111.5378\n",
            "Epoch 20: val_loss improved from 109.60378 to 105.47863, saving model to /Users/rachana/Rachana_Python_VS/age_gender/model/agemodelp.h5\n",
            "372/372 [==============================] - 256s 686ms/step - loss: 111.5378 - mae: 8.5258 - mse: 111.5378 - val_loss: 105.4786 - val_mae: 8.2455 - val_mse: 105.4786\n",
            "Epoch 21/60\n",
            "372/372 [==============================] - ETA: 0s - loss: 111.0827 - mae: 8.4900 - mse: 111.0827\n",
            "Epoch 21: val_loss did not improve from 105.47863\n",
            "372/372 [==============================] - 256s 688ms/step - loss: 111.0827 - mae: 8.4900 - mse: 111.0827 - val_loss: 135.5342 - val_mae: 9.4806 - val_mse: 135.5342\n",
            "Epoch 22/60\n",
            "372/372 [==============================] - ETA: 0s - loss: 109.8911 - mae: 8.4349 - mse: 109.8911\n",
            "Epoch 22: val_loss did not improve from 105.47863\n",
            "372/372 [==============================] - 249s 666ms/step - loss: 109.8911 - mae: 8.4349 - mse: 109.8911 - val_loss: 116.4154 - val_mae: 8.4344 - val_mse: 116.4154\n",
            "Epoch 23/60\n",
            "372/372 [==============================] - ETA: 0s - loss: 109.1918 - mae: 8.4154 - mse: 109.1918\n",
            "Epoch 23: val_loss did not improve from 105.47863\n",
            "372/372 [==============================] - 256s 687ms/step - loss: 109.1918 - mae: 8.4154 - mse: 109.1918 - val_loss: 115.6423 - val_mae: 8.5593 - val_mse: 115.6423\n",
            "Epoch 24/60\n",
            "372/372 [==============================] - ETA: 0s - loss: 108.4928 - mae: 8.3719 - mse: 108.4928\n",
            "Epoch 24: val_loss did not improve from 105.47863\n",
            "372/372 [==============================] - 290s 778ms/step - loss: 108.4928 - mae: 8.3719 - mse: 108.4928 - val_loss: 111.4989 - val_mae: 8.5588 - val_mse: 111.4989\n",
            "Epoch 25/60\n",
            "372/372 [==============================] - ETA: 0s - loss: 108.5652 - mae: 8.4009 - mse: 108.5652\n",
            "Epoch 25: val_loss did not improve from 105.47863\n",
            "372/372 [==============================] - 277s 742ms/step - loss: 108.5652 - mae: 8.4009 - mse: 108.5652 - val_loss: 120.8078 - val_mae: 8.5303 - val_mse: 120.8078\n",
            "Epoch 26/60\n",
            "372/372 [==============================] - ETA: 0s - loss: 107.7262 - mae: 8.3500 - mse: 107.7262\n",
            "Epoch 26: val_loss did not improve from 105.47863\n",
            "372/372 [==============================] - 293s 787ms/step - loss: 107.7262 - mae: 8.3500 - mse: 107.7262 - val_loss: 122.5838 - val_mae: 8.6623 - val_mse: 122.5838\n",
            "Epoch 27/60\n",
            "372/372 [==============================] - ETA: 0s - loss: 108.2673 - mae: 8.3711 - mse: 108.2673\n",
            "Epoch 27: val_loss did not improve from 105.47863\n",
            "372/372 [==============================] - 303s 815ms/step - loss: 108.2673 - mae: 8.3711 - mse: 108.2673 - val_loss: 114.5121 - val_mae: 8.4789 - val_mse: 114.5121\n",
            "Epoch 28/60\n",
            "372/372 [==============================] - ETA: 0s - loss: 107.1514 - mae: 8.3169 - mse: 107.1514\n",
            "Epoch 28: val_loss did not improve from 105.47863\n",
            "372/372 [==============================] - 305s 819ms/step - loss: 107.1514 - mae: 8.3169 - mse: 107.1514 - val_loss: 107.4855 - val_mae: 8.2508 - val_mse: 107.4855\n",
            "Epoch 29/60\n",
            "372/372 [==============================] - ETA: 0s - loss: 106.9096 - mae: 8.3156 - mse: 106.9096\n",
            "Epoch 29: val_loss did not improve from 105.47863\n",
            "372/372 [==============================] - 289s 777ms/step - loss: 106.9096 - mae: 8.3156 - mse: 106.9096 - val_loss: 106.7432 - val_mae: 8.2599 - val_mse: 106.7432\n",
            "Epoch 30/60\n",
            "372/372 [==============================] - ETA: 0s - loss: 105.5135 - mae: 8.2459 - mse: 105.5135\n",
            "Epoch 30: val_loss did not improve from 105.47863\n",
            "372/372 [==============================] - 300s 805ms/step - loss: 105.5135 - mae: 8.2459 - mse: 105.5135 - val_loss: 107.0496 - val_mae: 8.1047 - val_mse: 107.0496\n",
            "Epoch 31/60\n",
            "372/372 [==============================] - ETA: 0s - loss: 105.4205 - mae: 8.2537 - mse: 105.4205\n",
            "Epoch 31: val_loss did not improve from 105.47863\n",
            "372/372 [==============================] - 290s 777ms/step - loss: 105.4205 - mae: 8.2537 - mse: 105.4205 - val_loss: 115.4784 - val_mae: 8.2367 - val_mse: 115.4784\n",
            "Epoch 32/60\n",
            "372/372 [==============================] - ETA: 0s - loss: 104.2958 - mae: 8.1803 - mse: 104.2958\n",
            "Epoch 32: val_loss did not improve from 105.47863\n",
            "372/372 [==============================] - 318s 855ms/step - loss: 104.2958 - mae: 8.1803 - mse: 104.2958 - val_loss: 106.2280 - val_mae: 8.3071 - val_mse: 106.2280\n",
            "Epoch 33/60\n",
            "372/372 [==============================] - ETA: 0s - loss: 103.9786 - mae: 8.1830 - mse: 103.9786\n",
            "Epoch 33: val_loss improved from 105.47863 to 97.47754, saving model to /Users/rachana/Rachana_Python_VS/age_gender/model/agemodelp.h5\n",
            "372/372 [==============================] - 294s 788ms/step - loss: 103.9786 - mae: 8.1830 - mse: 103.9786 - val_loss: 97.4775 - val_mae: 7.8800 - val_mse: 97.4775\n",
            "Epoch 34/60\n",
            "372/372 [==============================] - ETA: 0s - loss: 103.7787 - mae: 8.1755 - mse: 103.7787\n",
            "Epoch 34: val_loss did not improve from 97.47754\n",
            "372/372 [==============================] - 300s 804ms/step - loss: 103.7787 - mae: 8.1755 - mse: 103.7787 - val_loss: 115.9423 - val_mae: 8.4134 - val_mse: 115.9423\n",
            "Epoch 35/60\n",
            "372/372 [==============================] - ETA: 0s - loss: 104.0878 - mae: 8.1695 - mse: 104.0878\n",
            "Epoch 35: val_loss did not improve from 97.47754\n",
            "372/372 [==============================] - 295s 792ms/step - loss: 104.0878 - mae: 8.1695 - mse: 104.0878 - val_loss: 103.1979 - val_mae: 8.2615 - val_mse: 103.1979\n",
            "Epoch 36/60\n",
            "372/372 [==============================] - ETA: 0s - loss: 103.8156 - mae: 8.1598 - mse: 103.8156\n",
            "Epoch 36: val_loss did not improve from 97.47754\n",
            "372/372 [==============================] - 294s 789ms/step - loss: 103.8156 - mae: 8.1598 - mse: 103.8156 - val_loss: 102.5200 - val_mae: 7.9932 - val_mse: 102.5200\n",
            "Epoch 37/60\n",
            "372/372 [==============================] - ETA: 0s - loss: 102.7818 - mae: 8.1137 - mse: 102.7818\n",
            "Epoch 37: val_loss did not improve from 97.47754\n",
            "372/372 [==============================] - 285s 765ms/step - loss: 102.7818 - mae: 8.1137 - mse: 102.7818 - val_loss: 109.2291 - val_mae: 8.3562 - val_mse: 109.2291\n",
            "Epoch 38/60\n",
            "372/372 [==============================] - ETA: 0s - loss: 102.8852 - mae: 8.1236 - mse: 102.8852\n",
            "Epoch 38: val_loss did not improve from 97.47754\n",
            "372/372 [==============================] - 313s 840ms/step - loss: 102.8852 - mae: 8.1236 - mse: 102.8852 - val_loss: 105.2287 - val_mae: 8.0905 - val_mse: 105.2287\n",
            "Epoch 39/60\n",
            "372/372 [==============================] - ETA: 0s - loss: 102.2100 - mae: 8.1057 - mse: 102.2100\n",
            "Epoch 39: val_loss did not improve from 97.47754\n",
            "372/372 [==============================] - 281s 753ms/step - loss: 102.2100 - mae: 8.1057 - mse: 102.2100 - val_loss: 109.9589 - val_mae: 8.5209 - val_mse: 109.9589\n",
            "Epoch 40/60\n",
            "372/372 [==============================] - ETA: 0s - loss: 101.7404 - mae: 8.0769 - mse: 101.7404\n",
            "Epoch 40: val_loss did not improve from 97.47754\n",
            "372/372 [==============================] - 309s 830ms/step - loss: 101.7404 - mae: 8.0769 - mse: 101.7404 - val_loss: 110.7075 - val_mae: 8.1146 - val_mse: 110.7075\n",
            "Epoch 41/60\n",
            "372/372 [==============================] - ETA: 0s - loss: 101.5275 - mae: 8.0659 - mse: 101.5275\n",
            "Epoch 41: val_loss improved from 97.47754 to 97.07233, saving model to /Users/rachana/Rachana_Python_VS/age_gender/model/agemodelp.h5\n",
            "372/372 [==============================] - 300s 805ms/step - loss: 101.5275 - mae: 8.0659 - mse: 101.5275 - val_loss: 97.0723 - val_mae: 7.6668 - val_mse: 97.0723\n",
            "Epoch 42/60\n",
            "372/372 [==============================] - ETA: 0s - loss: 101.5121 - mae: 8.0772 - mse: 101.5121\n",
            "Epoch 42: val_loss did not improve from 97.07233\n",
            "372/372 [==============================] - 311s 835ms/step - loss: 101.5121 - mae: 8.0772 - mse: 101.5121 - val_loss: 100.4708 - val_mae: 7.9055 - val_mse: 100.4708\n",
            "Epoch 43/60\n",
            "372/372 [==============================] - ETA: 0s - loss: 101.0867 - mae: 8.0545 - mse: 101.0867\n",
            "Epoch 43: val_loss improved from 97.07233 to 92.97044, saving model to /Users/rachana/Rachana_Python_VS/age_gender/model/agemodelp.h5\n",
            "372/372 [==============================] - 307s 823ms/step - loss: 101.0867 - mae: 8.0545 - mse: 101.0867 - val_loss: 92.9704 - val_mae: 7.6087 - val_mse: 92.9704\n",
            "Epoch 44/60\n",
            "372/372 [==============================] - ETA: 0s - loss: 101.3897 - mae: 8.0871 - mse: 101.3897\n",
            "Epoch 44: val_loss did not improve from 92.97044\n",
            "372/372 [==============================] - 320s 858ms/step - loss: 101.3897 - mae: 8.0871 - mse: 101.3897 - val_loss: 96.2090 - val_mae: 7.8478 - val_mse: 96.2090\n",
            "Epoch 45/60\n",
            "372/372 [==============================] - ETA: 0s - loss: 101.0238 - mae: 8.0546 - mse: 101.0238\n",
            "Epoch 45: val_loss did not improve from 92.97044\n",
            "372/372 [==============================] - 301s 807ms/step - loss: 101.0238 - mae: 8.0546 - mse: 101.0238 - val_loss: 105.8298 - val_mae: 8.3630 - val_mse: 105.8298\n",
            "Epoch 46/60\n",
            "372/372 [==============================] - ETA: 0s - loss: 100.6488 - mae: 8.0493 - mse: 100.6488\n",
            "Epoch 46: val_loss did not improve from 92.97044\n",
            "372/372 [==============================] - 295s 792ms/step - loss: 100.6488 - mae: 8.0493 - mse: 100.6488 - val_loss: 111.9572 - val_mae: 8.6443 - val_mse: 111.9572\n",
            "Epoch 47/60\n",
            "372/372 [==============================] - ETA: 0s - loss: 100.6192 - mae: 8.0408 - mse: 100.6192\n",
            "Epoch 47: val_loss did not improve from 92.97044\n",
            "372/372 [==============================] - 288s 773ms/step - loss: 100.6192 - mae: 8.0408 - mse: 100.6192 - val_loss: 93.7250 - val_mae: 7.7306 - val_mse: 93.7250\n",
            "Epoch 48/60\n",
            "372/372 [==============================] - ETA: 0s - loss: 100.4812 - mae: 8.0379 - mse: 100.4812\n",
            "Epoch 48: val_loss did not improve from 92.97044\n",
            "372/372 [==============================] - 294s 788ms/step - loss: 100.4812 - mae: 8.0379 - mse: 100.4812 - val_loss: 95.5359 - val_mae: 7.9483 - val_mse: 95.5359\n",
            "Epoch 49/60\n",
            "372/372 [==============================] - ETA: 0s - loss: 99.6502 - mae: 7.9845 - mse: 99.6502\n",
            "Epoch 49: val_loss did not improve from 92.97044\n",
            "372/372 [==============================] - 287s 770ms/step - loss: 99.6502 - mae: 7.9845 - mse: 99.6502 - val_loss: 122.7154 - val_mae: 8.9374 - val_mse: 122.7154\n",
            "Epoch 50/60\n",
            "372/372 [==============================] - ETA: 0s - loss: 99.6284 - mae: 7.9909 - mse: 99.6284\n",
            "Epoch 50: val_loss did not improve from 92.97044\n",
            "372/372 [==============================] - 272s 728ms/step - loss: 99.6284 - mae: 7.9909 - mse: 99.6284 - val_loss: 93.5401 - val_mae: 7.6151 - val_mse: 93.5401\n",
            "Epoch 51/60\n",
            "372/372 [==============================] - ETA: 0s - loss: 99.7957 - mae: 8.0016 - mse: 99.7957\n",
            "Epoch 51: val_loss did not improve from 92.97044\n",
            "372/372 [==============================] - 273s 732ms/step - loss: 99.7957 - mae: 8.0016 - mse: 99.7957 - val_loss: 108.4665 - val_mae: 8.1242 - val_mse: 108.4665\n",
            "Epoch 52/60\n",
            "372/372 [==============================] - ETA: 0s - loss: 99.2867 - mae: 7.9849 - mse: 99.2867\n",
            "Epoch 52: val_loss did not improve from 92.97044\n",
            "372/372 [==============================] - 274s 737ms/step - loss: 99.2867 - mae: 7.9849 - mse: 99.2867 - val_loss: 98.8005 - val_mae: 8.0245 - val_mse: 98.8005\n",
            "Epoch 53/60\n",
            "372/372 [==============================] - ETA: 0s - loss: 99.2474 - mae: 7.9739 - mse: 99.2474\n",
            "Epoch 53: val_loss did not improve from 92.97044\n",
            "372/372 [==============================] - 278s 744ms/step - loss: 99.2474 - mae: 7.9739 - mse: 99.2474 - val_loss: 96.0803 - val_mae: 7.8577 - val_mse: 96.0803\n",
            "Epoch 54/60\n",
            "372/372 [==============================] - ETA: 0s - loss: 99.5827 - mae: 7.9830 - mse: 99.5827\n",
            "Epoch 54: val_loss did not improve from 92.97044\n",
            "372/372 [==============================] - 273s 732ms/step - loss: 99.5827 - mae: 7.9830 - mse: 99.5827 - val_loss: 98.1388 - val_mae: 7.8867 - val_mse: 98.1388\n",
            "Epoch 55/60\n",
            "372/372 [==============================] - ETA: 0s - loss: 100.0534 - mae: 8.0039 - mse: 100.0534\n",
            "Epoch 55: val_loss did not improve from 92.97044\n",
            "372/372 [==============================] - 280s 751ms/step - loss: 100.0534 - mae: 8.0039 - mse: 100.0534 - val_loss: 112.7723 - val_mae: 8.1504 - val_mse: 112.7723\n",
            "Epoch 56/60\n",
            "372/372 [==============================] - ETA: 0s - loss: 100.6452 - mae: 8.0760 - mse: 100.6452\n",
            "Epoch 56: val_loss did not improve from 92.97044\n",
            "372/372 [==============================] - 269s 723ms/step - loss: 100.6452 - mae: 8.0760 - mse: 100.6452 - val_loss: 107.5448 - val_mae: 8.5194 - val_mse: 107.5448\n",
            "Epoch 57/60\n",
            "372/372 [==============================] - ETA: 0s - loss: 101.7250 - mae: 8.1020 - mse: 101.7250\n",
            "Epoch 57: val_loss did not improve from 92.97044\n",
            "372/372 [==============================] - 271s 729ms/step - loss: 101.7250 - mae: 8.1020 - mse: 101.7250 - val_loss: 129.8817 - val_mae: 8.7144 - val_mse: 129.8817\n",
            "Epoch 58/60\n",
            "372/372 [==============================] - ETA: 0s - loss: 101.4746 - mae: 8.1183 - mse: 101.4746\n",
            "Epoch 58: val_loss did not improve from 92.97044\n",
            "372/372 [==============================] - 263s 705ms/step - loss: 101.4746 - mae: 8.1183 - mse: 101.4746 - val_loss: 99.2244 - val_mae: 8.1309 - val_mse: 99.2244\n",
            "Epoch 59/60\n",
            "372/372 [==============================] - ETA: 0s - loss: 100.8962 - mae: 8.0784 - mse: 100.8962\n",
            "Epoch 59: val_loss did not improve from 92.97044\n",
            "372/372 [==============================] - 270s 726ms/step - loss: 100.8962 - mae: 8.0784 - mse: 100.8962 - val_loss: 116.8644 - val_mae: 8.3418 - val_mse: 116.8644\n",
            "Epoch 60/60\n",
            "372/372 [==============================] - ETA: 0s - loss: 100.5178 - mae: 8.0613 - mse: 100.5178\n",
            "Epoch 60: val_loss did not improve from 92.97044\n",
            "372/372 [==============================] - 281s 756ms/step - loss: 100.5178 - mae: 8.0613 - mse: 100.5178 - val_loss: 95.8212 - val_mae: 7.8954 - val_mse: 95.8212\n"
          ]
        }
      ],
      "source": [
        "# Train the model\n",
        "history = age_model.fit(\n",
        "    train_generator,\n",
        "    epochs=60,\n",
        "    validation_data=valid_generator,\n",
        "    callbacks=[ checkpoint]\n",
        ")\n"
      ]
    },
    {
      "cell_type": "code",
      "execution_count": null,
      "metadata": {
        "colab": {
          "base_uri": "https://localhost:8080/",
          "height": 1000
        },
        "colab_type": "code",
        "id": "jP3Sp3R7vEJI",
        "outputId": "134a0da6-38aa-40b3-df28-cff7f3676a50"
      },
      "outputs": [],
      "source": [
        "# from keras.optimizers.legacy import Adam\n",
        "\n",
        "# from keras.callbacks import LearningRateScheduler\n",
        "# #import math\n",
        "\n",
        "# # def step_decay(epoch):\n",
        "# # \tinitial_lrate = 0.008\n",
        "# # \tdrop = 0.7\n",
        "# # \tepochs_drop = 12.0\n",
        "# # \tlrate = initial_lrate * math.pow(drop, math.floor((1+epoch)/epochs_drop))\n",
        "# # \treturn lrate      \n",
        "# from keras import callbacks\n",
        "# # opt = Adam(learning_rate=0.01)\n",
        "# # lrate = LearningRateScheduler(step_decay)\n",
        "# # callbacks_list = [lrate]\n",
        "# filepath='/Users/rachana/Rachana_Python_VS/age_gender/model/agemodel.h5'\n",
        "# checkpoint = callbacks.ModelCheckpoint(filepath, monitor='val_loss', verbose=1, save_best_only=True, mode='min')\n",
        "\n",
        "# age_model.compile(loss='mse', optimizer='Adam', metrics=['mae','mse'])\n",
        "\n",
        "# STEP_SIZE_TRAIN= len(train_generator)//32\n",
        "# STEP_SIZE_VALID= len(valid_generator)//32\n",
        "\n",
        "# history = age_model.fit(train_generator,steps_per_epoch=STEP_SIZE_TRAIN, validation_data=valid_generator,\n",
        "#                      validation_steps=STEP_SIZE_VALID, callbacks=checkpoint, epochs=100)\n",
        "  "
      ]
    },
    {
      "cell_type": "code",
      "execution_count": null,
      "metadata": {
        "colab": {
          "base_uri": "https://localhost:8080/",
          "height": 517
        },
        "colab_type": "code",
        "id": "B60lSw_MQcqy",
        "outputId": "0ecd10e5-145b-4b63-f769-d6a4be1f6477"
      },
      "outputs": [
        {
          "data": {
            "application/vnd.plotly.v1+json": {
              "config": {
                "plotlyServerURL": "https://plot.ly"
              },
              "data": [
                {
                  "name": "Train",
                  "type": "scatter",
                  "y": [
                    298.3462829589844,
                    140.8431396484375,
                    134.6800537109375,
                    131.4418182373047,
                    129.49655151367188,
                    127.24620056152344,
                    126.81644439697266,
                    125.7615966796875,
                    123.7144775390625,
                    121.7556381225586,
                    120.724853515625,
                    118.75100708007812,
                    116.76828002929688,
                    115.66259765625,
                    113.93203735351562,
                    114.0253677368164,
                    113.431640625,
                    113.33514404296875,
                    112.87828063964844,
                    111.53779602050781,
                    111.08269500732422,
                    109.89110565185547,
                    109.19181060791016,
                    108.49281311035156,
                    108.56519317626953,
                    107.72621154785156,
                    108.26728057861328,
                    107.15142059326172,
                    106.90961456298828,
                    105.51345825195312,
                    105.42045593261719,
                    104.29576110839844,
                    103.97862243652344,
                    103.77873992919922,
                    104.08784484863281,
                    103.81562805175781,
                    102.78181457519531,
                    102.88518524169922,
                    102.20999145507812,
                    101.74040222167969,
                    101.52751922607422,
                    101.51212310791016,
                    101.08670806884766,
                    101.38973999023438,
                    101.02381896972656,
                    100.64884185791016,
                    100.61918640136719,
                    100.48120880126953,
                    99.6502456665039,
                    99.62836456298828,
                    99.7956771850586,
                    99.2867431640625,
                    99.24742889404297,
                    99.58268737792969,
                    100.05342102050781,
                    100.64517211914062,
                    101.72496795654297,
                    101.47457885742188,
                    100.89622497558594,
                    100.51781463623047
                  ]
                },
                {
                  "name": "Validation",
                  "type": "scatter",
                  "y": [
                    130.74478149414062,
                    135.9766845703125,
                    129.15985107421875,
                    125.58406066894531,
                    132.55487060546875,
                    126.71379089355469,
                    126.1274642944336,
                    133.57138061523438,
                    119.30770111083984,
                    135.10894775390625,
                    113.78924560546875,
                    118.2607421875,
                    112.83140563964844,
                    116.859375,
                    117.36637878417969,
                    109.6037826538086,
                    127.93323516845703,
                    117.8616714477539,
                    117.66203308105469,
                    105.47863006591797,
                    135.5342254638672,
                    116.41539001464844,
                    115.64228820800781,
                    111.49894714355469,
                    120.80782318115234,
                    122.58377075195312,
                    114.51213073730469,
                    107.48554992675781,
                    106.74320220947266,
                    107.0495834350586,
                    115.47843170166016,
                    106.22796630859375,
                    97.4775390625,
                    115.94226837158203,
                    103.19786834716797,
                    102.52001953125,
                    109.22908782958984,
                    105.22874450683594,
                    109.9588623046875,
                    110.70748901367188,
                    97.07232666015625,
                    100.47077941894531,
                    92.97044372558594,
                    96.2090072631836,
                    105.82978820800781,
                    111.9571533203125,
                    93.72503662109375,
                    95.53587341308594,
                    122.71537017822266,
                    93.54013061523438,
                    108.46653747558594,
                    98.8005142211914,
                    96.0803451538086,
                    98.13883972167969,
                    112.7723388671875,
                    107.54475402832031,
                    129.88168334960938,
                    99.22437286376953,
                    116.86436462402344,
                    95.82117462158203
                  ]
                }
              ],
              "layout": {
                "height": 500,
                "template": {
                  "data": {
                    "bar": [
                      {
                        "error_x": {
                          "color": "#2a3f5f"
                        },
                        "error_y": {
                          "color": "#2a3f5f"
                        },
                        "marker": {
                          "line": {
                            "color": "#E5ECF6",
                            "width": 0.5
                          },
                          "pattern": {
                            "fillmode": "overlay",
                            "size": 10,
                            "solidity": 0.2
                          }
                        },
                        "type": "bar"
                      }
                    ],
                    "barpolar": [
                      {
                        "marker": {
                          "line": {
                            "color": "#E5ECF6",
                            "width": 0.5
                          },
                          "pattern": {
                            "fillmode": "overlay",
                            "size": 10,
                            "solidity": 0.2
                          }
                        },
                        "type": "barpolar"
                      }
                    ],
                    "carpet": [
                      {
                        "aaxis": {
                          "endlinecolor": "#2a3f5f",
                          "gridcolor": "white",
                          "linecolor": "white",
                          "minorgridcolor": "white",
                          "startlinecolor": "#2a3f5f"
                        },
                        "baxis": {
                          "endlinecolor": "#2a3f5f",
                          "gridcolor": "white",
                          "linecolor": "white",
                          "minorgridcolor": "white",
                          "startlinecolor": "#2a3f5f"
                        },
                        "type": "carpet"
                      }
                    ],
                    "choropleth": [
                      {
                        "colorbar": {
                          "outlinewidth": 0,
                          "ticks": ""
                        },
                        "type": "choropleth"
                      }
                    ],
                    "contour": [
                      {
                        "colorbar": {
                          "outlinewidth": 0,
                          "ticks": ""
                        },
                        "colorscale": [
                          [
                            0,
                            "#0d0887"
                          ],
                          [
                            0.1111111111111111,
                            "#46039f"
                          ],
                          [
                            0.2222222222222222,
                            "#7201a8"
                          ],
                          [
                            0.3333333333333333,
                            "#9c179e"
                          ],
                          [
                            0.4444444444444444,
                            "#bd3786"
                          ],
                          [
                            0.5555555555555556,
                            "#d8576b"
                          ],
                          [
                            0.6666666666666666,
                            "#ed7953"
                          ],
                          [
                            0.7777777777777778,
                            "#fb9f3a"
                          ],
                          [
                            0.8888888888888888,
                            "#fdca26"
                          ],
                          [
                            1,
                            "#f0f921"
                          ]
                        ],
                        "type": "contour"
                      }
                    ],
                    "contourcarpet": [
                      {
                        "colorbar": {
                          "outlinewidth": 0,
                          "ticks": ""
                        },
                        "type": "contourcarpet"
                      }
                    ],
                    "heatmap": [
                      {
                        "colorbar": {
                          "outlinewidth": 0,
                          "ticks": ""
                        },
                        "colorscale": [
                          [
                            0,
                            "#0d0887"
                          ],
                          [
                            0.1111111111111111,
                            "#46039f"
                          ],
                          [
                            0.2222222222222222,
                            "#7201a8"
                          ],
                          [
                            0.3333333333333333,
                            "#9c179e"
                          ],
                          [
                            0.4444444444444444,
                            "#bd3786"
                          ],
                          [
                            0.5555555555555556,
                            "#d8576b"
                          ],
                          [
                            0.6666666666666666,
                            "#ed7953"
                          ],
                          [
                            0.7777777777777778,
                            "#fb9f3a"
                          ],
                          [
                            0.8888888888888888,
                            "#fdca26"
                          ],
                          [
                            1,
                            "#f0f921"
                          ]
                        ],
                        "type": "heatmap"
                      }
                    ],
                    "heatmapgl": [
                      {
                        "colorbar": {
                          "outlinewidth": 0,
                          "ticks": ""
                        },
                        "colorscale": [
                          [
                            0,
                            "#0d0887"
                          ],
                          [
                            0.1111111111111111,
                            "#46039f"
                          ],
                          [
                            0.2222222222222222,
                            "#7201a8"
                          ],
                          [
                            0.3333333333333333,
                            "#9c179e"
                          ],
                          [
                            0.4444444444444444,
                            "#bd3786"
                          ],
                          [
                            0.5555555555555556,
                            "#d8576b"
                          ],
                          [
                            0.6666666666666666,
                            "#ed7953"
                          ],
                          [
                            0.7777777777777778,
                            "#fb9f3a"
                          ],
                          [
                            0.8888888888888888,
                            "#fdca26"
                          ],
                          [
                            1,
                            "#f0f921"
                          ]
                        ],
                        "type": "heatmapgl"
                      }
                    ],
                    "histogram": [
                      {
                        "marker": {
                          "pattern": {
                            "fillmode": "overlay",
                            "size": 10,
                            "solidity": 0.2
                          }
                        },
                        "type": "histogram"
                      }
                    ],
                    "histogram2d": [
                      {
                        "colorbar": {
                          "outlinewidth": 0,
                          "ticks": ""
                        },
                        "colorscale": [
                          [
                            0,
                            "#0d0887"
                          ],
                          [
                            0.1111111111111111,
                            "#46039f"
                          ],
                          [
                            0.2222222222222222,
                            "#7201a8"
                          ],
                          [
                            0.3333333333333333,
                            "#9c179e"
                          ],
                          [
                            0.4444444444444444,
                            "#bd3786"
                          ],
                          [
                            0.5555555555555556,
                            "#d8576b"
                          ],
                          [
                            0.6666666666666666,
                            "#ed7953"
                          ],
                          [
                            0.7777777777777778,
                            "#fb9f3a"
                          ],
                          [
                            0.8888888888888888,
                            "#fdca26"
                          ],
                          [
                            1,
                            "#f0f921"
                          ]
                        ],
                        "type": "histogram2d"
                      }
                    ],
                    "histogram2dcontour": [
                      {
                        "colorbar": {
                          "outlinewidth": 0,
                          "ticks": ""
                        },
                        "colorscale": [
                          [
                            0,
                            "#0d0887"
                          ],
                          [
                            0.1111111111111111,
                            "#46039f"
                          ],
                          [
                            0.2222222222222222,
                            "#7201a8"
                          ],
                          [
                            0.3333333333333333,
                            "#9c179e"
                          ],
                          [
                            0.4444444444444444,
                            "#bd3786"
                          ],
                          [
                            0.5555555555555556,
                            "#d8576b"
                          ],
                          [
                            0.6666666666666666,
                            "#ed7953"
                          ],
                          [
                            0.7777777777777778,
                            "#fb9f3a"
                          ],
                          [
                            0.8888888888888888,
                            "#fdca26"
                          ],
                          [
                            1,
                            "#f0f921"
                          ]
                        ],
                        "type": "histogram2dcontour"
                      }
                    ],
                    "mesh3d": [
                      {
                        "colorbar": {
                          "outlinewidth": 0,
                          "ticks": ""
                        },
                        "type": "mesh3d"
                      }
                    ],
                    "parcoords": [
                      {
                        "line": {
                          "colorbar": {
                            "outlinewidth": 0,
                            "ticks": ""
                          }
                        },
                        "type": "parcoords"
                      }
                    ],
                    "pie": [
                      {
                        "automargin": true,
                        "type": "pie"
                      }
                    ],
                    "scatter": [
                      {
                        "fillpattern": {
                          "fillmode": "overlay",
                          "size": 10,
                          "solidity": 0.2
                        },
                        "type": "scatter"
                      }
                    ],
                    "scatter3d": [
                      {
                        "line": {
                          "colorbar": {
                            "outlinewidth": 0,
                            "ticks": ""
                          }
                        },
                        "marker": {
                          "colorbar": {
                            "outlinewidth": 0,
                            "ticks": ""
                          }
                        },
                        "type": "scatter3d"
                      }
                    ],
                    "scattercarpet": [
                      {
                        "marker": {
                          "colorbar": {
                            "outlinewidth": 0,
                            "ticks": ""
                          }
                        },
                        "type": "scattercarpet"
                      }
                    ],
                    "scattergeo": [
                      {
                        "marker": {
                          "colorbar": {
                            "outlinewidth": 0,
                            "ticks": ""
                          }
                        },
                        "type": "scattergeo"
                      }
                    ],
                    "scattergl": [
                      {
                        "marker": {
                          "colorbar": {
                            "outlinewidth": 0,
                            "ticks": ""
                          }
                        },
                        "type": "scattergl"
                      }
                    ],
                    "scattermapbox": [
                      {
                        "marker": {
                          "colorbar": {
                            "outlinewidth": 0,
                            "ticks": ""
                          }
                        },
                        "type": "scattermapbox"
                      }
                    ],
                    "scatterpolar": [
                      {
                        "marker": {
                          "colorbar": {
                            "outlinewidth": 0,
                            "ticks": ""
                          }
                        },
                        "type": "scatterpolar"
                      }
                    ],
                    "scatterpolargl": [
                      {
                        "marker": {
                          "colorbar": {
                            "outlinewidth": 0,
                            "ticks": ""
                          }
                        },
                        "type": "scatterpolargl"
                      }
                    ],
                    "scatterternary": [
                      {
                        "marker": {
                          "colorbar": {
                            "outlinewidth": 0,
                            "ticks": ""
                          }
                        },
                        "type": "scatterternary"
                      }
                    ],
                    "surface": [
                      {
                        "colorbar": {
                          "outlinewidth": 0,
                          "ticks": ""
                        },
                        "colorscale": [
                          [
                            0,
                            "#0d0887"
                          ],
                          [
                            0.1111111111111111,
                            "#46039f"
                          ],
                          [
                            0.2222222222222222,
                            "#7201a8"
                          ],
                          [
                            0.3333333333333333,
                            "#9c179e"
                          ],
                          [
                            0.4444444444444444,
                            "#bd3786"
                          ],
                          [
                            0.5555555555555556,
                            "#d8576b"
                          ],
                          [
                            0.6666666666666666,
                            "#ed7953"
                          ],
                          [
                            0.7777777777777778,
                            "#fb9f3a"
                          ],
                          [
                            0.8888888888888888,
                            "#fdca26"
                          ],
                          [
                            1,
                            "#f0f921"
                          ]
                        ],
                        "type": "surface"
                      }
                    ],
                    "table": [
                      {
                        "cells": {
                          "fill": {
                            "color": "#EBF0F8"
                          },
                          "line": {
                            "color": "white"
                          }
                        },
                        "header": {
                          "fill": {
                            "color": "#C8D4E3"
                          },
                          "line": {
                            "color": "white"
                          }
                        },
                        "type": "table"
                      }
                    ]
                  },
                  "layout": {
                    "annotationdefaults": {
                      "arrowcolor": "#2a3f5f",
                      "arrowhead": 0,
                      "arrowwidth": 1
                    },
                    "autotypenumbers": "strict",
                    "coloraxis": {
                      "colorbar": {
                        "outlinewidth": 0,
                        "ticks": ""
                      }
                    },
                    "colorscale": {
                      "diverging": [
                        [
                          0,
                          "#8e0152"
                        ],
                        [
                          0.1,
                          "#c51b7d"
                        ],
                        [
                          0.2,
                          "#de77ae"
                        ],
                        [
                          0.3,
                          "#f1b6da"
                        ],
                        [
                          0.4,
                          "#fde0ef"
                        ],
                        [
                          0.5,
                          "#f7f7f7"
                        ],
                        [
                          0.6,
                          "#e6f5d0"
                        ],
                        [
                          0.7,
                          "#b8e186"
                        ],
                        [
                          0.8,
                          "#7fbc41"
                        ],
                        [
                          0.9,
                          "#4d9221"
                        ],
                        [
                          1,
                          "#276419"
                        ]
                      ],
                      "sequential": [
                        [
                          0,
                          "#0d0887"
                        ],
                        [
                          0.1111111111111111,
                          "#46039f"
                        ],
                        [
                          0.2222222222222222,
                          "#7201a8"
                        ],
                        [
                          0.3333333333333333,
                          "#9c179e"
                        ],
                        [
                          0.4444444444444444,
                          "#bd3786"
                        ],
                        [
                          0.5555555555555556,
                          "#d8576b"
                        ],
                        [
                          0.6666666666666666,
                          "#ed7953"
                        ],
                        [
                          0.7777777777777778,
                          "#fb9f3a"
                        ],
                        [
                          0.8888888888888888,
                          "#fdca26"
                        ],
                        [
                          1,
                          "#f0f921"
                        ]
                      ],
                      "sequentialminus": [
                        [
                          0,
                          "#0d0887"
                        ],
                        [
                          0.1111111111111111,
                          "#46039f"
                        ],
                        [
                          0.2222222222222222,
                          "#7201a8"
                        ],
                        [
                          0.3333333333333333,
                          "#9c179e"
                        ],
                        [
                          0.4444444444444444,
                          "#bd3786"
                        ],
                        [
                          0.5555555555555556,
                          "#d8576b"
                        ],
                        [
                          0.6666666666666666,
                          "#ed7953"
                        ],
                        [
                          0.7777777777777778,
                          "#fb9f3a"
                        ],
                        [
                          0.8888888888888888,
                          "#fdca26"
                        ],
                        [
                          1,
                          "#f0f921"
                        ]
                      ]
                    },
                    "colorway": [
                      "#636efa",
                      "#EF553B",
                      "#00cc96",
                      "#ab63fa",
                      "#FFA15A",
                      "#19d3f3",
                      "#FF6692",
                      "#B6E880",
                      "#FF97FF",
                      "#FECB52"
                    ],
                    "font": {
                      "color": "#2a3f5f"
                    },
                    "geo": {
                      "bgcolor": "white",
                      "lakecolor": "white",
                      "landcolor": "#E5ECF6",
                      "showlakes": true,
                      "showland": true,
                      "subunitcolor": "white"
                    },
                    "hoverlabel": {
                      "align": "left"
                    },
                    "hovermode": "closest",
                    "mapbox": {
                      "style": "light"
                    },
                    "paper_bgcolor": "white",
                    "plot_bgcolor": "#E5ECF6",
                    "polar": {
                      "angularaxis": {
                        "gridcolor": "white",
                        "linecolor": "white",
                        "ticks": ""
                      },
                      "bgcolor": "#E5ECF6",
                      "radialaxis": {
                        "gridcolor": "white",
                        "linecolor": "white",
                        "ticks": ""
                      }
                    },
                    "scene": {
                      "xaxis": {
                        "backgroundcolor": "#E5ECF6",
                        "gridcolor": "white",
                        "gridwidth": 2,
                        "linecolor": "white",
                        "showbackground": true,
                        "ticks": "",
                        "zerolinecolor": "white"
                      },
                      "yaxis": {
                        "backgroundcolor": "#E5ECF6",
                        "gridcolor": "white",
                        "gridwidth": 2,
                        "linecolor": "white",
                        "showbackground": true,
                        "ticks": "",
                        "zerolinecolor": "white"
                      },
                      "zaxis": {
                        "backgroundcolor": "#E5ECF6",
                        "gridcolor": "white",
                        "gridwidth": 2,
                        "linecolor": "white",
                        "showbackground": true,
                        "ticks": "",
                        "zerolinecolor": "white"
                      }
                    },
                    "shapedefaults": {
                      "line": {
                        "color": "#2a3f5f"
                      }
                    },
                    "ternary": {
                      "aaxis": {
                        "gridcolor": "white",
                        "linecolor": "white",
                        "ticks": ""
                      },
                      "baxis": {
                        "gridcolor": "white",
                        "linecolor": "white",
                        "ticks": ""
                      },
                      "bgcolor": "#E5ECF6",
                      "caxis": {
                        "gridcolor": "white",
                        "linecolor": "white",
                        "ticks": ""
                      }
                    },
                    "title": {
                      "x": 0.05
                    },
                    "xaxis": {
                      "automargin": true,
                      "gridcolor": "white",
                      "linecolor": "white",
                      "ticks": "",
                      "title": {
                        "standoff": 15
                      },
                      "zerolinecolor": "white",
                      "zerolinewidth": 2
                    },
                    "yaxis": {
                      "automargin": true,
                      "gridcolor": "white",
                      "linecolor": "white",
                      "ticks": "",
                      "title": {
                        "standoff": 15
                      },
                      "zerolinecolor": "white",
                      "zerolinewidth": 2
                    }
                  }
                },
                "title": {
                  "text": "Train vs Val Total loss"
                },
                "width": 700,
                "xaxis": {
                  "title": {
                    "text": "Epoch"
                  }
                },
                "yaxis": {
                  "title": {
                    "text": "Loss"
                  }
                }
              }
            }
          },
          "metadata": {},
          "output_type": "display_data"
        },
        {
          "data": {
            "text/plain": [
              "<Figure size 640x480 with 0 Axes>"
            ]
          },
          "metadata": {},
          "output_type": "display_data"
        }
      ],
      "source": [
        "import plotly.graph_objects as go\n",
        "\n",
        "plt.clf()\n",
        "\n",
        "fig = go.Figure()\n",
        "fig.add_trace(go.Scatter(\n",
        "                    y=history.history['loss'],\n",
        "                    name='Train'))\n",
        "\n",
        "fig.add_trace(go.Scatter(\n",
        "                    y=history.history['val_loss'],\n",
        "                    name='Validation'))\n",
        "\n",
        "\n",
        "fig.update_layout(height=500, \n",
        "                  width=700,\n",
        "                  title='Train vs Val Total loss',\n",
        "                  xaxis_title='Epoch',\n",
        "                  yaxis_title='Loss')\n",
        "\n",
        "\n",
        "fig.show()        "
      ]
    },
    {
      "cell_type": "code",
      "execution_count": null,
      "metadata": {
        "colab": {
          "base_uri": "https://localhost:8080/",
          "height": 517
        },
        "colab_type": "code",
        "id": "-qWXuTqSQfYy",
        "outputId": "8448343b-772e-4448-9524-42816f4d19ab"
      },
      "outputs": [
        {
          "data": {
            "application/vnd.plotly.v1+json": {
              "config": {
                "plotlyServerURL": "https://plot.ly"
              },
              "data": [
                {
                  "name": "Train",
                  "type": "scatter",
                  "y": [
                    11.956771850585938,
                    9.771611213684082,
                    9.530869483947754,
                    9.387660026550293,
                    9.300065040588379,
                    9.217095375061035,
                    9.194820404052734,
                    9.14969539642334,
                    9.051100730895996,
                    8.95748233795166,
                    8.910289764404297,
                    8.846437454223633,
                    8.737383842468262,
                    8.704879760742188,
                    8.600651741027832,
                    8.615074157714844,
                    8.584993362426758,
                    8.603970527648926,
                    8.574477195739746,
                    8.525822639465332,
                    8.490002632141113,
                    8.434948921203613,
                    8.415369033813477,
                    8.371905326843262,
                    8.40092945098877,
                    8.350000381469727,
                    8.37106990814209,
                    8.316855430603027,
                    8.315629959106445,
                    8.24588680267334,
                    8.253683090209961,
                    8.180346488952637,
                    8.183008193969727,
                    8.175527572631836,
                    8.16946792602539,
                    8.159780502319336,
                    8.113676071166992,
                    8.12363338470459,
                    8.105728149414062,
                    8.076894760131836,
                    8.065888404846191,
                    8.077163696289062,
                    8.054472923278809,
                    8.087135314941406,
                    8.054635047912598,
                    8.049260139465332,
                    8.040787696838379,
                    8.03791618347168,
                    7.984523296356201,
                    7.990870952606201,
                    8.001594543457031,
                    7.984880447387695,
                    7.973932266235352,
                    7.982975482940674,
                    8.00391960144043,
                    8.076031684875488,
                    8.101981163024902,
                    8.118304252624512,
                    8.078431129455566,
                    8.061328887939453
                  ]
                },
                {
                  "name": "Validation",
                  "type": "scatter",
                  "y": [
                    9.358546257019043,
                    9.220797538757324,
                    9.27234935760498,
                    9.022581100463867,
                    9.417061805725098,
                    8.963891983032227,
                    8.956778526306152,
                    9.417728424072266,
                    9.00216007232666,
                    9.04131031036377,
                    8.766193389892578,
                    8.552580833435059,
                    8.559991836547852,
                    8.747237205505371,
                    8.500268936157227,
                    8.238534927368164,
                    8.817277908325195,
                    8.658020973205566,
                    8.639707565307617,
                    8.245545387268066,
                    9.480644226074219,
                    8.434383392333984,
                    8.55929946899414,
                    8.558784484863281,
                    8.530261039733887,
                    8.662262916564941,
                    8.478853225708008,
                    8.250849723815918,
                    8.259896278381348,
                    8.104690551757812,
                    8.236721992492676,
                    8.307086944580078,
                    7.879983901977539,
                    8.413444519042969,
                    8.261488914489746,
                    7.993210315704346,
                    8.356164932250977,
                    8.090457916259766,
                    8.52094554901123,
                    8.114638328552246,
                    7.666835308074951,
                    7.905511379241943,
                    7.608671188354492,
                    7.847794532775879,
                    8.363004684448242,
                    8.64428997039795,
                    7.730617523193359,
                    7.948270797729492,
                    8.937438011169434,
                    7.615114688873291,
                    8.124217987060547,
                    8.024508476257324,
                    7.857720375061035,
                    7.8866729736328125,
                    8.150371551513672,
                    8.519359588623047,
                    8.714432716369629,
                    8.130929946899414,
                    8.341789245605469,
                    7.89538049697876
                  ]
                }
              ],
              "layout": {
                "height": 500,
                "template": {
                  "data": {
                    "bar": [
                      {
                        "error_x": {
                          "color": "#2a3f5f"
                        },
                        "error_y": {
                          "color": "#2a3f5f"
                        },
                        "marker": {
                          "line": {
                            "color": "#E5ECF6",
                            "width": 0.5
                          },
                          "pattern": {
                            "fillmode": "overlay",
                            "size": 10,
                            "solidity": 0.2
                          }
                        },
                        "type": "bar"
                      }
                    ],
                    "barpolar": [
                      {
                        "marker": {
                          "line": {
                            "color": "#E5ECF6",
                            "width": 0.5
                          },
                          "pattern": {
                            "fillmode": "overlay",
                            "size": 10,
                            "solidity": 0.2
                          }
                        },
                        "type": "barpolar"
                      }
                    ],
                    "carpet": [
                      {
                        "aaxis": {
                          "endlinecolor": "#2a3f5f",
                          "gridcolor": "white",
                          "linecolor": "white",
                          "minorgridcolor": "white",
                          "startlinecolor": "#2a3f5f"
                        },
                        "baxis": {
                          "endlinecolor": "#2a3f5f",
                          "gridcolor": "white",
                          "linecolor": "white",
                          "minorgridcolor": "white",
                          "startlinecolor": "#2a3f5f"
                        },
                        "type": "carpet"
                      }
                    ],
                    "choropleth": [
                      {
                        "colorbar": {
                          "outlinewidth": 0,
                          "ticks": ""
                        },
                        "type": "choropleth"
                      }
                    ],
                    "contour": [
                      {
                        "colorbar": {
                          "outlinewidth": 0,
                          "ticks": ""
                        },
                        "colorscale": [
                          [
                            0,
                            "#0d0887"
                          ],
                          [
                            0.1111111111111111,
                            "#46039f"
                          ],
                          [
                            0.2222222222222222,
                            "#7201a8"
                          ],
                          [
                            0.3333333333333333,
                            "#9c179e"
                          ],
                          [
                            0.4444444444444444,
                            "#bd3786"
                          ],
                          [
                            0.5555555555555556,
                            "#d8576b"
                          ],
                          [
                            0.6666666666666666,
                            "#ed7953"
                          ],
                          [
                            0.7777777777777778,
                            "#fb9f3a"
                          ],
                          [
                            0.8888888888888888,
                            "#fdca26"
                          ],
                          [
                            1,
                            "#f0f921"
                          ]
                        ],
                        "type": "contour"
                      }
                    ],
                    "contourcarpet": [
                      {
                        "colorbar": {
                          "outlinewidth": 0,
                          "ticks": ""
                        },
                        "type": "contourcarpet"
                      }
                    ],
                    "heatmap": [
                      {
                        "colorbar": {
                          "outlinewidth": 0,
                          "ticks": ""
                        },
                        "colorscale": [
                          [
                            0,
                            "#0d0887"
                          ],
                          [
                            0.1111111111111111,
                            "#46039f"
                          ],
                          [
                            0.2222222222222222,
                            "#7201a8"
                          ],
                          [
                            0.3333333333333333,
                            "#9c179e"
                          ],
                          [
                            0.4444444444444444,
                            "#bd3786"
                          ],
                          [
                            0.5555555555555556,
                            "#d8576b"
                          ],
                          [
                            0.6666666666666666,
                            "#ed7953"
                          ],
                          [
                            0.7777777777777778,
                            "#fb9f3a"
                          ],
                          [
                            0.8888888888888888,
                            "#fdca26"
                          ],
                          [
                            1,
                            "#f0f921"
                          ]
                        ],
                        "type": "heatmap"
                      }
                    ],
                    "heatmapgl": [
                      {
                        "colorbar": {
                          "outlinewidth": 0,
                          "ticks": ""
                        },
                        "colorscale": [
                          [
                            0,
                            "#0d0887"
                          ],
                          [
                            0.1111111111111111,
                            "#46039f"
                          ],
                          [
                            0.2222222222222222,
                            "#7201a8"
                          ],
                          [
                            0.3333333333333333,
                            "#9c179e"
                          ],
                          [
                            0.4444444444444444,
                            "#bd3786"
                          ],
                          [
                            0.5555555555555556,
                            "#d8576b"
                          ],
                          [
                            0.6666666666666666,
                            "#ed7953"
                          ],
                          [
                            0.7777777777777778,
                            "#fb9f3a"
                          ],
                          [
                            0.8888888888888888,
                            "#fdca26"
                          ],
                          [
                            1,
                            "#f0f921"
                          ]
                        ],
                        "type": "heatmapgl"
                      }
                    ],
                    "histogram": [
                      {
                        "marker": {
                          "pattern": {
                            "fillmode": "overlay",
                            "size": 10,
                            "solidity": 0.2
                          }
                        },
                        "type": "histogram"
                      }
                    ],
                    "histogram2d": [
                      {
                        "colorbar": {
                          "outlinewidth": 0,
                          "ticks": ""
                        },
                        "colorscale": [
                          [
                            0,
                            "#0d0887"
                          ],
                          [
                            0.1111111111111111,
                            "#46039f"
                          ],
                          [
                            0.2222222222222222,
                            "#7201a8"
                          ],
                          [
                            0.3333333333333333,
                            "#9c179e"
                          ],
                          [
                            0.4444444444444444,
                            "#bd3786"
                          ],
                          [
                            0.5555555555555556,
                            "#d8576b"
                          ],
                          [
                            0.6666666666666666,
                            "#ed7953"
                          ],
                          [
                            0.7777777777777778,
                            "#fb9f3a"
                          ],
                          [
                            0.8888888888888888,
                            "#fdca26"
                          ],
                          [
                            1,
                            "#f0f921"
                          ]
                        ],
                        "type": "histogram2d"
                      }
                    ],
                    "histogram2dcontour": [
                      {
                        "colorbar": {
                          "outlinewidth": 0,
                          "ticks": ""
                        },
                        "colorscale": [
                          [
                            0,
                            "#0d0887"
                          ],
                          [
                            0.1111111111111111,
                            "#46039f"
                          ],
                          [
                            0.2222222222222222,
                            "#7201a8"
                          ],
                          [
                            0.3333333333333333,
                            "#9c179e"
                          ],
                          [
                            0.4444444444444444,
                            "#bd3786"
                          ],
                          [
                            0.5555555555555556,
                            "#d8576b"
                          ],
                          [
                            0.6666666666666666,
                            "#ed7953"
                          ],
                          [
                            0.7777777777777778,
                            "#fb9f3a"
                          ],
                          [
                            0.8888888888888888,
                            "#fdca26"
                          ],
                          [
                            1,
                            "#f0f921"
                          ]
                        ],
                        "type": "histogram2dcontour"
                      }
                    ],
                    "mesh3d": [
                      {
                        "colorbar": {
                          "outlinewidth": 0,
                          "ticks": ""
                        },
                        "type": "mesh3d"
                      }
                    ],
                    "parcoords": [
                      {
                        "line": {
                          "colorbar": {
                            "outlinewidth": 0,
                            "ticks": ""
                          }
                        },
                        "type": "parcoords"
                      }
                    ],
                    "pie": [
                      {
                        "automargin": true,
                        "type": "pie"
                      }
                    ],
                    "scatter": [
                      {
                        "fillpattern": {
                          "fillmode": "overlay",
                          "size": 10,
                          "solidity": 0.2
                        },
                        "type": "scatter"
                      }
                    ],
                    "scatter3d": [
                      {
                        "line": {
                          "colorbar": {
                            "outlinewidth": 0,
                            "ticks": ""
                          }
                        },
                        "marker": {
                          "colorbar": {
                            "outlinewidth": 0,
                            "ticks": ""
                          }
                        },
                        "type": "scatter3d"
                      }
                    ],
                    "scattercarpet": [
                      {
                        "marker": {
                          "colorbar": {
                            "outlinewidth": 0,
                            "ticks": ""
                          }
                        },
                        "type": "scattercarpet"
                      }
                    ],
                    "scattergeo": [
                      {
                        "marker": {
                          "colorbar": {
                            "outlinewidth": 0,
                            "ticks": ""
                          }
                        },
                        "type": "scattergeo"
                      }
                    ],
                    "scattergl": [
                      {
                        "marker": {
                          "colorbar": {
                            "outlinewidth": 0,
                            "ticks": ""
                          }
                        },
                        "type": "scattergl"
                      }
                    ],
                    "scattermapbox": [
                      {
                        "marker": {
                          "colorbar": {
                            "outlinewidth": 0,
                            "ticks": ""
                          }
                        },
                        "type": "scattermapbox"
                      }
                    ],
                    "scatterpolar": [
                      {
                        "marker": {
                          "colorbar": {
                            "outlinewidth": 0,
                            "ticks": ""
                          }
                        },
                        "type": "scatterpolar"
                      }
                    ],
                    "scatterpolargl": [
                      {
                        "marker": {
                          "colorbar": {
                            "outlinewidth": 0,
                            "ticks": ""
                          }
                        },
                        "type": "scatterpolargl"
                      }
                    ],
                    "scatterternary": [
                      {
                        "marker": {
                          "colorbar": {
                            "outlinewidth": 0,
                            "ticks": ""
                          }
                        },
                        "type": "scatterternary"
                      }
                    ],
                    "surface": [
                      {
                        "colorbar": {
                          "outlinewidth": 0,
                          "ticks": ""
                        },
                        "colorscale": [
                          [
                            0,
                            "#0d0887"
                          ],
                          [
                            0.1111111111111111,
                            "#46039f"
                          ],
                          [
                            0.2222222222222222,
                            "#7201a8"
                          ],
                          [
                            0.3333333333333333,
                            "#9c179e"
                          ],
                          [
                            0.4444444444444444,
                            "#bd3786"
                          ],
                          [
                            0.5555555555555556,
                            "#d8576b"
                          ],
                          [
                            0.6666666666666666,
                            "#ed7953"
                          ],
                          [
                            0.7777777777777778,
                            "#fb9f3a"
                          ],
                          [
                            0.8888888888888888,
                            "#fdca26"
                          ],
                          [
                            1,
                            "#f0f921"
                          ]
                        ],
                        "type": "surface"
                      }
                    ],
                    "table": [
                      {
                        "cells": {
                          "fill": {
                            "color": "#EBF0F8"
                          },
                          "line": {
                            "color": "white"
                          }
                        },
                        "header": {
                          "fill": {
                            "color": "#C8D4E3"
                          },
                          "line": {
                            "color": "white"
                          }
                        },
                        "type": "table"
                      }
                    ]
                  },
                  "layout": {
                    "annotationdefaults": {
                      "arrowcolor": "#2a3f5f",
                      "arrowhead": 0,
                      "arrowwidth": 1
                    },
                    "autotypenumbers": "strict",
                    "coloraxis": {
                      "colorbar": {
                        "outlinewidth": 0,
                        "ticks": ""
                      }
                    },
                    "colorscale": {
                      "diverging": [
                        [
                          0,
                          "#8e0152"
                        ],
                        [
                          0.1,
                          "#c51b7d"
                        ],
                        [
                          0.2,
                          "#de77ae"
                        ],
                        [
                          0.3,
                          "#f1b6da"
                        ],
                        [
                          0.4,
                          "#fde0ef"
                        ],
                        [
                          0.5,
                          "#f7f7f7"
                        ],
                        [
                          0.6,
                          "#e6f5d0"
                        ],
                        [
                          0.7,
                          "#b8e186"
                        ],
                        [
                          0.8,
                          "#7fbc41"
                        ],
                        [
                          0.9,
                          "#4d9221"
                        ],
                        [
                          1,
                          "#276419"
                        ]
                      ],
                      "sequential": [
                        [
                          0,
                          "#0d0887"
                        ],
                        [
                          0.1111111111111111,
                          "#46039f"
                        ],
                        [
                          0.2222222222222222,
                          "#7201a8"
                        ],
                        [
                          0.3333333333333333,
                          "#9c179e"
                        ],
                        [
                          0.4444444444444444,
                          "#bd3786"
                        ],
                        [
                          0.5555555555555556,
                          "#d8576b"
                        ],
                        [
                          0.6666666666666666,
                          "#ed7953"
                        ],
                        [
                          0.7777777777777778,
                          "#fb9f3a"
                        ],
                        [
                          0.8888888888888888,
                          "#fdca26"
                        ],
                        [
                          1,
                          "#f0f921"
                        ]
                      ],
                      "sequentialminus": [
                        [
                          0,
                          "#0d0887"
                        ],
                        [
                          0.1111111111111111,
                          "#46039f"
                        ],
                        [
                          0.2222222222222222,
                          "#7201a8"
                        ],
                        [
                          0.3333333333333333,
                          "#9c179e"
                        ],
                        [
                          0.4444444444444444,
                          "#bd3786"
                        ],
                        [
                          0.5555555555555556,
                          "#d8576b"
                        ],
                        [
                          0.6666666666666666,
                          "#ed7953"
                        ],
                        [
                          0.7777777777777778,
                          "#fb9f3a"
                        ],
                        [
                          0.8888888888888888,
                          "#fdca26"
                        ],
                        [
                          1,
                          "#f0f921"
                        ]
                      ]
                    },
                    "colorway": [
                      "#636efa",
                      "#EF553B",
                      "#00cc96",
                      "#ab63fa",
                      "#FFA15A",
                      "#19d3f3",
                      "#FF6692",
                      "#B6E880",
                      "#FF97FF",
                      "#FECB52"
                    ],
                    "font": {
                      "color": "#2a3f5f"
                    },
                    "geo": {
                      "bgcolor": "white",
                      "lakecolor": "white",
                      "landcolor": "#E5ECF6",
                      "showlakes": true,
                      "showland": true,
                      "subunitcolor": "white"
                    },
                    "hoverlabel": {
                      "align": "left"
                    },
                    "hovermode": "closest",
                    "mapbox": {
                      "style": "light"
                    },
                    "paper_bgcolor": "white",
                    "plot_bgcolor": "#E5ECF6",
                    "polar": {
                      "angularaxis": {
                        "gridcolor": "white",
                        "linecolor": "white",
                        "ticks": ""
                      },
                      "bgcolor": "#E5ECF6",
                      "radialaxis": {
                        "gridcolor": "white",
                        "linecolor": "white",
                        "ticks": ""
                      }
                    },
                    "scene": {
                      "xaxis": {
                        "backgroundcolor": "#E5ECF6",
                        "gridcolor": "white",
                        "gridwidth": 2,
                        "linecolor": "white",
                        "showbackground": true,
                        "ticks": "",
                        "zerolinecolor": "white"
                      },
                      "yaxis": {
                        "backgroundcolor": "#E5ECF6",
                        "gridcolor": "white",
                        "gridwidth": 2,
                        "linecolor": "white",
                        "showbackground": true,
                        "ticks": "",
                        "zerolinecolor": "white"
                      },
                      "zaxis": {
                        "backgroundcolor": "#E5ECF6",
                        "gridcolor": "white",
                        "gridwidth": 2,
                        "linecolor": "white",
                        "showbackground": true,
                        "ticks": "",
                        "zerolinecolor": "white"
                      }
                    },
                    "shapedefaults": {
                      "line": {
                        "color": "#2a3f5f"
                      }
                    },
                    "ternary": {
                      "aaxis": {
                        "gridcolor": "white",
                        "linecolor": "white",
                        "ticks": ""
                      },
                      "baxis": {
                        "gridcolor": "white",
                        "linecolor": "white",
                        "ticks": ""
                      },
                      "bgcolor": "#E5ECF6",
                      "caxis": {
                        "gridcolor": "white",
                        "linecolor": "white",
                        "ticks": ""
                      }
                    },
                    "title": {
                      "x": 0.05
                    },
                    "xaxis": {
                      "automargin": true,
                      "gridcolor": "white",
                      "linecolor": "white",
                      "ticks": "",
                      "title": {
                        "standoff": 15
                      },
                      "zerolinecolor": "white",
                      "zerolinewidth": 2
                    },
                    "yaxis": {
                      "automargin": true,
                      "gridcolor": "white",
                      "linecolor": "white",
                      "ticks": "",
                      "title": {
                        "standoff": 15
                      },
                      "zerolinecolor": "white",
                      "zerolinewidth": 2
                    }
                  }
                },
                "title": {
                  "text": "Train vs Val mean absolute error"
                },
                "width": 700,
                "xaxis": {
                  "title": {
                    "text": "Epoch"
                  }
                },
                "yaxis": {
                  "title": {
                    "text": "mae"
                  }
                }
              }
            }
          },
          "metadata": {},
          "output_type": "display_data"
        },
        {
          "data": {
            "text/plain": [
              "<Figure size 640x480 with 0 Axes>"
            ]
          },
          "metadata": {},
          "output_type": "display_data"
        }
      ],
      "source": [
        "import plotly.graph_objects as go\n",
        "\n",
        "plt.clf()\n",
        "\n",
        "fig = go.Figure()\n",
        "fig.add_trace(go.Scatter(\n",
        "                    y=history.history['mae'],\n",
        "                    name='Train'))\n",
        "\n",
        "fig.add_trace(go.Scatter(\n",
        "                    y=history.history['val_mae'],\n",
        "                    name='Validation'))\n",
        "\n",
        "\n",
        "fig.update_layout(height=500, \n",
        "                  width=700,\n",
        "                  title='Train vs Val mean absolute error',\n",
        "                  xaxis_title='Epoch',\n",
        "                  yaxis_title='mae')\n",
        "\n",
        "\n",
        "fig.show()"
      ]
    },
    {
      "cell_type": "code",
      "execution_count": null,
      "metadata": {
        "colab": {
          "base_uri": "https://localhost:8080/",
          "height": 517
        },
        "colab_type": "code",
        "id": "irO-iTSSQhVO",
        "outputId": "d6691af0-0575-4684-a4c3-5ec8994cf83d"
      },
      "outputs": [
        {
          "data": {
            "application/vnd.plotly.v1+json": {
              "config": {
                "plotlyServerURL": "https://plot.ly"
              },
              "data": [
                {
                  "name": "Train",
                  "type": "scatter",
                  "y": [
                    298.3462829589844,
                    140.8431396484375,
                    134.6800537109375,
                    131.4418182373047,
                    129.49655151367188,
                    127.24620056152344,
                    126.81644439697266,
                    125.7615966796875,
                    123.7144775390625,
                    121.7556381225586,
                    120.724853515625,
                    118.75100708007812,
                    116.76828002929688,
                    115.66259765625,
                    113.93203735351562,
                    114.0253677368164,
                    113.431640625,
                    113.33514404296875,
                    112.87828063964844,
                    111.53779602050781,
                    111.08269500732422,
                    109.89110565185547,
                    109.19181060791016,
                    108.49281311035156,
                    108.56519317626953,
                    107.72621154785156,
                    108.26728057861328,
                    107.15142059326172,
                    106.90961456298828,
                    105.51345825195312,
                    105.42045593261719,
                    104.29576110839844,
                    103.97862243652344,
                    103.77873992919922,
                    104.08784484863281,
                    103.81562805175781,
                    102.78181457519531,
                    102.88518524169922,
                    102.20999145507812,
                    101.74040222167969,
                    101.52751922607422,
                    101.51212310791016,
                    101.08670806884766,
                    101.38973999023438,
                    101.02381896972656,
                    100.64884185791016,
                    100.61918640136719,
                    100.48120880126953,
                    99.6502456665039,
                    99.62836456298828,
                    99.7956771850586,
                    99.2867431640625,
                    99.24742889404297,
                    99.58268737792969,
                    100.05342102050781,
                    100.64517211914062,
                    101.72496795654297,
                    101.47457885742188,
                    100.89622497558594,
                    100.51781463623047
                  ]
                },
                {
                  "name": "Validation",
                  "type": "scatter",
                  "y": [
                    130.74478149414062,
                    135.9766845703125,
                    129.15985107421875,
                    125.58406066894531,
                    132.55487060546875,
                    126.71379089355469,
                    126.1274642944336,
                    133.57138061523438,
                    119.30770111083984,
                    135.10894775390625,
                    113.78924560546875,
                    118.2607421875,
                    112.83140563964844,
                    116.859375,
                    117.36637878417969,
                    109.6037826538086,
                    127.93323516845703,
                    117.8616714477539,
                    117.66203308105469,
                    105.47863006591797,
                    135.5342254638672,
                    116.41539001464844,
                    115.64228820800781,
                    111.49894714355469,
                    120.80782318115234,
                    122.58377075195312,
                    114.51213073730469,
                    107.48554992675781,
                    106.74320220947266,
                    107.0495834350586,
                    115.47843170166016,
                    106.22796630859375,
                    97.4775390625,
                    115.94226837158203,
                    103.19786834716797,
                    102.52001953125,
                    109.22908782958984,
                    105.22874450683594,
                    109.9588623046875,
                    110.70748901367188,
                    97.07232666015625,
                    100.47077941894531,
                    92.97044372558594,
                    96.2090072631836,
                    105.82978820800781,
                    111.9571533203125,
                    93.72503662109375,
                    95.53587341308594,
                    122.71537017822266,
                    93.54013061523438,
                    108.46653747558594,
                    98.8005142211914,
                    96.0803451538086,
                    98.13883972167969,
                    112.7723388671875,
                    107.54475402832031,
                    129.88168334960938,
                    99.22437286376953,
                    116.86436462402344,
                    95.82117462158203
                  ]
                }
              ],
              "layout": {
                "height": 500,
                "template": {
                  "data": {
                    "bar": [
                      {
                        "error_x": {
                          "color": "#2a3f5f"
                        },
                        "error_y": {
                          "color": "#2a3f5f"
                        },
                        "marker": {
                          "line": {
                            "color": "#E5ECF6",
                            "width": 0.5
                          },
                          "pattern": {
                            "fillmode": "overlay",
                            "size": 10,
                            "solidity": 0.2
                          }
                        },
                        "type": "bar"
                      }
                    ],
                    "barpolar": [
                      {
                        "marker": {
                          "line": {
                            "color": "#E5ECF6",
                            "width": 0.5
                          },
                          "pattern": {
                            "fillmode": "overlay",
                            "size": 10,
                            "solidity": 0.2
                          }
                        },
                        "type": "barpolar"
                      }
                    ],
                    "carpet": [
                      {
                        "aaxis": {
                          "endlinecolor": "#2a3f5f",
                          "gridcolor": "white",
                          "linecolor": "white",
                          "minorgridcolor": "white",
                          "startlinecolor": "#2a3f5f"
                        },
                        "baxis": {
                          "endlinecolor": "#2a3f5f",
                          "gridcolor": "white",
                          "linecolor": "white",
                          "minorgridcolor": "white",
                          "startlinecolor": "#2a3f5f"
                        },
                        "type": "carpet"
                      }
                    ],
                    "choropleth": [
                      {
                        "colorbar": {
                          "outlinewidth": 0,
                          "ticks": ""
                        },
                        "type": "choropleth"
                      }
                    ],
                    "contour": [
                      {
                        "colorbar": {
                          "outlinewidth": 0,
                          "ticks": ""
                        },
                        "colorscale": [
                          [
                            0,
                            "#0d0887"
                          ],
                          [
                            0.1111111111111111,
                            "#46039f"
                          ],
                          [
                            0.2222222222222222,
                            "#7201a8"
                          ],
                          [
                            0.3333333333333333,
                            "#9c179e"
                          ],
                          [
                            0.4444444444444444,
                            "#bd3786"
                          ],
                          [
                            0.5555555555555556,
                            "#d8576b"
                          ],
                          [
                            0.6666666666666666,
                            "#ed7953"
                          ],
                          [
                            0.7777777777777778,
                            "#fb9f3a"
                          ],
                          [
                            0.8888888888888888,
                            "#fdca26"
                          ],
                          [
                            1,
                            "#f0f921"
                          ]
                        ],
                        "type": "contour"
                      }
                    ],
                    "contourcarpet": [
                      {
                        "colorbar": {
                          "outlinewidth": 0,
                          "ticks": ""
                        },
                        "type": "contourcarpet"
                      }
                    ],
                    "heatmap": [
                      {
                        "colorbar": {
                          "outlinewidth": 0,
                          "ticks": ""
                        },
                        "colorscale": [
                          [
                            0,
                            "#0d0887"
                          ],
                          [
                            0.1111111111111111,
                            "#46039f"
                          ],
                          [
                            0.2222222222222222,
                            "#7201a8"
                          ],
                          [
                            0.3333333333333333,
                            "#9c179e"
                          ],
                          [
                            0.4444444444444444,
                            "#bd3786"
                          ],
                          [
                            0.5555555555555556,
                            "#d8576b"
                          ],
                          [
                            0.6666666666666666,
                            "#ed7953"
                          ],
                          [
                            0.7777777777777778,
                            "#fb9f3a"
                          ],
                          [
                            0.8888888888888888,
                            "#fdca26"
                          ],
                          [
                            1,
                            "#f0f921"
                          ]
                        ],
                        "type": "heatmap"
                      }
                    ],
                    "heatmapgl": [
                      {
                        "colorbar": {
                          "outlinewidth": 0,
                          "ticks": ""
                        },
                        "colorscale": [
                          [
                            0,
                            "#0d0887"
                          ],
                          [
                            0.1111111111111111,
                            "#46039f"
                          ],
                          [
                            0.2222222222222222,
                            "#7201a8"
                          ],
                          [
                            0.3333333333333333,
                            "#9c179e"
                          ],
                          [
                            0.4444444444444444,
                            "#bd3786"
                          ],
                          [
                            0.5555555555555556,
                            "#d8576b"
                          ],
                          [
                            0.6666666666666666,
                            "#ed7953"
                          ],
                          [
                            0.7777777777777778,
                            "#fb9f3a"
                          ],
                          [
                            0.8888888888888888,
                            "#fdca26"
                          ],
                          [
                            1,
                            "#f0f921"
                          ]
                        ],
                        "type": "heatmapgl"
                      }
                    ],
                    "histogram": [
                      {
                        "marker": {
                          "pattern": {
                            "fillmode": "overlay",
                            "size": 10,
                            "solidity": 0.2
                          }
                        },
                        "type": "histogram"
                      }
                    ],
                    "histogram2d": [
                      {
                        "colorbar": {
                          "outlinewidth": 0,
                          "ticks": ""
                        },
                        "colorscale": [
                          [
                            0,
                            "#0d0887"
                          ],
                          [
                            0.1111111111111111,
                            "#46039f"
                          ],
                          [
                            0.2222222222222222,
                            "#7201a8"
                          ],
                          [
                            0.3333333333333333,
                            "#9c179e"
                          ],
                          [
                            0.4444444444444444,
                            "#bd3786"
                          ],
                          [
                            0.5555555555555556,
                            "#d8576b"
                          ],
                          [
                            0.6666666666666666,
                            "#ed7953"
                          ],
                          [
                            0.7777777777777778,
                            "#fb9f3a"
                          ],
                          [
                            0.8888888888888888,
                            "#fdca26"
                          ],
                          [
                            1,
                            "#f0f921"
                          ]
                        ],
                        "type": "histogram2d"
                      }
                    ],
                    "histogram2dcontour": [
                      {
                        "colorbar": {
                          "outlinewidth": 0,
                          "ticks": ""
                        },
                        "colorscale": [
                          [
                            0,
                            "#0d0887"
                          ],
                          [
                            0.1111111111111111,
                            "#46039f"
                          ],
                          [
                            0.2222222222222222,
                            "#7201a8"
                          ],
                          [
                            0.3333333333333333,
                            "#9c179e"
                          ],
                          [
                            0.4444444444444444,
                            "#bd3786"
                          ],
                          [
                            0.5555555555555556,
                            "#d8576b"
                          ],
                          [
                            0.6666666666666666,
                            "#ed7953"
                          ],
                          [
                            0.7777777777777778,
                            "#fb9f3a"
                          ],
                          [
                            0.8888888888888888,
                            "#fdca26"
                          ],
                          [
                            1,
                            "#f0f921"
                          ]
                        ],
                        "type": "histogram2dcontour"
                      }
                    ],
                    "mesh3d": [
                      {
                        "colorbar": {
                          "outlinewidth": 0,
                          "ticks": ""
                        },
                        "type": "mesh3d"
                      }
                    ],
                    "parcoords": [
                      {
                        "line": {
                          "colorbar": {
                            "outlinewidth": 0,
                            "ticks": ""
                          }
                        },
                        "type": "parcoords"
                      }
                    ],
                    "pie": [
                      {
                        "automargin": true,
                        "type": "pie"
                      }
                    ],
                    "scatter": [
                      {
                        "fillpattern": {
                          "fillmode": "overlay",
                          "size": 10,
                          "solidity": 0.2
                        },
                        "type": "scatter"
                      }
                    ],
                    "scatter3d": [
                      {
                        "line": {
                          "colorbar": {
                            "outlinewidth": 0,
                            "ticks": ""
                          }
                        },
                        "marker": {
                          "colorbar": {
                            "outlinewidth": 0,
                            "ticks": ""
                          }
                        },
                        "type": "scatter3d"
                      }
                    ],
                    "scattercarpet": [
                      {
                        "marker": {
                          "colorbar": {
                            "outlinewidth": 0,
                            "ticks": ""
                          }
                        },
                        "type": "scattercarpet"
                      }
                    ],
                    "scattergeo": [
                      {
                        "marker": {
                          "colorbar": {
                            "outlinewidth": 0,
                            "ticks": ""
                          }
                        },
                        "type": "scattergeo"
                      }
                    ],
                    "scattergl": [
                      {
                        "marker": {
                          "colorbar": {
                            "outlinewidth": 0,
                            "ticks": ""
                          }
                        },
                        "type": "scattergl"
                      }
                    ],
                    "scattermapbox": [
                      {
                        "marker": {
                          "colorbar": {
                            "outlinewidth": 0,
                            "ticks": ""
                          }
                        },
                        "type": "scattermapbox"
                      }
                    ],
                    "scatterpolar": [
                      {
                        "marker": {
                          "colorbar": {
                            "outlinewidth": 0,
                            "ticks": ""
                          }
                        },
                        "type": "scatterpolar"
                      }
                    ],
                    "scatterpolargl": [
                      {
                        "marker": {
                          "colorbar": {
                            "outlinewidth": 0,
                            "ticks": ""
                          }
                        },
                        "type": "scatterpolargl"
                      }
                    ],
                    "scatterternary": [
                      {
                        "marker": {
                          "colorbar": {
                            "outlinewidth": 0,
                            "ticks": ""
                          }
                        },
                        "type": "scatterternary"
                      }
                    ],
                    "surface": [
                      {
                        "colorbar": {
                          "outlinewidth": 0,
                          "ticks": ""
                        },
                        "colorscale": [
                          [
                            0,
                            "#0d0887"
                          ],
                          [
                            0.1111111111111111,
                            "#46039f"
                          ],
                          [
                            0.2222222222222222,
                            "#7201a8"
                          ],
                          [
                            0.3333333333333333,
                            "#9c179e"
                          ],
                          [
                            0.4444444444444444,
                            "#bd3786"
                          ],
                          [
                            0.5555555555555556,
                            "#d8576b"
                          ],
                          [
                            0.6666666666666666,
                            "#ed7953"
                          ],
                          [
                            0.7777777777777778,
                            "#fb9f3a"
                          ],
                          [
                            0.8888888888888888,
                            "#fdca26"
                          ],
                          [
                            1,
                            "#f0f921"
                          ]
                        ],
                        "type": "surface"
                      }
                    ],
                    "table": [
                      {
                        "cells": {
                          "fill": {
                            "color": "#EBF0F8"
                          },
                          "line": {
                            "color": "white"
                          }
                        },
                        "header": {
                          "fill": {
                            "color": "#C8D4E3"
                          },
                          "line": {
                            "color": "white"
                          }
                        },
                        "type": "table"
                      }
                    ]
                  },
                  "layout": {
                    "annotationdefaults": {
                      "arrowcolor": "#2a3f5f",
                      "arrowhead": 0,
                      "arrowwidth": 1
                    },
                    "autotypenumbers": "strict",
                    "coloraxis": {
                      "colorbar": {
                        "outlinewidth": 0,
                        "ticks": ""
                      }
                    },
                    "colorscale": {
                      "diverging": [
                        [
                          0,
                          "#8e0152"
                        ],
                        [
                          0.1,
                          "#c51b7d"
                        ],
                        [
                          0.2,
                          "#de77ae"
                        ],
                        [
                          0.3,
                          "#f1b6da"
                        ],
                        [
                          0.4,
                          "#fde0ef"
                        ],
                        [
                          0.5,
                          "#f7f7f7"
                        ],
                        [
                          0.6,
                          "#e6f5d0"
                        ],
                        [
                          0.7,
                          "#b8e186"
                        ],
                        [
                          0.8,
                          "#7fbc41"
                        ],
                        [
                          0.9,
                          "#4d9221"
                        ],
                        [
                          1,
                          "#276419"
                        ]
                      ],
                      "sequential": [
                        [
                          0,
                          "#0d0887"
                        ],
                        [
                          0.1111111111111111,
                          "#46039f"
                        ],
                        [
                          0.2222222222222222,
                          "#7201a8"
                        ],
                        [
                          0.3333333333333333,
                          "#9c179e"
                        ],
                        [
                          0.4444444444444444,
                          "#bd3786"
                        ],
                        [
                          0.5555555555555556,
                          "#d8576b"
                        ],
                        [
                          0.6666666666666666,
                          "#ed7953"
                        ],
                        [
                          0.7777777777777778,
                          "#fb9f3a"
                        ],
                        [
                          0.8888888888888888,
                          "#fdca26"
                        ],
                        [
                          1,
                          "#f0f921"
                        ]
                      ],
                      "sequentialminus": [
                        [
                          0,
                          "#0d0887"
                        ],
                        [
                          0.1111111111111111,
                          "#46039f"
                        ],
                        [
                          0.2222222222222222,
                          "#7201a8"
                        ],
                        [
                          0.3333333333333333,
                          "#9c179e"
                        ],
                        [
                          0.4444444444444444,
                          "#bd3786"
                        ],
                        [
                          0.5555555555555556,
                          "#d8576b"
                        ],
                        [
                          0.6666666666666666,
                          "#ed7953"
                        ],
                        [
                          0.7777777777777778,
                          "#fb9f3a"
                        ],
                        [
                          0.8888888888888888,
                          "#fdca26"
                        ],
                        [
                          1,
                          "#f0f921"
                        ]
                      ]
                    },
                    "colorway": [
                      "#636efa",
                      "#EF553B",
                      "#00cc96",
                      "#ab63fa",
                      "#FFA15A",
                      "#19d3f3",
                      "#FF6692",
                      "#B6E880",
                      "#FF97FF",
                      "#FECB52"
                    ],
                    "font": {
                      "color": "#2a3f5f"
                    },
                    "geo": {
                      "bgcolor": "white",
                      "lakecolor": "white",
                      "landcolor": "#E5ECF6",
                      "showlakes": true,
                      "showland": true,
                      "subunitcolor": "white"
                    },
                    "hoverlabel": {
                      "align": "left"
                    },
                    "hovermode": "closest",
                    "mapbox": {
                      "style": "light"
                    },
                    "paper_bgcolor": "white",
                    "plot_bgcolor": "#E5ECF6",
                    "polar": {
                      "angularaxis": {
                        "gridcolor": "white",
                        "linecolor": "white",
                        "ticks": ""
                      },
                      "bgcolor": "#E5ECF6",
                      "radialaxis": {
                        "gridcolor": "white",
                        "linecolor": "white",
                        "ticks": ""
                      }
                    },
                    "scene": {
                      "xaxis": {
                        "backgroundcolor": "#E5ECF6",
                        "gridcolor": "white",
                        "gridwidth": 2,
                        "linecolor": "white",
                        "showbackground": true,
                        "ticks": "",
                        "zerolinecolor": "white"
                      },
                      "yaxis": {
                        "backgroundcolor": "#E5ECF6",
                        "gridcolor": "white",
                        "gridwidth": 2,
                        "linecolor": "white",
                        "showbackground": true,
                        "ticks": "",
                        "zerolinecolor": "white"
                      },
                      "zaxis": {
                        "backgroundcolor": "#E5ECF6",
                        "gridcolor": "white",
                        "gridwidth": 2,
                        "linecolor": "white",
                        "showbackground": true,
                        "ticks": "",
                        "zerolinecolor": "white"
                      }
                    },
                    "shapedefaults": {
                      "line": {
                        "color": "#2a3f5f"
                      }
                    },
                    "ternary": {
                      "aaxis": {
                        "gridcolor": "white",
                        "linecolor": "white",
                        "ticks": ""
                      },
                      "baxis": {
                        "gridcolor": "white",
                        "linecolor": "white",
                        "ticks": ""
                      },
                      "bgcolor": "#E5ECF6",
                      "caxis": {
                        "gridcolor": "white",
                        "linecolor": "white",
                        "ticks": ""
                      }
                    },
                    "title": {
                      "x": 0.05
                    },
                    "xaxis": {
                      "automargin": true,
                      "gridcolor": "white",
                      "linecolor": "white",
                      "ticks": "",
                      "title": {
                        "standoff": 15
                      },
                      "zerolinecolor": "white",
                      "zerolinewidth": 2
                    },
                    "yaxis": {
                      "automargin": true,
                      "gridcolor": "white",
                      "linecolor": "white",
                      "ticks": "",
                      "title": {
                        "standoff": 15
                      },
                      "zerolinecolor": "white",
                      "zerolinewidth": 2
                    }
                  }
                },
                "title": {
                  "text": "Train vs Val mean squared error"
                },
                "width": 700,
                "xaxis": {
                  "title": {
                    "text": "Epoch"
                  }
                },
                "yaxis": {
                  "title": {
                    "text": "mse"
                  }
                }
              }
            }
          },
          "metadata": {},
          "output_type": "display_data"
        },
        {
          "data": {
            "text/plain": [
              "<Figure size 640x480 with 0 Axes>"
            ]
          },
          "metadata": {},
          "output_type": "display_data"
        }
      ],
      "source": [
        "import plotly.graph_objects as go\n",
        "\n",
        "plt.clf()\n",
        "\n",
        "fig = go.Figure()\n",
        "fig.add_trace(go.Scatter(\n",
        "                    y=history.history['mse'],\n",
        "                    name='Train'))\n",
        "\n",
        "fig.add_trace(go.Scatter(\n",
        "                    y=history.history['val_mse'],\n",
        "                    name='Validation'))\n",
        "\n",
        "\n",
        "fig.update_layout(height=500, \n",
        "                  width=700,\n",
        "                  title='Train vs Val mean squared error',\n",
        "                  xaxis_title='Epoch',\n",
        "                  yaxis_title='mse')\n",
        "\n",
        "\n",
        "fig.show()"
      ]
    },
    {
      "cell_type": "markdown",
      "metadata": {},
      "source": [
        "Clearly, there is still lot of scope for improvement - no saturation in performance yet. Both val & train performance seems to be improving in *mae*, *mse*.\n",
        "Let's train some more"
      ]
    },
    {
      "cell_type": "code",
      "execution_count": null,
      "metadata": {},
      "outputs": [
        {
          "name": "stderr",
          "output_type": "stream",
          "text": [
            "/var/folders/b2/8x1qqknd4818g7hylzxv20yr0000gq/T/ipykernel_49490/2039079393.py:1: UserWarning:\n",
            "\n",
            "`Model.fit_generator` is deprecated and will be removed in a future version. Please use `Model.fit`, which supports generators.\n",
            "\n"
          ]
        },
        {
          "name": "stdout",
          "output_type": "stream",
          "text": [
            "Epoch 1/40\n",
            "212/372 [================>.............] - ETA: 1:51 - loss: 98.9957 - mae: 7.9929 - mse: 98.9957"
          ]
        },
        {
          "name": "stderr",
          "output_type": "stream",
          "text": [
            "/Users/rachana/miniforge3/envs/moon/lib/python3.10/site-packages/PIL/TiffImagePlugin.py:870: UserWarning:\n",
            "\n",
            "Corrupt EXIF data.  Expecting to read 2 bytes but only got 0. \n",
            "\n"
          ]
        },
        {
          "name": "stdout",
          "output_type": "stream",
          "text": [
            "372/372 [==============================] - ETA: 0s - loss: 99.2733 - mae: 7.9932 - mse: 99.2733\n",
            "Epoch 1: val_loss did not improve from 92.97044\n",
            "372/372 [==============================] - 273s 731ms/step - loss: 99.2733 - mae: 7.9932 - mse: 99.2733 - val_loss: 97.5917 - val_mae: 7.8622 - val_mse: 97.5917\n",
            "Epoch 2/40\n",
            "372/372 [==============================] - ETA: 0s - loss: 99.4189 - mae: 8.0082 - mse: 99.4189\n",
            "Epoch 2: val_loss did not improve from 92.97044\n",
            "372/372 [==============================] - 247s 663ms/step - loss: 99.4189 - mae: 8.0082 - mse: 99.4189 - val_loss: 93.3525 - val_mae: 7.5963 - val_mse: 93.3525\n",
            "Epoch 3/40\n",
            "372/372 [==============================] - ETA: 0s - loss: 98.5780 - mae: 7.9843 - mse: 98.5780\n",
            "Epoch 3: val_loss did not improve from 92.97044\n",
            "372/372 [==============================] - 240s 645ms/step - loss: 98.5780 - mae: 7.9843 - mse: 98.5780 - val_loss: 103.7851 - val_mae: 8.1234 - val_mse: 103.7851\n",
            "Epoch 4/40\n",
            "372/372 [==============================] - ETA: 0s - loss: 98.9067 - mae: 7.9773 - mse: 98.9067\n",
            "Epoch 4: val_loss did not improve from 92.97044\n",
            "372/372 [==============================] - 236s 632ms/step - loss: 98.9067 - mae: 7.9773 - mse: 98.9067 - val_loss: 94.9092 - val_mae: 7.8559 - val_mse: 94.9092\n",
            "Epoch 5/40\n",
            "372/372 [==============================] - ETA: 0s - loss: 98.1489 - mae: 7.9578 - mse: 98.1489\n",
            "Epoch 5: val_loss did not improve from 92.97044\n",
            "372/372 [==============================] - 235s 631ms/step - loss: 98.1489 - mae: 7.9578 - mse: 98.1489 - val_loss: 106.4911 - val_mae: 7.8872 - val_mse: 106.4911\n",
            "Epoch 6/40\n",
            "372/372 [==============================] - ETA: 0s - loss: 98.6123 - mae: 7.9603 - mse: 98.6123\n",
            "Epoch 6: val_loss did not improve from 92.97044\n",
            "372/372 [==============================] - 238s 638ms/step - loss: 98.6123 - mae: 7.9603 - mse: 98.6123 - val_loss: 92.9911 - val_mae: 7.7402 - val_mse: 92.9911\n",
            "Epoch 7/40\n",
            "372/372 [==============================] - ETA: 0s - loss: 98.0618 - mae: 7.9193 - mse: 98.0618\n",
            "Epoch 7: val_loss improved from 92.97044 to 91.20382, saving model to /Users/rachana/Rachana_Python_VS/age_gender/model/agemodelp.h5\n",
            "372/372 [==============================] - 235s 632ms/step - loss: 98.0618 - mae: 7.9193 - mse: 98.0618 - val_loss: 91.2038 - val_mae: 7.5872 - val_mse: 91.2038\n",
            "Epoch 8/40\n"
          ]
        },
        {
          "name": "stderr",
          "output_type": "stream",
          "text": [
            "/Users/rachana/miniforge3/envs/moon/lib/python3.10/site-packages/keras/src/engine/training.py:3103: UserWarning:\n",
            "\n",
            "You are saving your model as an HDF5 file via `model.save()`. This file format is considered legacy. We recommend using instead the native Keras format, e.g. `model.save('my_model.keras')`.\n",
            "\n"
          ]
        },
        {
          "name": "stdout",
          "output_type": "stream",
          "text": [
            "372/372 [==============================] - ETA: 0s - loss: 97.6848 - mae: 7.9202 - mse: 97.6848\n",
            "Epoch 8: val_loss did not improve from 91.20382\n",
            "372/372 [==============================] - 240s 643ms/step - loss: 97.6848 - mae: 7.9202 - mse: 97.6848 - val_loss: 99.4384 - val_mae: 7.8244 - val_mse: 99.4384\n",
            "Epoch 9/40\n",
            "372/372 [==============================] - ETA: 0s - loss: 97.0652 - mae: 7.8918 - mse: 97.0652\n",
            "Epoch 9: val_loss did not improve from 91.20382\n",
            "372/372 [==============================] - 234s 627ms/step - loss: 97.0652 - mae: 7.8918 - mse: 97.0652 - val_loss: 91.2335 - val_mae: 7.4814 - val_mse: 91.2335\n",
            "Epoch 10/40\n",
            "372/372 [==============================] - ETA: 0s - loss: 97.2037 - mae: 7.8958 - mse: 97.2037\n",
            "Epoch 10: val_loss did not improve from 91.20382\n",
            "372/372 [==============================] - 233s 626ms/step - loss: 97.2037 - mae: 7.8958 - mse: 97.2037 - val_loss: 107.2409 - val_mae: 7.9478 - val_mse: 107.2409\n",
            "Epoch 11/40\n",
            "372/372 [==============================] - ETA: 0s - loss: 97.2636 - mae: 7.8980 - mse: 97.2636\n",
            "Epoch 11: val_loss did not improve from 91.20382\n",
            "372/372 [==============================] - 238s 640ms/step - loss: 97.2636 - mae: 7.8980 - mse: 97.2636 - val_loss: 115.8504 - val_mae: 8.8081 - val_mse: 115.8504\n",
            "Epoch 12/40\n",
            "372/372 [==============================] - ETA: 0s - loss: 96.4528 - mae: 7.8713 - mse: 96.4528\n",
            "Epoch 12: val_loss improved from 91.20382 to 90.29629, saving model to /Users/rachana/Rachana_Python_VS/age_gender/model/agemodelp.h5\n",
            "372/372 [==============================] - 238s 639ms/step - loss: 96.4528 - mae: 7.8713 - mse: 96.4528 - val_loss: 90.2963 - val_mae: 7.5815 - val_mse: 90.2963\n",
            "Epoch 13/40\n",
            "372/372 [==============================] - ETA: 0s - loss: 95.6168 - mae: 7.8140 - mse: 95.6168\n",
            "Epoch 13: val_loss did not improve from 90.29629\n",
            "372/372 [==============================] - 240s 645ms/step - loss: 95.6168 - mae: 7.8140 - mse: 95.6168 - val_loss: 102.5518 - val_mae: 8.1997 - val_mse: 102.5518\n",
            "Epoch 14/40\n",
            "372/372 [==============================] - ETA: 0s - loss: 94.8673 - mae: 7.7940 - mse: 94.8673\n",
            "Epoch 14: val_loss did not improve from 90.29629\n",
            "372/372 [==============================] - 241s 645ms/step - loss: 94.8673 - mae: 7.7940 - mse: 94.8673 - val_loss: 93.8617 - val_mae: 7.6265 - val_mse: 93.8617\n",
            "Epoch 15/40\n",
            "372/372 [==============================] - ETA: 0s - loss: 96.1838 - mae: 7.8505 - mse: 96.1838\n",
            "Epoch 15: val_loss did not improve from 90.29629\n",
            "372/372 [==============================] - 239s 642ms/step - loss: 96.1838 - mae: 7.8505 - mse: 96.1838 - val_loss: 126.7747 - val_mae: 8.5761 - val_mse: 126.7747\n",
            "Epoch 16/40\n",
            "372/372 [==============================] - ETA: 0s - loss: 94.3610 - mae: 7.7724 - mse: 94.3610\n",
            "Epoch 16: val_loss did not improve from 90.29629\n",
            "372/372 [==============================] - 244s 655ms/step - loss: 94.3610 - mae: 7.7724 - mse: 94.3610 - val_loss: 117.3422 - val_mae: 8.7307 - val_mse: 117.3422\n",
            "Epoch 17/40\n",
            "372/372 [==============================] - ETA: 0s - loss: 96.1765 - mae: 7.8309 - mse: 96.1765\n",
            "Epoch 17: val_loss did not improve from 90.29629\n",
            "372/372 [==============================] - 235s 631ms/step - loss: 96.1765 - mae: 7.8309 - mse: 96.1765 - val_loss: 95.6070 - val_mae: 7.8270 - val_mse: 95.6070\n",
            "Epoch 18/40\n",
            "372/372 [==============================] - ETA: 0s - loss: 94.9991 - mae: 7.8148 - mse: 94.9991\n",
            "Epoch 18: val_loss did not improve from 90.29629\n",
            "372/372 [==============================] - 237s 636ms/step - loss: 94.9991 - mae: 7.8148 - mse: 94.9991 - val_loss: 105.1675 - val_mae: 7.9104 - val_mse: 105.1675\n",
            "Epoch 19/40\n",
            "372/372 [==============================] - ETA: 0s - loss: 95.1122 - mae: 7.7853 - mse: 95.1122\n",
            "Epoch 19: val_loss did not improve from 90.29629\n",
            "372/372 [==============================] - 244s 653ms/step - loss: 95.1122 - mae: 7.7853 - mse: 95.1122 - val_loss: 97.4965 - val_mae: 7.9273 - val_mse: 97.4965\n",
            "Epoch 20/40\n",
            "372/372 [==============================] - ETA: 0s - loss: 94.5052 - mae: 7.7723 - mse: 94.5052\n",
            "Epoch 20: val_loss did not improve from 90.29629\n",
            "372/372 [==============================] - 234s 629ms/step - loss: 94.5052 - mae: 7.7723 - mse: 94.5052 - val_loss: 139.2771 - val_mae: 9.0864 - val_mse: 139.2771\n",
            "Epoch 21/40\n",
            "372/372 [==============================] - ETA: 0s - loss: 94.8080 - mae: 7.7899 - mse: 94.8080\n",
            "Epoch 21: val_loss did not improve from 90.29629\n",
            "372/372 [==============================] - 242s 651ms/step - loss: 94.8080 - mae: 7.7899 - mse: 94.8080 - val_loss: 92.5544 - val_mae: 7.6753 - val_mse: 92.5544\n",
            "Epoch 22/40\n",
            "372/372 [==============================] - ETA: 0s - loss: 94.5042 - mae: 7.7712 - mse: 94.5042\n",
            "Epoch 22: val_loss improved from 90.29629 to 88.65721, saving model to /Users/rachana/Rachana_Python_VS/age_gender/model/agemodelp.h5\n",
            "372/372 [==============================] - 244s 655ms/step - loss: 94.5042 - mae: 7.7712 - mse: 94.5042 - val_loss: 88.6572 - val_mae: 7.3641 - val_mse: 88.6572\n",
            "Epoch 23/40\n",
            "372/372 [==============================] - ETA: 0s - loss: 94.4378 - mae: 7.7535 - mse: 94.4378\n",
            "Epoch 23: val_loss did not improve from 88.65721\n",
            "372/372 [==============================] - 241s 646ms/step - loss: 94.4378 - mae: 7.7535 - mse: 94.4378 - val_loss: 93.3428 - val_mae: 7.6251 - val_mse: 93.3428\n",
            "Epoch 24/40\n",
            "372/372 [==============================] - ETA: 0s - loss: 94.1668 - mae: 7.7707 - mse: 94.1668\n",
            "Epoch 24: val_loss did not improve from 88.65721\n",
            "372/372 [==============================] - 238s 639ms/step - loss: 94.1668 - mae: 7.7707 - mse: 94.1668 - val_loss: 97.6519 - val_mae: 7.5920 - val_mse: 97.6519\n",
            "Epoch 25/40\n",
            "372/372 [==============================] - ETA: 0s - loss: 93.3659 - mae: 7.7055 - mse: 93.3659\n",
            "Epoch 25: val_loss did not improve from 88.65721\n",
            "372/372 [==============================] - 238s 639ms/step - loss: 93.3659 - mae: 7.7055 - mse: 93.3659 - val_loss: 117.5274 - val_mae: 8.8876 - val_mse: 117.5274\n",
            "Epoch 26/40\n",
            "372/372 [==============================] - ETA: 0s - loss: 92.7486 - mae: 7.6854 - mse: 92.7486\n",
            "Epoch 26: val_loss did not improve from 88.65721\n",
            "372/372 [==============================] - 249s 667ms/step - loss: 92.7486 - mae: 7.6854 - mse: 92.7486 - val_loss: 103.5380 - val_mae: 8.1511 - val_mse: 103.5380\n",
            "Epoch 27/40\n",
            "372/372 [==============================] - ETA: 0s - loss: 93.2692 - mae: 7.6860 - mse: 93.2692\n",
            "Epoch 27: val_loss did not improve from 88.65721\n",
            "372/372 [==============================] - 245s 658ms/step - loss: 93.2692 - mae: 7.6860 - mse: 93.2692 - val_loss: 98.7466 - val_mae: 8.0496 - val_mse: 98.7466\n",
            "Epoch 28/40\n",
            "372/372 [==============================] - ETA: 0s - loss: 92.6400 - mae: 7.6794 - mse: 92.6400\n",
            "Epoch 28: val_loss did not improve from 88.65721\n",
            "372/372 [==============================] - 244s 656ms/step - loss: 92.6400 - mae: 7.6794 - mse: 92.6400 - val_loss: 89.9515 - val_mae: 7.4212 - val_mse: 89.9515\n",
            "Epoch 29/40\n",
            "372/372 [==============================] - ETA: 0s - loss: 92.8508 - mae: 7.6938 - mse: 92.8508\n",
            "Epoch 29: val_loss did not improve from 88.65721\n",
            "372/372 [==============================] - 243s 651ms/step - loss: 92.8508 - mae: 7.6938 - mse: 92.8508 - val_loss: 88.9437 - val_mae: 7.4703 - val_mse: 88.9437\n",
            "Epoch 30/40\n",
            "372/372 [==============================] - ETA: 0s - loss: 92.9180 - mae: 7.7041 - mse: 92.9180\n",
            "Epoch 30: val_loss did not improve from 88.65721\n",
            "372/372 [==============================] - 236s 635ms/step - loss: 92.9180 - mae: 7.7041 - mse: 92.9180 - val_loss: 94.6099 - val_mae: 7.7918 - val_mse: 94.6099\n",
            "Epoch 31/40\n",
            "372/372 [==============================] - ETA: 0s - loss: 92.4815 - mae: 7.6908 - mse: 92.4815\n",
            "Epoch 31: val_loss did not improve from 88.65721\n",
            "372/372 [==============================] - 245s 659ms/step - loss: 92.4815 - mae: 7.6908 - mse: 92.4815 - val_loss: 114.4878 - val_mae: 8.7484 - val_mse: 114.4878\n",
            "Epoch 32/40\n",
            "372/372 [==============================] - ETA: 0s - loss: 92.8735 - mae: 7.7025 - mse: 92.8735\n",
            "Epoch 32: val_loss did not improve from 88.65721\n",
            "372/372 [==============================] - 240s 646ms/step - loss: 92.8735 - mae: 7.7025 - mse: 92.8735 - val_loss: 93.8562 - val_mae: 7.8326 - val_mse: 93.8562\n",
            "Epoch 33/40\n",
            "372/372 [==============================] - ETA: 0s - loss: 92.4567 - mae: 7.6772 - mse: 92.4567\n",
            "Epoch 33: val_loss did not improve from 88.65721\n",
            "372/372 [==============================] - 241s 647ms/step - loss: 92.4567 - mae: 7.6772 - mse: 92.4567 - val_loss: 100.2264 - val_mae: 7.9361 - val_mse: 100.2264\n",
            "Epoch 34/40\n",
            "372/372 [==============================] - ETA: 0s - loss: 92.3809 - mae: 7.6716 - mse: 92.3809\n",
            "Epoch 34: val_loss did not improve from 88.65721\n",
            "372/372 [==============================] - 236s 632ms/step - loss: 92.3809 - mae: 7.6716 - mse: 92.3809 - val_loss: 111.2215 - val_mae: 8.1198 - val_mse: 111.2215\n",
            "Epoch 35/40\n",
            "372/372 [==============================] - ETA: 0s - loss: 92.1093 - mae: 7.6778 - mse: 92.1093\n",
            "Epoch 35: val_loss did not improve from 88.65721\n",
            "372/372 [==============================] - 236s 632ms/step - loss: 92.1093 - mae: 7.6778 - mse: 92.1093 - val_loss: 89.7449 - val_mae: 7.5755 - val_mse: 89.7449\n",
            "Epoch 36/40\n",
            "372/372 [==============================] - ETA: 0s - loss: 92.0525 - mae: 7.6711 - mse: 92.0525\n",
            "Epoch 36: val_loss improved from 88.65721 to 88.58698, saving model to /Users/rachana/Rachana_Python_VS/age_gender/model/agemodelp.h5\n",
            "372/372 [==============================] - 238s 638ms/step - loss: 92.0525 - mae: 7.6711 - mse: 92.0525 - val_loss: 88.5870 - val_mae: 7.4051 - val_mse: 88.5870\n",
            "Epoch 37/40\n",
            "372/372 [==============================] - ETA: 0s - loss: 92.1764 - mae: 7.6700 - mse: 92.1764\n",
            "Epoch 37: val_loss did not improve from 88.58698\n",
            "372/372 [==============================] - 242s 651ms/step - loss: 92.1764 - mae: 7.6700 - mse: 92.1764 - val_loss: 98.6714 - val_mae: 7.9262 - val_mse: 98.6714\n",
            "Epoch 38/40\n",
            "372/372 [==============================] - ETA: 0s - loss: 92.5450 - mae: 7.6807 - mse: 92.5450\n",
            "Epoch 38: val_loss did not improve from 88.58698\n",
            "372/372 [==============================] - 271s 727ms/step - loss: 92.5450 - mae: 7.6807 - mse: 92.5450 - val_loss: 99.2903 - val_mae: 8.0816 - val_mse: 99.2903\n",
            "Epoch 39/40\n",
            "372/372 [==============================] - ETA: 0s - loss: 91.7461 - mae: 7.6566 - mse: 91.7461\n",
            "Epoch 39: val_loss did not improve from 88.58698\n",
            "372/372 [==============================] - 325s 873ms/step - loss: 91.7461 - mae: 7.6566 - mse: 91.7461 - val_loss: 115.2377 - val_mae: 8.7018 - val_mse: 115.2377\n",
            "Epoch 40/40\n",
            "372/372 [==============================] - ETA: 0s - loss: 91.4282 - mae: 7.6258 - mse: 91.4282\n",
            "Epoch 40: val_loss improved from 88.58698 to 87.78877, saving model to /Users/rachana/Rachana_Python_VS/age_gender/model/agemodelp.h5\n",
            "372/372 [==============================] - 288s 771ms/step - loss: 91.4282 - mae: 7.6258 - mse: 91.4282 - val_loss: 87.7888 - val_mae: 7.3304 - val_mse: 87.7888\n"
          ]
        }
      ],
      "source": [
        "history = age_model.fit_generator(generator=train_generator, validation_data=valid_generator,\n",
        "                     callbacks=checkpoint, epochs=40)\n",
        "  "
      ]
    },
    {
      "cell_type": "code",
      "execution_count": null,
      "metadata": {},
      "outputs": [
        {
          "data": {
            "application/vnd.plotly.v1+json": {
              "config": {
                "plotlyServerURL": "https://plot.ly"
              },
              "data": [
                {
                  "name": "Train",
                  "type": "scatter",
                  "y": [
                    99.2733383178711,
                    99.41893005371094,
                    98.57795715332031,
                    98.90672302246094,
                    98.14887237548828,
                    98.6123275756836,
                    98.06178283691406,
                    97.68476104736328,
                    97.065185546875,
                    97.20369720458984,
                    97.26364135742188,
                    96.45281982421875,
                    95.6167984008789,
                    94.86726379394531,
                    96.18384552001953,
                    94.3609848022461,
                    96.17647552490234,
                    94.99905395507812,
                    95.1121826171875,
                    94.50515747070312,
                    94.80795288085938,
                    94.50420379638672,
                    94.4377670288086,
                    94.16675567626953,
                    93.3658676147461,
                    92.74864196777344,
                    93.26918029785156,
                    92.6400146484375,
                    92.85083770751953,
                    92.91803741455078,
                    92.48149108886719,
                    92.87348937988281,
                    92.45668029785156,
                    92.38092041015625,
                    92.10926055908203,
                    92.05252838134766,
                    92.17637634277344,
                    92.54496765136719,
                    91.74607849121094,
                    91.42823028564453
                  ]
                },
                {
                  "name": "Validation",
                  "type": "scatter",
                  "y": [
                    97.59173583984375,
                    93.35250091552734,
                    103.78508758544922,
                    94.90919494628906,
                    106.49109649658203,
                    92.99109649658203,
                    91.20381927490234,
                    99.43842315673828,
                    91.23345947265625,
                    107.24088287353516,
                    115.8503646850586,
                    90.2962875366211,
                    102.55184936523438,
                    93.86168670654297,
                    126.774658203125,
                    117.34223175048828,
                    95.6070327758789,
                    105.16749572753906,
                    97.4964828491211,
                    139.2771453857422,
                    92.55440521240234,
                    88.65721130371094,
                    93.34284973144531,
                    97.65191650390625,
                    117.52741241455078,
                    103.53801727294922,
                    98.74655151367188,
                    89.95152282714844,
                    88.94366455078125,
                    94.60993957519531,
                    114.4878158569336,
                    93.856201171875,
                    100.22635650634766,
                    111.2215347290039,
                    89.74492645263672,
                    88.58698272705078,
                    98.67138671875,
                    99.2903060913086,
                    115.23772430419922,
                    87.78877258300781
                  ]
                }
              ],
              "layout": {
                "height": 500,
                "template": {
                  "data": {
                    "bar": [
                      {
                        "error_x": {
                          "color": "#2a3f5f"
                        },
                        "error_y": {
                          "color": "#2a3f5f"
                        },
                        "marker": {
                          "line": {
                            "color": "#E5ECF6",
                            "width": 0.5
                          },
                          "pattern": {
                            "fillmode": "overlay",
                            "size": 10,
                            "solidity": 0.2
                          }
                        },
                        "type": "bar"
                      }
                    ],
                    "barpolar": [
                      {
                        "marker": {
                          "line": {
                            "color": "#E5ECF6",
                            "width": 0.5
                          },
                          "pattern": {
                            "fillmode": "overlay",
                            "size": 10,
                            "solidity": 0.2
                          }
                        },
                        "type": "barpolar"
                      }
                    ],
                    "carpet": [
                      {
                        "aaxis": {
                          "endlinecolor": "#2a3f5f",
                          "gridcolor": "white",
                          "linecolor": "white",
                          "minorgridcolor": "white",
                          "startlinecolor": "#2a3f5f"
                        },
                        "baxis": {
                          "endlinecolor": "#2a3f5f",
                          "gridcolor": "white",
                          "linecolor": "white",
                          "minorgridcolor": "white",
                          "startlinecolor": "#2a3f5f"
                        },
                        "type": "carpet"
                      }
                    ],
                    "choropleth": [
                      {
                        "colorbar": {
                          "outlinewidth": 0,
                          "ticks": ""
                        },
                        "type": "choropleth"
                      }
                    ],
                    "contour": [
                      {
                        "colorbar": {
                          "outlinewidth": 0,
                          "ticks": ""
                        },
                        "colorscale": [
                          [
                            0,
                            "#0d0887"
                          ],
                          [
                            0.1111111111111111,
                            "#46039f"
                          ],
                          [
                            0.2222222222222222,
                            "#7201a8"
                          ],
                          [
                            0.3333333333333333,
                            "#9c179e"
                          ],
                          [
                            0.4444444444444444,
                            "#bd3786"
                          ],
                          [
                            0.5555555555555556,
                            "#d8576b"
                          ],
                          [
                            0.6666666666666666,
                            "#ed7953"
                          ],
                          [
                            0.7777777777777778,
                            "#fb9f3a"
                          ],
                          [
                            0.8888888888888888,
                            "#fdca26"
                          ],
                          [
                            1,
                            "#f0f921"
                          ]
                        ],
                        "type": "contour"
                      }
                    ],
                    "contourcarpet": [
                      {
                        "colorbar": {
                          "outlinewidth": 0,
                          "ticks": ""
                        },
                        "type": "contourcarpet"
                      }
                    ],
                    "heatmap": [
                      {
                        "colorbar": {
                          "outlinewidth": 0,
                          "ticks": ""
                        },
                        "colorscale": [
                          [
                            0,
                            "#0d0887"
                          ],
                          [
                            0.1111111111111111,
                            "#46039f"
                          ],
                          [
                            0.2222222222222222,
                            "#7201a8"
                          ],
                          [
                            0.3333333333333333,
                            "#9c179e"
                          ],
                          [
                            0.4444444444444444,
                            "#bd3786"
                          ],
                          [
                            0.5555555555555556,
                            "#d8576b"
                          ],
                          [
                            0.6666666666666666,
                            "#ed7953"
                          ],
                          [
                            0.7777777777777778,
                            "#fb9f3a"
                          ],
                          [
                            0.8888888888888888,
                            "#fdca26"
                          ],
                          [
                            1,
                            "#f0f921"
                          ]
                        ],
                        "type": "heatmap"
                      }
                    ],
                    "heatmapgl": [
                      {
                        "colorbar": {
                          "outlinewidth": 0,
                          "ticks": ""
                        },
                        "colorscale": [
                          [
                            0,
                            "#0d0887"
                          ],
                          [
                            0.1111111111111111,
                            "#46039f"
                          ],
                          [
                            0.2222222222222222,
                            "#7201a8"
                          ],
                          [
                            0.3333333333333333,
                            "#9c179e"
                          ],
                          [
                            0.4444444444444444,
                            "#bd3786"
                          ],
                          [
                            0.5555555555555556,
                            "#d8576b"
                          ],
                          [
                            0.6666666666666666,
                            "#ed7953"
                          ],
                          [
                            0.7777777777777778,
                            "#fb9f3a"
                          ],
                          [
                            0.8888888888888888,
                            "#fdca26"
                          ],
                          [
                            1,
                            "#f0f921"
                          ]
                        ],
                        "type": "heatmapgl"
                      }
                    ],
                    "histogram": [
                      {
                        "marker": {
                          "pattern": {
                            "fillmode": "overlay",
                            "size": 10,
                            "solidity": 0.2
                          }
                        },
                        "type": "histogram"
                      }
                    ],
                    "histogram2d": [
                      {
                        "colorbar": {
                          "outlinewidth": 0,
                          "ticks": ""
                        },
                        "colorscale": [
                          [
                            0,
                            "#0d0887"
                          ],
                          [
                            0.1111111111111111,
                            "#46039f"
                          ],
                          [
                            0.2222222222222222,
                            "#7201a8"
                          ],
                          [
                            0.3333333333333333,
                            "#9c179e"
                          ],
                          [
                            0.4444444444444444,
                            "#bd3786"
                          ],
                          [
                            0.5555555555555556,
                            "#d8576b"
                          ],
                          [
                            0.6666666666666666,
                            "#ed7953"
                          ],
                          [
                            0.7777777777777778,
                            "#fb9f3a"
                          ],
                          [
                            0.8888888888888888,
                            "#fdca26"
                          ],
                          [
                            1,
                            "#f0f921"
                          ]
                        ],
                        "type": "histogram2d"
                      }
                    ],
                    "histogram2dcontour": [
                      {
                        "colorbar": {
                          "outlinewidth": 0,
                          "ticks": ""
                        },
                        "colorscale": [
                          [
                            0,
                            "#0d0887"
                          ],
                          [
                            0.1111111111111111,
                            "#46039f"
                          ],
                          [
                            0.2222222222222222,
                            "#7201a8"
                          ],
                          [
                            0.3333333333333333,
                            "#9c179e"
                          ],
                          [
                            0.4444444444444444,
                            "#bd3786"
                          ],
                          [
                            0.5555555555555556,
                            "#d8576b"
                          ],
                          [
                            0.6666666666666666,
                            "#ed7953"
                          ],
                          [
                            0.7777777777777778,
                            "#fb9f3a"
                          ],
                          [
                            0.8888888888888888,
                            "#fdca26"
                          ],
                          [
                            1,
                            "#f0f921"
                          ]
                        ],
                        "type": "histogram2dcontour"
                      }
                    ],
                    "mesh3d": [
                      {
                        "colorbar": {
                          "outlinewidth": 0,
                          "ticks": ""
                        },
                        "type": "mesh3d"
                      }
                    ],
                    "parcoords": [
                      {
                        "line": {
                          "colorbar": {
                            "outlinewidth": 0,
                            "ticks": ""
                          }
                        },
                        "type": "parcoords"
                      }
                    ],
                    "pie": [
                      {
                        "automargin": true,
                        "type": "pie"
                      }
                    ],
                    "scatter": [
                      {
                        "fillpattern": {
                          "fillmode": "overlay",
                          "size": 10,
                          "solidity": 0.2
                        },
                        "type": "scatter"
                      }
                    ],
                    "scatter3d": [
                      {
                        "line": {
                          "colorbar": {
                            "outlinewidth": 0,
                            "ticks": ""
                          }
                        },
                        "marker": {
                          "colorbar": {
                            "outlinewidth": 0,
                            "ticks": ""
                          }
                        },
                        "type": "scatter3d"
                      }
                    ],
                    "scattercarpet": [
                      {
                        "marker": {
                          "colorbar": {
                            "outlinewidth": 0,
                            "ticks": ""
                          }
                        },
                        "type": "scattercarpet"
                      }
                    ],
                    "scattergeo": [
                      {
                        "marker": {
                          "colorbar": {
                            "outlinewidth": 0,
                            "ticks": ""
                          }
                        },
                        "type": "scattergeo"
                      }
                    ],
                    "scattergl": [
                      {
                        "marker": {
                          "colorbar": {
                            "outlinewidth": 0,
                            "ticks": ""
                          }
                        },
                        "type": "scattergl"
                      }
                    ],
                    "scattermapbox": [
                      {
                        "marker": {
                          "colorbar": {
                            "outlinewidth": 0,
                            "ticks": ""
                          }
                        },
                        "type": "scattermapbox"
                      }
                    ],
                    "scatterpolar": [
                      {
                        "marker": {
                          "colorbar": {
                            "outlinewidth": 0,
                            "ticks": ""
                          }
                        },
                        "type": "scatterpolar"
                      }
                    ],
                    "scatterpolargl": [
                      {
                        "marker": {
                          "colorbar": {
                            "outlinewidth": 0,
                            "ticks": ""
                          }
                        },
                        "type": "scatterpolargl"
                      }
                    ],
                    "scatterternary": [
                      {
                        "marker": {
                          "colorbar": {
                            "outlinewidth": 0,
                            "ticks": ""
                          }
                        },
                        "type": "scatterternary"
                      }
                    ],
                    "surface": [
                      {
                        "colorbar": {
                          "outlinewidth": 0,
                          "ticks": ""
                        },
                        "colorscale": [
                          [
                            0,
                            "#0d0887"
                          ],
                          [
                            0.1111111111111111,
                            "#46039f"
                          ],
                          [
                            0.2222222222222222,
                            "#7201a8"
                          ],
                          [
                            0.3333333333333333,
                            "#9c179e"
                          ],
                          [
                            0.4444444444444444,
                            "#bd3786"
                          ],
                          [
                            0.5555555555555556,
                            "#d8576b"
                          ],
                          [
                            0.6666666666666666,
                            "#ed7953"
                          ],
                          [
                            0.7777777777777778,
                            "#fb9f3a"
                          ],
                          [
                            0.8888888888888888,
                            "#fdca26"
                          ],
                          [
                            1,
                            "#f0f921"
                          ]
                        ],
                        "type": "surface"
                      }
                    ],
                    "table": [
                      {
                        "cells": {
                          "fill": {
                            "color": "#EBF0F8"
                          },
                          "line": {
                            "color": "white"
                          }
                        },
                        "header": {
                          "fill": {
                            "color": "#C8D4E3"
                          },
                          "line": {
                            "color": "white"
                          }
                        },
                        "type": "table"
                      }
                    ]
                  },
                  "layout": {
                    "annotationdefaults": {
                      "arrowcolor": "#2a3f5f",
                      "arrowhead": 0,
                      "arrowwidth": 1
                    },
                    "autotypenumbers": "strict",
                    "coloraxis": {
                      "colorbar": {
                        "outlinewidth": 0,
                        "ticks": ""
                      }
                    },
                    "colorscale": {
                      "diverging": [
                        [
                          0,
                          "#8e0152"
                        ],
                        [
                          0.1,
                          "#c51b7d"
                        ],
                        [
                          0.2,
                          "#de77ae"
                        ],
                        [
                          0.3,
                          "#f1b6da"
                        ],
                        [
                          0.4,
                          "#fde0ef"
                        ],
                        [
                          0.5,
                          "#f7f7f7"
                        ],
                        [
                          0.6,
                          "#e6f5d0"
                        ],
                        [
                          0.7,
                          "#b8e186"
                        ],
                        [
                          0.8,
                          "#7fbc41"
                        ],
                        [
                          0.9,
                          "#4d9221"
                        ],
                        [
                          1,
                          "#276419"
                        ]
                      ],
                      "sequential": [
                        [
                          0,
                          "#0d0887"
                        ],
                        [
                          0.1111111111111111,
                          "#46039f"
                        ],
                        [
                          0.2222222222222222,
                          "#7201a8"
                        ],
                        [
                          0.3333333333333333,
                          "#9c179e"
                        ],
                        [
                          0.4444444444444444,
                          "#bd3786"
                        ],
                        [
                          0.5555555555555556,
                          "#d8576b"
                        ],
                        [
                          0.6666666666666666,
                          "#ed7953"
                        ],
                        [
                          0.7777777777777778,
                          "#fb9f3a"
                        ],
                        [
                          0.8888888888888888,
                          "#fdca26"
                        ],
                        [
                          1,
                          "#f0f921"
                        ]
                      ],
                      "sequentialminus": [
                        [
                          0,
                          "#0d0887"
                        ],
                        [
                          0.1111111111111111,
                          "#46039f"
                        ],
                        [
                          0.2222222222222222,
                          "#7201a8"
                        ],
                        [
                          0.3333333333333333,
                          "#9c179e"
                        ],
                        [
                          0.4444444444444444,
                          "#bd3786"
                        ],
                        [
                          0.5555555555555556,
                          "#d8576b"
                        ],
                        [
                          0.6666666666666666,
                          "#ed7953"
                        ],
                        [
                          0.7777777777777778,
                          "#fb9f3a"
                        ],
                        [
                          0.8888888888888888,
                          "#fdca26"
                        ],
                        [
                          1,
                          "#f0f921"
                        ]
                      ]
                    },
                    "colorway": [
                      "#636efa",
                      "#EF553B",
                      "#00cc96",
                      "#ab63fa",
                      "#FFA15A",
                      "#19d3f3",
                      "#FF6692",
                      "#B6E880",
                      "#FF97FF",
                      "#FECB52"
                    ],
                    "font": {
                      "color": "#2a3f5f"
                    },
                    "geo": {
                      "bgcolor": "white",
                      "lakecolor": "white",
                      "landcolor": "#E5ECF6",
                      "showlakes": true,
                      "showland": true,
                      "subunitcolor": "white"
                    },
                    "hoverlabel": {
                      "align": "left"
                    },
                    "hovermode": "closest",
                    "mapbox": {
                      "style": "light"
                    },
                    "paper_bgcolor": "white",
                    "plot_bgcolor": "#E5ECF6",
                    "polar": {
                      "angularaxis": {
                        "gridcolor": "white",
                        "linecolor": "white",
                        "ticks": ""
                      },
                      "bgcolor": "#E5ECF6",
                      "radialaxis": {
                        "gridcolor": "white",
                        "linecolor": "white",
                        "ticks": ""
                      }
                    },
                    "scene": {
                      "xaxis": {
                        "backgroundcolor": "#E5ECF6",
                        "gridcolor": "white",
                        "gridwidth": 2,
                        "linecolor": "white",
                        "showbackground": true,
                        "ticks": "",
                        "zerolinecolor": "white"
                      },
                      "yaxis": {
                        "backgroundcolor": "#E5ECF6",
                        "gridcolor": "white",
                        "gridwidth": 2,
                        "linecolor": "white",
                        "showbackground": true,
                        "ticks": "",
                        "zerolinecolor": "white"
                      },
                      "zaxis": {
                        "backgroundcolor": "#E5ECF6",
                        "gridcolor": "white",
                        "gridwidth": 2,
                        "linecolor": "white",
                        "showbackground": true,
                        "ticks": "",
                        "zerolinecolor": "white"
                      }
                    },
                    "shapedefaults": {
                      "line": {
                        "color": "#2a3f5f"
                      }
                    },
                    "ternary": {
                      "aaxis": {
                        "gridcolor": "white",
                        "linecolor": "white",
                        "ticks": ""
                      },
                      "baxis": {
                        "gridcolor": "white",
                        "linecolor": "white",
                        "ticks": ""
                      },
                      "bgcolor": "#E5ECF6",
                      "caxis": {
                        "gridcolor": "white",
                        "linecolor": "white",
                        "ticks": ""
                      }
                    },
                    "title": {
                      "x": 0.05
                    },
                    "xaxis": {
                      "automargin": true,
                      "gridcolor": "white",
                      "linecolor": "white",
                      "ticks": "",
                      "title": {
                        "standoff": 15
                      },
                      "zerolinecolor": "white",
                      "zerolinewidth": 2
                    },
                    "yaxis": {
                      "automargin": true,
                      "gridcolor": "white",
                      "linecolor": "white",
                      "ticks": "",
                      "title": {
                        "standoff": 15
                      },
                      "zerolinecolor": "white",
                      "zerolinewidth": 2
                    }
                  }
                },
                "title": {
                  "text": "Train vs Val Total loss"
                },
                "width": 700,
                "xaxis": {
                  "title": {
                    "text": "Epoch"
                  }
                },
                "yaxis": {
                  "title": {
                    "text": "Loss"
                  }
                }
              }
            }
          },
          "metadata": {},
          "output_type": "display_data"
        },
        {
          "data": {
            "text/plain": [
              "<Figure size 640x480 with 0 Axes>"
            ]
          },
          "metadata": {},
          "output_type": "display_data"
        }
      ],
      "source": [
        "import plotly.graph_objects as go\n",
        "\n",
        "plt.clf()\n",
        "\n",
        "fig = go.Figure()\n",
        "fig.add_trace(go.Scatter(\n",
        "                    y=history.history['loss'],\n",
        "                    name='Train'))\n",
        "\n",
        "fig.add_trace(go.Scatter(\n",
        "                    y=history.history['val_loss'],\n",
        "                    name='Validation'))\n",
        "\n",
        "\n",
        "fig.update_layout(height=500, \n",
        "                  width=700,\n",
        "                  title='Train vs Val Total loss',\n",
        "                  xaxis_title='Epoch',\n",
        "                  yaxis_title='Loss')\n",
        "\n",
        "\n",
        "fig.show()\n",
        "     "
      ]
    },
    {
      "cell_type": "markdown",
      "metadata": {},
      "source": []
    },
    {
      "cell_type": "code",
      "execution_count": null,
      "metadata": {},
      "outputs": [
        {
          "data": {
            "application/vnd.plotly.v1+json": {
              "config": {
                "plotlyServerURL": "https://plot.ly"
              },
              "data": [
                {
                  "name": "Train",
                  "type": "scatter",
                  "y": [
                    7.993158340454102,
                    8.00820255279541,
                    7.984261989593506,
                    7.977343559265137,
                    7.9578118324279785,
                    7.960280895233154,
                    7.919256210327148,
                    7.920212745666504,
                    7.891756057739258,
                    7.895805835723877,
                    7.897987365722656,
                    7.871347904205322,
                    7.813971996307373,
                    7.793978691101074,
                    7.850546360015869,
                    7.7723565101623535,
                    7.830924987792969,
                    7.814846515655518,
                    7.785271167755127,
                    7.772326946258545,
                    7.789917469024658,
                    7.771179676055908,
                    7.7534871101379395,
                    7.770705699920654,
                    7.705524921417236,
                    7.685362339019775,
                    7.686008453369141,
                    7.67937707901001,
                    7.693802833557129,
                    7.70412540435791,
                    7.69081449508667,
                    7.702504634857178,
                    7.677181243896484,
                    7.671640872955322,
                    7.677751064300537,
                    7.671091079711914,
                    7.669983863830566,
                    7.680668830871582,
                    7.656583309173584,
                    7.625770568847656
                  ]
                },
                {
                  "name": "Validation",
                  "type": "scatter",
                  "y": [
                    7.862236976623535,
                    7.596292972564697,
                    8.123433113098145,
                    7.855920314788818,
                    7.8872294425964355,
                    7.74022102355957,
                    7.5872321128845215,
                    7.824443340301514,
                    7.481429100036621,
                    7.947793006896973,
                    8.808135986328125,
                    7.581535816192627,
                    8.199689865112305,
                    7.626523017883301,
                    8.57614803314209,
                    8.730742454528809,
                    7.826984882354736,
                    7.910350322723389,
                    7.927266597747803,
                    9.086407661437988,
                    7.675307750701904,
                    7.364116668701172,
                    7.625129222869873,
                    7.5919928550720215,
                    8.887578964233398,
                    8.15108585357666,
                    8.049585342407227,
                    7.421165943145752,
                    7.470347881317139,
                    7.791788578033447,
                    8.748449325561523,
                    7.832596302032471,
                    7.936149597167969,
                    8.119819641113281,
                    7.575520992279053,
                    7.405071258544922,
                    7.926217555999756,
                    8.081608772277832,
                    8.701836585998535,
                    7.330366134643555
                  ]
                }
              ],
              "layout": {
                "height": 500,
                "template": {
                  "data": {
                    "bar": [
                      {
                        "error_x": {
                          "color": "#2a3f5f"
                        },
                        "error_y": {
                          "color": "#2a3f5f"
                        },
                        "marker": {
                          "line": {
                            "color": "#E5ECF6",
                            "width": 0.5
                          },
                          "pattern": {
                            "fillmode": "overlay",
                            "size": 10,
                            "solidity": 0.2
                          }
                        },
                        "type": "bar"
                      }
                    ],
                    "barpolar": [
                      {
                        "marker": {
                          "line": {
                            "color": "#E5ECF6",
                            "width": 0.5
                          },
                          "pattern": {
                            "fillmode": "overlay",
                            "size": 10,
                            "solidity": 0.2
                          }
                        },
                        "type": "barpolar"
                      }
                    ],
                    "carpet": [
                      {
                        "aaxis": {
                          "endlinecolor": "#2a3f5f",
                          "gridcolor": "white",
                          "linecolor": "white",
                          "minorgridcolor": "white",
                          "startlinecolor": "#2a3f5f"
                        },
                        "baxis": {
                          "endlinecolor": "#2a3f5f",
                          "gridcolor": "white",
                          "linecolor": "white",
                          "minorgridcolor": "white",
                          "startlinecolor": "#2a3f5f"
                        },
                        "type": "carpet"
                      }
                    ],
                    "choropleth": [
                      {
                        "colorbar": {
                          "outlinewidth": 0,
                          "ticks": ""
                        },
                        "type": "choropleth"
                      }
                    ],
                    "contour": [
                      {
                        "colorbar": {
                          "outlinewidth": 0,
                          "ticks": ""
                        },
                        "colorscale": [
                          [
                            0,
                            "#0d0887"
                          ],
                          [
                            0.1111111111111111,
                            "#46039f"
                          ],
                          [
                            0.2222222222222222,
                            "#7201a8"
                          ],
                          [
                            0.3333333333333333,
                            "#9c179e"
                          ],
                          [
                            0.4444444444444444,
                            "#bd3786"
                          ],
                          [
                            0.5555555555555556,
                            "#d8576b"
                          ],
                          [
                            0.6666666666666666,
                            "#ed7953"
                          ],
                          [
                            0.7777777777777778,
                            "#fb9f3a"
                          ],
                          [
                            0.8888888888888888,
                            "#fdca26"
                          ],
                          [
                            1,
                            "#f0f921"
                          ]
                        ],
                        "type": "contour"
                      }
                    ],
                    "contourcarpet": [
                      {
                        "colorbar": {
                          "outlinewidth": 0,
                          "ticks": ""
                        },
                        "type": "contourcarpet"
                      }
                    ],
                    "heatmap": [
                      {
                        "colorbar": {
                          "outlinewidth": 0,
                          "ticks": ""
                        },
                        "colorscale": [
                          [
                            0,
                            "#0d0887"
                          ],
                          [
                            0.1111111111111111,
                            "#46039f"
                          ],
                          [
                            0.2222222222222222,
                            "#7201a8"
                          ],
                          [
                            0.3333333333333333,
                            "#9c179e"
                          ],
                          [
                            0.4444444444444444,
                            "#bd3786"
                          ],
                          [
                            0.5555555555555556,
                            "#d8576b"
                          ],
                          [
                            0.6666666666666666,
                            "#ed7953"
                          ],
                          [
                            0.7777777777777778,
                            "#fb9f3a"
                          ],
                          [
                            0.8888888888888888,
                            "#fdca26"
                          ],
                          [
                            1,
                            "#f0f921"
                          ]
                        ],
                        "type": "heatmap"
                      }
                    ],
                    "heatmapgl": [
                      {
                        "colorbar": {
                          "outlinewidth": 0,
                          "ticks": ""
                        },
                        "colorscale": [
                          [
                            0,
                            "#0d0887"
                          ],
                          [
                            0.1111111111111111,
                            "#46039f"
                          ],
                          [
                            0.2222222222222222,
                            "#7201a8"
                          ],
                          [
                            0.3333333333333333,
                            "#9c179e"
                          ],
                          [
                            0.4444444444444444,
                            "#bd3786"
                          ],
                          [
                            0.5555555555555556,
                            "#d8576b"
                          ],
                          [
                            0.6666666666666666,
                            "#ed7953"
                          ],
                          [
                            0.7777777777777778,
                            "#fb9f3a"
                          ],
                          [
                            0.8888888888888888,
                            "#fdca26"
                          ],
                          [
                            1,
                            "#f0f921"
                          ]
                        ],
                        "type": "heatmapgl"
                      }
                    ],
                    "histogram": [
                      {
                        "marker": {
                          "pattern": {
                            "fillmode": "overlay",
                            "size": 10,
                            "solidity": 0.2
                          }
                        },
                        "type": "histogram"
                      }
                    ],
                    "histogram2d": [
                      {
                        "colorbar": {
                          "outlinewidth": 0,
                          "ticks": ""
                        },
                        "colorscale": [
                          [
                            0,
                            "#0d0887"
                          ],
                          [
                            0.1111111111111111,
                            "#46039f"
                          ],
                          [
                            0.2222222222222222,
                            "#7201a8"
                          ],
                          [
                            0.3333333333333333,
                            "#9c179e"
                          ],
                          [
                            0.4444444444444444,
                            "#bd3786"
                          ],
                          [
                            0.5555555555555556,
                            "#d8576b"
                          ],
                          [
                            0.6666666666666666,
                            "#ed7953"
                          ],
                          [
                            0.7777777777777778,
                            "#fb9f3a"
                          ],
                          [
                            0.8888888888888888,
                            "#fdca26"
                          ],
                          [
                            1,
                            "#f0f921"
                          ]
                        ],
                        "type": "histogram2d"
                      }
                    ],
                    "histogram2dcontour": [
                      {
                        "colorbar": {
                          "outlinewidth": 0,
                          "ticks": ""
                        },
                        "colorscale": [
                          [
                            0,
                            "#0d0887"
                          ],
                          [
                            0.1111111111111111,
                            "#46039f"
                          ],
                          [
                            0.2222222222222222,
                            "#7201a8"
                          ],
                          [
                            0.3333333333333333,
                            "#9c179e"
                          ],
                          [
                            0.4444444444444444,
                            "#bd3786"
                          ],
                          [
                            0.5555555555555556,
                            "#d8576b"
                          ],
                          [
                            0.6666666666666666,
                            "#ed7953"
                          ],
                          [
                            0.7777777777777778,
                            "#fb9f3a"
                          ],
                          [
                            0.8888888888888888,
                            "#fdca26"
                          ],
                          [
                            1,
                            "#f0f921"
                          ]
                        ],
                        "type": "histogram2dcontour"
                      }
                    ],
                    "mesh3d": [
                      {
                        "colorbar": {
                          "outlinewidth": 0,
                          "ticks": ""
                        },
                        "type": "mesh3d"
                      }
                    ],
                    "parcoords": [
                      {
                        "line": {
                          "colorbar": {
                            "outlinewidth": 0,
                            "ticks": ""
                          }
                        },
                        "type": "parcoords"
                      }
                    ],
                    "pie": [
                      {
                        "automargin": true,
                        "type": "pie"
                      }
                    ],
                    "scatter": [
                      {
                        "fillpattern": {
                          "fillmode": "overlay",
                          "size": 10,
                          "solidity": 0.2
                        },
                        "type": "scatter"
                      }
                    ],
                    "scatter3d": [
                      {
                        "line": {
                          "colorbar": {
                            "outlinewidth": 0,
                            "ticks": ""
                          }
                        },
                        "marker": {
                          "colorbar": {
                            "outlinewidth": 0,
                            "ticks": ""
                          }
                        },
                        "type": "scatter3d"
                      }
                    ],
                    "scattercarpet": [
                      {
                        "marker": {
                          "colorbar": {
                            "outlinewidth": 0,
                            "ticks": ""
                          }
                        },
                        "type": "scattercarpet"
                      }
                    ],
                    "scattergeo": [
                      {
                        "marker": {
                          "colorbar": {
                            "outlinewidth": 0,
                            "ticks": ""
                          }
                        },
                        "type": "scattergeo"
                      }
                    ],
                    "scattergl": [
                      {
                        "marker": {
                          "colorbar": {
                            "outlinewidth": 0,
                            "ticks": ""
                          }
                        },
                        "type": "scattergl"
                      }
                    ],
                    "scattermapbox": [
                      {
                        "marker": {
                          "colorbar": {
                            "outlinewidth": 0,
                            "ticks": ""
                          }
                        },
                        "type": "scattermapbox"
                      }
                    ],
                    "scatterpolar": [
                      {
                        "marker": {
                          "colorbar": {
                            "outlinewidth": 0,
                            "ticks": ""
                          }
                        },
                        "type": "scatterpolar"
                      }
                    ],
                    "scatterpolargl": [
                      {
                        "marker": {
                          "colorbar": {
                            "outlinewidth": 0,
                            "ticks": ""
                          }
                        },
                        "type": "scatterpolargl"
                      }
                    ],
                    "scatterternary": [
                      {
                        "marker": {
                          "colorbar": {
                            "outlinewidth": 0,
                            "ticks": ""
                          }
                        },
                        "type": "scatterternary"
                      }
                    ],
                    "surface": [
                      {
                        "colorbar": {
                          "outlinewidth": 0,
                          "ticks": ""
                        },
                        "colorscale": [
                          [
                            0,
                            "#0d0887"
                          ],
                          [
                            0.1111111111111111,
                            "#46039f"
                          ],
                          [
                            0.2222222222222222,
                            "#7201a8"
                          ],
                          [
                            0.3333333333333333,
                            "#9c179e"
                          ],
                          [
                            0.4444444444444444,
                            "#bd3786"
                          ],
                          [
                            0.5555555555555556,
                            "#d8576b"
                          ],
                          [
                            0.6666666666666666,
                            "#ed7953"
                          ],
                          [
                            0.7777777777777778,
                            "#fb9f3a"
                          ],
                          [
                            0.8888888888888888,
                            "#fdca26"
                          ],
                          [
                            1,
                            "#f0f921"
                          ]
                        ],
                        "type": "surface"
                      }
                    ],
                    "table": [
                      {
                        "cells": {
                          "fill": {
                            "color": "#EBF0F8"
                          },
                          "line": {
                            "color": "white"
                          }
                        },
                        "header": {
                          "fill": {
                            "color": "#C8D4E3"
                          },
                          "line": {
                            "color": "white"
                          }
                        },
                        "type": "table"
                      }
                    ]
                  },
                  "layout": {
                    "annotationdefaults": {
                      "arrowcolor": "#2a3f5f",
                      "arrowhead": 0,
                      "arrowwidth": 1
                    },
                    "autotypenumbers": "strict",
                    "coloraxis": {
                      "colorbar": {
                        "outlinewidth": 0,
                        "ticks": ""
                      }
                    },
                    "colorscale": {
                      "diverging": [
                        [
                          0,
                          "#8e0152"
                        ],
                        [
                          0.1,
                          "#c51b7d"
                        ],
                        [
                          0.2,
                          "#de77ae"
                        ],
                        [
                          0.3,
                          "#f1b6da"
                        ],
                        [
                          0.4,
                          "#fde0ef"
                        ],
                        [
                          0.5,
                          "#f7f7f7"
                        ],
                        [
                          0.6,
                          "#e6f5d0"
                        ],
                        [
                          0.7,
                          "#b8e186"
                        ],
                        [
                          0.8,
                          "#7fbc41"
                        ],
                        [
                          0.9,
                          "#4d9221"
                        ],
                        [
                          1,
                          "#276419"
                        ]
                      ],
                      "sequential": [
                        [
                          0,
                          "#0d0887"
                        ],
                        [
                          0.1111111111111111,
                          "#46039f"
                        ],
                        [
                          0.2222222222222222,
                          "#7201a8"
                        ],
                        [
                          0.3333333333333333,
                          "#9c179e"
                        ],
                        [
                          0.4444444444444444,
                          "#bd3786"
                        ],
                        [
                          0.5555555555555556,
                          "#d8576b"
                        ],
                        [
                          0.6666666666666666,
                          "#ed7953"
                        ],
                        [
                          0.7777777777777778,
                          "#fb9f3a"
                        ],
                        [
                          0.8888888888888888,
                          "#fdca26"
                        ],
                        [
                          1,
                          "#f0f921"
                        ]
                      ],
                      "sequentialminus": [
                        [
                          0,
                          "#0d0887"
                        ],
                        [
                          0.1111111111111111,
                          "#46039f"
                        ],
                        [
                          0.2222222222222222,
                          "#7201a8"
                        ],
                        [
                          0.3333333333333333,
                          "#9c179e"
                        ],
                        [
                          0.4444444444444444,
                          "#bd3786"
                        ],
                        [
                          0.5555555555555556,
                          "#d8576b"
                        ],
                        [
                          0.6666666666666666,
                          "#ed7953"
                        ],
                        [
                          0.7777777777777778,
                          "#fb9f3a"
                        ],
                        [
                          0.8888888888888888,
                          "#fdca26"
                        ],
                        [
                          1,
                          "#f0f921"
                        ]
                      ]
                    },
                    "colorway": [
                      "#636efa",
                      "#EF553B",
                      "#00cc96",
                      "#ab63fa",
                      "#FFA15A",
                      "#19d3f3",
                      "#FF6692",
                      "#B6E880",
                      "#FF97FF",
                      "#FECB52"
                    ],
                    "font": {
                      "color": "#2a3f5f"
                    },
                    "geo": {
                      "bgcolor": "white",
                      "lakecolor": "white",
                      "landcolor": "#E5ECF6",
                      "showlakes": true,
                      "showland": true,
                      "subunitcolor": "white"
                    },
                    "hoverlabel": {
                      "align": "left"
                    },
                    "hovermode": "closest",
                    "mapbox": {
                      "style": "light"
                    },
                    "paper_bgcolor": "white",
                    "plot_bgcolor": "#E5ECF6",
                    "polar": {
                      "angularaxis": {
                        "gridcolor": "white",
                        "linecolor": "white",
                        "ticks": ""
                      },
                      "bgcolor": "#E5ECF6",
                      "radialaxis": {
                        "gridcolor": "white",
                        "linecolor": "white",
                        "ticks": ""
                      }
                    },
                    "scene": {
                      "xaxis": {
                        "backgroundcolor": "#E5ECF6",
                        "gridcolor": "white",
                        "gridwidth": 2,
                        "linecolor": "white",
                        "showbackground": true,
                        "ticks": "",
                        "zerolinecolor": "white"
                      },
                      "yaxis": {
                        "backgroundcolor": "#E5ECF6",
                        "gridcolor": "white",
                        "gridwidth": 2,
                        "linecolor": "white",
                        "showbackground": true,
                        "ticks": "",
                        "zerolinecolor": "white"
                      },
                      "zaxis": {
                        "backgroundcolor": "#E5ECF6",
                        "gridcolor": "white",
                        "gridwidth": 2,
                        "linecolor": "white",
                        "showbackground": true,
                        "ticks": "",
                        "zerolinecolor": "white"
                      }
                    },
                    "shapedefaults": {
                      "line": {
                        "color": "#2a3f5f"
                      }
                    },
                    "ternary": {
                      "aaxis": {
                        "gridcolor": "white",
                        "linecolor": "white",
                        "ticks": ""
                      },
                      "baxis": {
                        "gridcolor": "white",
                        "linecolor": "white",
                        "ticks": ""
                      },
                      "bgcolor": "#E5ECF6",
                      "caxis": {
                        "gridcolor": "white",
                        "linecolor": "white",
                        "ticks": ""
                      }
                    },
                    "title": {
                      "x": 0.05
                    },
                    "xaxis": {
                      "automargin": true,
                      "gridcolor": "white",
                      "linecolor": "white",
                      "ticks": "",
                      "title": {
                        "standoff": 15
                      },
                      "zerolinecolor": "white",
                      "zerolinewidth": 2
                    },
                    "yaxis": {
                      "automargin": true,
                      "gridcolor": "white",
                      "linecolor": "white",
                      "ticks": "",
                      "title": {
                        "standoff": 15
                      },
                      "zerolinecolor": "white",
                      "zerolinewidth": 2
                    }
                  }
                },
                "title": {
                  "text": "Train vs Val mean absolute error"
                },
                "width": 700,
                "xaxis": {
                  "title": {
                    "text": "Epoch"
                  }
                },
                "yaxis": {
                  "title": {
                    "text": "mae"
                  }
                }
              }
            }
          },
          "metadata": {},
          "output_type": "display_data"
        },
        {
          "data": {
            "text/plain": [
              "<Figure size 640x480 with 0 Axes>"
            ]
          },
          "metadata": {},
          "output_type": "display_data"
        }
      ],
      "source": [
        "import plotly.graph_objects as go\n",
        "\n",
        "plt.clf()\n",
        "\n",
        "fig = go.Figure()\n",
        "fig.add_trace(go.Scatter(\n",
        "                    y=history.history['mae'],\n",
        "                    name='Train'))\n",
        "\n",
        "fig.add_trace(go.Scatter(\n",
        "                    y=history.history['val_mae'],\n",
        "                    name='Validation'))\n",
        "\n",
        "\n",
        "fig.update_layout(height=500, \n",
        "                  width=700,\n",
        "                  title='Train vs Val mean absolute error',\n",
        "                  xaxis_title='Epoch',\n",
        "                  yaxis_title='mae')\n",
        "\n",
        "\n",
        "fig.show()\n",
        "     "
      ]
    },
    {
      "cell_type": "code",
      "execution_count": null,
      "metadata": {},
      "outputs": [
        {
          "data": {
            "application/vnd.plotly.v1+json": {
              "config": {
                "plotlyServerURL": "https://plot.ly"
              },
              "data": [
                {
                  "name": "Train",
                  "type": "scatter",
                  "y": [
                    99.2733383178711,
                    99.41893005371094,
                    98.57795715332031,
                    98.90672302246094,
                    98.14887237548828,
                    98.6123275756836,
                    98.06178283691406,
                    97.68476104736328,
                    97.065185546875,
                    97.20369720458984,
                    97.26364135742188,
                    96.45281982421875,
                    95.6167984008789,
                    94.86726379394531,
                    96.18384552001953,
                    94.3609848022461,
                    96.17647552490234,
                    94.99905395507812,
                    95.1121826171875,
                    94.50515747070312,
                    94.80795288085938,
                    94.50420379638672,
                    94.4377670288086,
                    94.16675567626953,
                    93.3658676147461,
                    92.74864196777344,
                    93.26918029785156,
                    92.6400146484375,
                    92.85083770751953,
                    92.91803741455078,
                    92.48149108886719,
                    92.87348937988281,
                    92.45668029785156,
                    92.38092041015625,
                    92.10926055908203,
                    92.05252838134766,
                    92.17637634277344,
                    92.54496765136719,
                    91.74607849121094,
                    91.42823028564453
                  ]
                },
                {
                  "name": "Validation",
                  "type": "scatter",
                  "y": [
                    97.59173583984375,
                    93.35250091552734,
                    103.78508758544922,
                    94.90919494628906,
                    106.49109649658203,
                    92.99109649658203,
                    91.20381927490234,
                    99.43842315673828,
                    91.23345947265625,
                    107.24088287353516,
                    115.8503646850586,
                    90.2962875366211,
                    102.55184936523438,
                    93.86168670654297,
                    126.774658203125,
                    117.34223175048828,
                    95.6070327758789,
                    105.16749572753906,
                    97.4964828491211,
                    139.2771453857422,
                    92.55440521240234,
                    88.65721130371094,
                    93.34284973144531,
                    97.65191650390625,
                    117.52741241455078,
                    103.53801727294922,
                    98.74655151367188,
                    89.95152282714844,
                    88.94366455078125,
                    94.60993957519531,
                    114.4878158569336,
                    93.856201171875,
                    100.22635650634766,
                    111.2215347290039,
                    89.74492645263672,
                    88.58698272705078,
                    98.67138671875,
                    99.2903060913086,
                    115.23772430419922,
                    87.78877258300781
                  ]
                }
              ],
              "layout": {
                "height": 500,
                "template": {
                  "data": {
                    "bar": [
                      {
                        "error_x": {
                          "color": "#2a3f5f"
                        },
                        "error_y": {
                          "color": "#2a3f5f"
                        },
                        "marker": {
                          "line": {
                            "color": "#E5ECF6",
                            "width": 0.5
                          },
                          "pattern": {
                            "fillmode": "overlay",
                            "size": 10,
                            "solidity": 0.2
                          }
                        },
                        "type": "bar"
                      }
                    ],
                    "barpolar": [
                      {
                        "marker": {
                          "line": {
                            "color": "#E5ECF6",
                            "width": 0.5
                          },
                          "pattern": {
                            "fillmode": "overlay",
                            "size": 10,
                            "solidity": 0.2
                          }
                        },
                        "type": "barpolar"
                      }
                    ],
                    "carpet": [
                      {
                        "aaxis": {
                          "endlinecolor": "#2a3f5f",
                          "gridcolor": "white",
                          "linecolor": "white",
                          "minorgridcolor": "white",
                          "startlinecolor": "#2a3f5f"
                        },
                        "baxis": {
                          "endlinecolor": "#2a3f5f",
                          "gridcolor": "white",
                          "linecolor": "white",
                          "minorgridcolor": "white",
                          "startlinecolor": "#2a3f5f"
                        },
                        "type": "carpet"
                      }
                    ],
                    "choropleth": [
                      {
                        "colorbar": {
                          "outlinewidth": 0,
                          "ticks": ""
                        },
                        "type": "choropleth"
                      }
                    ],
                    "contour": [
                      {
                        "colorbar": {
                          "outlinewidth": 0,
                          "ticks": ""
                        },
                        "colorscale": [
                          [
                            0,
                            "#0d0887"
                          ],
                          [
                            0.1111111111111111,
                            "#46039f"
                          ],
                          [
                            0.2222222222222222,
                            "#7201a8"
                          ],
                          [
                            0.3333333333333333,
                            "#9c179e"
                          ],
                          [
                            0.4444444444444444,
                            "#bd3786"
                          ],
                          [
                            0.5555555555555556,
                            "#d8576b"
                          ],
                          [
                            0.6666666666666666,
                            "#ed7953"
                          ],
                          [
                            0.7777777777777778,
                            "#fb9f3a"
                          ],
                          [
                            0.8888888888888888,
                            "#fdca26"
                          ],
                          [
                            1,
                            "#f0f921"
                          ]
                        ],
                        "type": "contour"
                      }
                    ],
                    "contourcarpet": [
                      {
                        "colorbar": {
                          "outlinewidth": 0,
                          "ticks": ""
                        },
                        "type": "contourcarpet"
                      }
                    ],
                    "heatmap": [
                      {
                        "colorbar": {
                          "outlinewidth": 0,
                          "ticks": ""
                        },
                        "colorscale": [
                          [
                            0,
                            "#0d0887"
                          ],
                          [
                            0.1111111111111111,
                            "#46039f"
                          ],
                          [
                            0.2222222222222222,
                            "#7201a8"
                          ],
                          [
                            0.3333333333333333,
                            "#9c179e"
                          ],
                          [
                            0.4444444444444444,
                            "#bd3786"
                          ],
                          [
                            0.5555555555555556,
                            "#d8576b"
                          ],
                          [
                            0.6666666666666666,
                            "#ed7953"
                          ],
                          [
                            0.7777777777777778,
                            "#fb9f3a"
                          ],
                          [
                            0.8888888888888888,
                            "#fdca26"
                          ],
                          [
                            1,
                            "#f0f921"
                          ]
                        ],
                        "type": "heatmap"
                      }
                    ],
                    "heatmapgl": [
                      {
                        "colorbar": {
                          "outlinewidth": 0,
                          "ticks": ""
                        },
                        "colorscale": [
                          [
                            0,
                            "#0d0887"
                          ],
                          [
                            0.1111111111111111,
                            "#46039f"
                          ],
                          [
                            0.2222222222222222,
                            "#7201a8"
                          ],
                          [
                            0.3333333333333333,
                            "#9c179e"
                          ],
                          [
                            0.4444444444444444,
                            "#bd3786"
                          ],
                          [
                            0.5555555555555556,
                            "#d8576b"
                          ],
                          [
                            0.6666666666666666,
                            "#ed7953"
                          ],
                          [
                            0.7777777777777778,
                            "#fb9f3a"
                          ],
                          [
                            0.8888888888888888,
                            "#fdca26"
                          ],
                          [
                            1,
                            "#f0f921"
                          ]
                        ],
                        "type": "heatmapgl"
                      }
                    ],
                    "histogram": [
                      {
                        "marker": {
                          "pattern": {
                            "fillmode": "overlay",
                            "size": 10,
                            "solidity": 0.2
                          }
                        },
                        "type": "histogram"
                      }
                    ],
                    "histogram2d": [
                      {
                        "colorbar": {
                          "outlinewidth": 0,
                          "ticks": ""
                        },
                        "colorscale": [
                          [
                            0,
                            "#0d0887"
                          ],
                          [
                            0.1111111111111111,
                            "#46039f"
                          ],
                          [
                            0.2222222222222222,
                            "#7201a8"
                          ],
                          [
                            0.3333333333333333,
                            "#9c179e"
                          ],
                          [
                            0.4444444444444444,
                            "#bd3786"
                          ],
                          [
                            0.5555555555555556,
                            "#d8576b"
                          ],
                          [
                            0.6666666666666666,
                            "#ed7953"
                          ],
                          [
                            0.7777777777777778,
                            "#fb9f3a"
                          ],
                          [
                            0.8888888888888888,
                            "#fdca26"
                          ],
                          [
                            1,
                            "#f0f921"
                          ]
                        ],
                        "type": "histogram2d"
                      }
                    ],
                    "histogram2dcontour": [
                      {
                        "colorbar": {
                          "outlinewidth": 0,
                          "ticks": ""
                        },
                        "colorscale": [
                          [
                            0,
                            "#0d0887"
                          ],
                          [
                            0.1111111111111111,
                            "#46039f"
                          ],
                          [
                            0.2222222222222222,
                            "#7201a8"
                          ],
                          [
                            0.3333333333333333,
                            "#9c179e"
                          ],
                          [
                            0.4444444444444444,
                            "#bd3786"
                          ],
                          [
                            0.5555555555555556,
                            "#d8576b"
                          ],
                          [
                            0.6666666666666666,
                            "#ed7953"
                          ],
                          [
                            0.7777777777777778,
                            "#fb9f3a"
                          ],
                          [
                            0.8888888888888888,
                            "#fdca26"
                          ],
                          [
                            1,
                            "#f0f921"
                          ]
                        ],
                        "type": "histogram2dcontour"
                      }
                    ],
                    "mesh3d": [
                      {
                        "colorbar": {
                          "outlinewidth": 0,
                          "ticks": ""
                        },
                        "type": "mesh3d"
                      }
                    ],
                    "parcoords": [
                      {
                        "line": {
                          "colorbar": {
                            "outlinewidth": 0,
                            "ticks": ""
                          }
                        },
                        "type": "parcoords"
                      }
                    ],
                    "pie": [
                      {
                        "automargin": true,
                        "type": "pie"
                      }
                    ],
                    "scatter": [
                      {
                        "fillpattern": {
                          "fillmode": "overlay",
                          "size": 10,
                          "solidity": 0.2
                        },
                        "type": "scatter"
                      }
                    ],
                    "scatter3d": [
                      {
                        "line": {
                          "colorbar": {
                            "outlinewidth": 0,
                            "ticks": ""
                          }
                        },
                        "marker": {
                          "colorbar": {
                            "outlinewidth": 0,
                            "ticks": ""
                          }
                        },
                        "type": "scatter3d"
                      }
                    ],
                    "scattercarpet": [
                      {
                        "marker": {
                          "colorbar": {
                            "outlinewidth": 0,
                            "ticks": ""
                          }
                        },
                        "type": "scattercarpet"
                      }
                    ],
                    "scattergeo": [
                      {
                        "marker": {
                          "colorbar": {
                            "outlinewidth": 0,
                            "ticks": ""
                          }
                        },
                        "type": "scattergeo"
                      }
                    ],
                    "scattergl": [
                      {
                        "marker": {
                          "colorbar": {
                            "outlinewidth": 0,
                            "ticks": ""
                          }
                        },
                        "type": "scattergl"
                      }
                    ],
                    "scattermapbox": [
                      {
                        "marker": {
                          "colorbar": {
                            "outlinewidth": 0,
                            "ticks": ""
                          }
                        },
                        "type": "scattermapbox"
                      }
                    ],
                    "scatterpolar": [
                      {
                        "marker": {
                          "colorbar": {
                            "outlinewidth": 0,
                            "ticks": ""
                          }
                        },
                        "type": "scatterpolar"
                      }
                    ],
                    "scatterpolargl": [
                      {
                        "marker": {
                          "colorbar": {
                            "outlinewidth": 0,
                            "ticks": ""
                          }
                        },
                        "type": "scatterpolargl"
                      }
                    ],
                    "scatterternary": [
                      {
                        "marker": {
                          "colorbar": {
                            "outlinewidth": 0,
                            "ticks": ""
                          }
                        },
                        "type": "scatterternary"
                      }
                    ],
                    "surface": [
                      {
                        "colorbar": {
                          "outlinewidth": 0,
                          "ticks": ""
                        },
                        "colorscale": [
                          [
                            0,
                            "#0d0887"
                          ],
                          [
                            0.1111111111111111,
                            "#46039f"
                          ],
                          [
                            0.2222222222222222,
                            "#7201a8"
                          ],
                          [
                            0.3333333333333333,
                            "#9c179e"
                          ],
                          [
                            0.4444444444444444,
                            "#bd3786"
                          ],
                          [
                            0.5555555555555556,
                            "#d8576b"
                          ],
                          [
                            0.6666666666666666,
                            "#ed7953"
                          ],
                          [
                            0.7777777777777778,
                            "#fb9f3a"
                          ],
                          [
                            0.8888888888888888,
                            "#fdca26"
                          ],
                          [
                            1,
                            "#f0f921"
                          ]
                        ],
                        "type": "surface"
                      }
                    ],
                    "table": [
                      {
                        "cells": {
                          "fill": {
                            "color": "#EBF0F8"
                          },
                          "line": {
                            "color": "white"
                          }
                        },
                        "header": {
                          "fill": {
                            "color": "#C8D4E3"
                          },
                          "line": {
                            "color": "white"
                          }
                        },
                        "type": "table"
                      }
                    ]
                  },
                  "layout": {
                    "annotationdefaults": {
                      "arrowcolor": "#2a3f5f",
                      "arrowhead": 0,
                      "arrowwidth": 1
                    },
                    "autotypenumbers": "strict",
                    "coloraxis": {
                      "colorbar": {
                        "outlinewidth": 0,
                        "ticks": ""
                      }
                    },
                    "colorscale": {
                      "diverging": [
                        [
                          0,
                          "#8e0152"
                        ],
                        [
                          0.1,
                          "#c51b7d"
                        ],
                        [
                          0.2,
                          "#de77ae"
                        ],
                        [
                          0.3,
                          "#f1b6da"
                        ],
                        [
                          0.4,
                          "#fde0ef"
                        ],
                        [
                          0.5,
                          "#f7f7f7"
                        ],
                        [
                          0.6,
                          "#e6f5d0"
                        ],
                        [
                          0.7,
                          "#b8e186"
                        ],
                        [
                          0.8,
                          "#7fbc41"
                        ],
                        [
                          0.9,
                          "#4d9221"
                        ],
                        [
                          1,
                          "#276419"
                        ]
                      ],
                      "sequential": [
                        [
                          0,
                          "#0d0887"
                        ],
                        [
                          0.1111111111111111,
                          "#46039f"
                        ],
                        [
                          0.2222222222222222,
                          "#7201a8"
                        ],
                        [
                          0.3333333333333333,
                          "#9c179e"
                        ],
                        [
                          0.4444444444444444,
                          "#bd3786"
                        ],
                        [
                          0.5555555555555556,
                          "#d8576b"
                        ],
                        [
                          0.6666666666666666,
                          "#ed7953"
                        ],
                        [
                          0.7777777777777778,
                          "#fb9f3a"
                        ],
                        [
                          0.8888888888888888,
                          "#fdca26"
                        ],
                        [
                          1,
                          "#f0f921"
                        ]
                      ],
                      "sequentialminus": [
                        [
                          0,
                          "#0d0887"
                        ],
                        [
                          0.1111111111111111,
                          "#46039f"
                        ],
                        [
                          0.2222222222222222,
                          "#7201a8"
                        ],
                        [
                          0.3333333333333333,
                          "#9c179e"
                        ],
                        [
                          0.4444444444444444,
                          "#bd3786"
                        ],
                        [
                          0.5555555555555556,
                          "#d8576b"
                        ],
                        [
                          0.6666666666666666,
                          "#ed7953"
                        ],
                        [
                          0.7777777777777778,
                          "#fb9f3a"
                        ],
                        [
                          0.8888888888888888,
                          "#fdca26"
                        ],
                        [
                          1,
                          "#f0f921"
                        ]
                      ]
                    },
                    "colorway": [
                      "#636efa",
                      "#EF553B",
                      "#00cc96",
                      "#ab63fa",
                      "#FFA15A",
                      "#19d3f3",
                      "#FF6692",
                      "#B6E880",
                      "#FF97FF",
                      "#FECB52"
                    ],
                    "font": {
                      "color": "#2a3f5f"
                    },
                    "geo": {
                      "bgcolor": "white",
                      "lakecolor": "white",
                      "landcolor": "#E5ECF6",
                      "showlakes": true,
                      "showland": true,
                      "subunitcolor": "white"
                    },
                    "hoverlabel": {
                      "align": "left"
                    },
                    "hovermode": "closest",
                    "mapbox": {
                      "style": "light"
                    },
                    "paper_bgcolor": "white",
                    "plot_bgcolor": "#E5ECF6",
                    "polar": {
                      "angularaxis": {
                        "gridcolor": "white",
                        "linecolor": "white",
                        "ticks": ""
                      },
                      "bgcolor": "#E5ECF6",
                      "radialaxis": {
                        "gridcolor": "white",
                        "linecolor": "white",
                        "ticks": ""
                      }
                    },
                    "scene": {
                      "xaxis": {
                        "backgroundcolor": "#E5ECF6",
                        "gridcolor": "white",
                        "gridwidth": 2,
                        "linecolor": "white",
                        "showbackground": true,
                        "ticks": "",
                        "zerolinecolor": "white"
                      },
                      "yaxis": {
                        "backgroundcolor": "#E5ECF6",
                        "gridcolor": "white",
                        "gridwidth": 2,
                        "linecolor": "white",
                        "showbackground": true,
                        "ticks": "",
                        "zerolinecolor": "white"
                      },
                      "zaxis": {
                        "backgroundcolor": "#E5ECF6",
                        "gridcolor": "white",
                        "gridwidth": 2,
                        "linecolor": "white",
                        "showbackground": true,
                        "ticks": "",
                        "zerolinecolor": "white"
                      }
                    },
                    "shapedefaults": {
                      "line": {
                        "color": "#2a3f5f"
                      }
                    },
                    "ternary": {
                      "aaxis": {
                        "gridcolor": "white",
                        "linecolor": "white",
                        "ticks": ""
                      },
                      "baxis": {
                        "gridcolor": "white",
                        "linecolor": "white",
                        "ticks": ""
                      },
                      "bgcolor": "#E5ECF6",
                      "caxis": {
                        "gridcolor": "white",
                        "linecolor": "white",
                        "ticks": ""
                      }
                    },
                    "title": {
                      "x": 0.05
                    },
                    "xaxis": {
                      "automargin": true,
                      "gridcolor": "white",
                      "linecolor": "white",
                      "ticks": "",
                      "title": {
                        "standoff": 15
                      },
                      "zerolinecolor": "white",
                      "zerolinewidth": 2
                    },
                    "yaxis": {
                      "automargin": true,
                      "gridcolor": "white",
                      "linecolor": "white",
                      "ticks": "",
                      "title": {
                        "standoff": 15
                      },
                      "zerolinecolor": "white",
                      "zerolinewidth": 2
                    }
                  }
                },
                "title": {
                  "text": "Train vs Val mean squared error"
                },
                "width": 700,
                "xaxis": {
                  "title": {
                    "text": "Epoch"
                  }
                },
                "yaxis": {
                  "title": {
                    "text": "mse"
                  }
                }
              }
            }
          },
          "metadata": {},
          "output_type": "display_data"
        },
        {
          "data": {
            "text/plain": [
              "<Figure size 640x480 with 0 Axes>"
            ]
          },
          "metadata": {},
          "output_type": "display_data"
        }
      ],
      "source": [
        "import plotly.graph_objects as go\n",
        "\n",
        "plt.clf()\n",
        "\n",
        "fig = go.Figure()\n",
        "fig.add_trace(go.Scatter(\n",
        "                    y=history.history['mse'],\n",
        "                    name='Train'))\n",
        "\n",
        "fig.add_trace(go.Scatter(\n",
        "                    y=history.history['val_mse'],\n",
        "                    name='Validation'))\n",
        "\n",
        "\n",
        "fig.update_layout(height=500, \n",
        "                  width=700,\n",
        "                  title='Train vs Val mean squared error',\n",
        "                  xaxis_title='Epoch',\n",
        "                  yaxis_title='mse')\n",
        "\n",
        "\n",
        "fig.show()"
      ]
    },
    {
      "cell_type": "code",
      "execution_count": null,
      "metadata": {},
      "outputs": [
        {
          "name": "stderr",
          "output_type": "stream",
          "text": [
            "/var/folders/b2/8x1qqknd4818g7hylzxv20yr0000gq/T/ipykernel_49490/4030523978.py:1: UserWarning:\n",
            "\n",
            "`Model.fit_generator` is deprecated and will be removed in a future version. Please use `Model.fit`, which supports generators.\n",
            "\n"
          ]
        },
        {
          "name": "stdout",
          "output_type": "stream",
          "text": [
            "Epoch 1/15\n",
            "372/372 [==============================] - ETA: 0s - loss: 92.0259 - mae: 7.6698 - mse: 92.0259\n",
            "Epoch 1: val_loss did not improve from 87.78877\n",
            "372/372 [==============================] - 310s 830ms/step - loss: 92.0259 - mae: 7.6698 - mse: 92.0259 - val_loss: 101.9656 - val_mae: 7.9251 - val_mse: 101.9656\n",
            "Epoch 2/15\n",
            "372/372 [==============================] - ETA: 0s - loss: 91.9665 - mae: 7.6483 - mse: 91.9665\n",
            "Epoch 2: val_loss did not improve from 87.78877\n",
            "372/372 [==============================] - 230s 617ms/step - loss: 91.9665 - mae: 7.6483 - mse: 91.9665 - val_loss: 95.1761 - val_mae: 7.7927 - val_mse: 95.1761\n",
            "Epoch 3/15\n",
            "372/372 [==============================] - ETA: 0s - loss: 91.7295 - mae: 7.6505 - mse: 91.7295\n",
            "Epoch 3: val_loss did not improve from 87.78877\n",
            "372/372 [==============================] - 299s 804ms/step - loss: 91.7295 - mae: 7.6505 - mse: 91.7295 - val_loss: 88.0676 - val_mae: 7.4157 - val_mse: 88.0676\n",
            "Epoch 4/15\n",
            "372/372 [==============================] - ETA: 0s - loss: 92.2082 - mae: 7.6646 - mse: 92.2082\n",
            "Epoch 4: val_loss did not improve from 87.78877\n",
            "372/372 [==============================] - 231s 620ms/step - loss: 92.2082 - mae: 7.6646 - mse: 92.2082 - val_loss: 98.4204 - val_mae: 7.8407 - val_mse: 98.4204\n",
            "Epoch 5/15\n",
            "372/372 [==============================] - ETA: 0s - loss: 91.2154 - mae: 7.6407 - mse: 91.2154\n",
            "Epoch 5: val_loss did not improve from 87.78877\n",
            "372/372 [==============================] - 240s 643ms/step - loss: 91.2154 - mae: 7.6407 - mse: 91.2154 - val_loss: 94.3017 - val_mae: 7.6881 - val_mse: 94.3017\n",
            "Epoch 6/15\n",
            "372/372 [==============================] - ETA: 0s - loss: 91.4726 - mae: 7.6301 - mse: 91.4726\n",
            "Epoch 6: val_loss did not improve from 87.78877\n",
            "372/372 [==============================] - 215s 576ms/step - loss: 91.4726 - mae: 7.6301 - mse: 91.4726 - val_loss: 95.0021 - val_mae: 7.5753 - val_mse: 95.0021\n",
            "Epoch 7/15\n",
            "372/372 [==============================] - ETA: 0s - loss: 90.7778 - mae: 7.5979 - mse: 90.7778\n",
            "Epoch 7: val_loss did not improve from 87.78877\n",
            "372/372 [==============================] - 218s 586ms/step - loss: 90.7778 - mae: 7.5979 - mse: 90.7778 - val_loss: 95.2016 - val_mae: 7.7629 - val_mse: 95.2016\n",
            "Epoch 8/15\n",
            "372/372 [==============================] - ETA: 0s - loss: 90.1437 - mae: 7.5644 - mse: 90.1437\n",
            "Epoch 8: val_loss did not improve from 87.78877\n",
            "372/372 [==============================] - 222s 595ms/step - loss: 90.1437 - mae: 7.5644 - mse: 90.1437 - val_loss: 96.0852 - val_mae: 7.7959 - val_mse: 96.0852\n",
            "Epoch 9/15\n",
            "372/372 [==============================] - ETA: 0s - loss: 91.0109 - mae: 7.6094 - mse: 91.0109\n",
            "Epoch 9: val_loss did not improve from 87.78877\n",
            "372/372 [==============================] - 242s 648ms/step - loss: 91.0109 - mae: 7.6094 - mse: 91.0109 - val_loss: 98.2042 - val_mae: 7.9202 - val_mse: 98.2042\n",
            "Epoch 10/15\n",
            "372/372 [==============================] - ETA: 0s - loss: 90.5868 - mae: 7.5921 - mse: 90.5868\n",
            "Epoch 10: val_loss did not improve from 87.78877\n",
            "372/372 [==============================] - 290s 777ms/step - loss: 90.5868 - mae: 7.5921 - mse: 90.5868 - val_loss: 91.2422 - val_mae: 7.5095 - val_mse: 91.2422\n",
            "Epoch 11/15\n",
            "372/372 [==============================] - ETA: 0s - loss: 90.5998 - mae: 7.5910 - mse: 90.5998\n",
            "Epoch 11: val_loss did not improve from 87.78877\n",
            "372/372 [==============================] - 340s 914ms/step - loss: 90.5998 - mae: 7.5910 - mse: 90.5998 - val_loss: 93.3767 - val_mae: 7.6688 - val_mse: 93.3767\n",
            "Epoch 12/15\n",
            "372/372 [==============================] - ETA: 0s - loss: 90.1969 - mae: 7.5836 - mse: 90.1969\n",
            "Epoch 12: val_loss did not improve from 87.78877\n",
            "372/372 [==============================] - 248s 663ms/step - loss: 90.1969 - mae: 7.5836 - mse: 90.1969 - val_loss: 97.6876 - val_mae: 7.7745 - val_mse: 97.6876\n",
            "Epoch 13/15\n",
            "372/372 [==============================] - ETA: 0s - loss: 90.8279 - mae: 7.5995 - mse: 90.8279\n",
            "Epoch 13: val_loss did not improve from 87.78877\n",
            "372/372 [==============================] - 230s 617ms/step - loss: 90.8279 - mae: 7.5995 - mse: 90.8279 - val_loss: 91.5220 - val_mae: 7.5330 - val_mse: 91.5220\n",
            "Epoch 14/15\n",
            "372/372 [==============================] - ETA: 0s - loss: 90.3181 - mae: 7.5806 - mse: 90.3181\n",
            "Epoch 14: val_loss did not improve from 87.78877\n",
            "372/372 [==============================] - 232s 623ms/step - loss: 90.3181 - mae: 7.5806 - mse: 90.3181 - val_loss: 94.0888 - val_mae: 7.5923 - val_mse: 94.0888\n",
            "Epoch 15/15\n",
            "372/372 [==============================] - ETA: 0s - loss: 90.1499 - mae: 7.5873 - mse: 90.1499\n",
            "Epoch 15: val_loss did not improve from 87.78877\n",
            "372/372 [==============================] - 383s 1s/step - loss: 90.1499 - mae: 7.5873 - mse: 90.1499 - val_loss: 105.9266 - val_mae: 8.3534 - val_mse: 105.9266\n"
          ]
        }
      ],
      "source": [
        "history = age_model.fit_generator(generator=train_generator, validation_data=valid_generator,\n",
        "                     callbacks=checkpoint, epochs=15)"
      ]
    },
    {
      "cell_type": "code",
      "execution_count": 37,
      "metadata": {},
      "outputs": [],
      "source": [
        "loaded_model = load_model('/Users/rachana/Rachana_Python_VS/age_detection/model/agemodelpf.h5')\n",
        "filepath='/Users/rachana/Rachana_Python_VS/age_gender/model/agemodelpfloaded+60.h5'\n",
        "from keras import callbacks\n",
        "checkpoint = callbacks.ModelCheckpoint(filepath, monitor='val_loss', verbose=1, save_best_only=True, mode='min')"
      ]
    },
    {
      "cell_type": "code",
      "execution_count": 38,
      "metadata": {},
      "outputs": [],
      "source": [
        "loaded_model.compile(loss='mse', optimizer='Adam', metrics=['mae','mse'])"
      ]
    },
    {
      "cell_type": "code",
      "execution_count": 1,
      "metadata": {},
      "outputs": [
        {
          "ename": "NameError",
          "evalue": "name 'loaded_model' is not defined",
          "output_type": "error",
          "traceback": [
            "\u001b[0;31m---------------------------------------------------------------------------\u001b[0m",
            "\u001b[0;31mNameError\u001b[0m                                 Traceback (most recent call last)",
            "\u001b[1;32m/Users/rachana/Rachana_Python_VS/age_detection/age_detection_prediction.ipynb Cell 69\u001b[0m line \u001b[0;36m1\n\u001b[0;32m----> <a href='vscode-notebook-cell:/Users/rachana/Rachana_Python_VS/age_detection/age_detection_prediction.ipynb#Y125sZmlsZQ%3D%3D?line=0'>1</a>\u001b[0m history \u001b[39m=\u001b[39m loaded_model\u001b[39m.\u001b[39mfit_generator(generator\u001b[39m=\u001b[39mtrain_generator, validation_data\u001b[39m=\u001b[39mvalid_generator,\n\u001b[1;32m      <a href='vscode-notebook-cell:/Users/rachana/Rachana_Python_VS/age_detection/age_detection_prediction.ipynb#Y125sZmlsZQ%3D%3D?line=1'>2</a>\u001b[0m                      callbacks\u001b[39m=\u001b[39mcheckpoint, epochs\u001b[39m=\u001b[39m\u001b[39m60\u001b[39m)\n",
            "\u001b[0;31mNameError\u001b[0m: name 'loaded_model' is not defined"
          ]
        }
      ],
      "source": [
        "history = loaded_model.fit_generator(generator=train_generator, validation_data=valid_generator,\n",
        "                     callbacks=checkpoint, epochs=60)"
      ]
    },
    {
      "cell_type": "code",
      "execution_count": null,
      "metadata": {},
      "outputs": [],
      "source": [
        "age_model.save('/Users/rachana/Rachana_Python_VS/age_detection/model/agemodelpfloaded+60f.h5')"
      ]
    },
    {
      "cell_type": "code",
      "execution_count": null,
      "metadata": {},
      "outputs": [],
      "source": []
    },
    {
      "cell_type": "code",
      "execution_count": null,
      "metadata": {},
      "outputs": [
        {
          "name": "stdout",
          "output_type": "stream",
          "text": [
            "93/93 [==============================] - 26s 270ms/step - loss: 105.9266 - mae: 8.3534 - mse: 105.9266\n"
          ]
        }
      ],
      "source": [
        "test_loss, test_mae, test_mse = age_model.evaluate(valid_generator)"
      ]
    },
    {
      "cell_type": "markdown",
      "metadata": {
        "colab_type": "text",
        "id": "hkBfC3RDO0oM"
      },
      "source": [
        "validation performance better than training performance because, recall that we did heavy augmentation in training dataset, so that model never sees the same image twice. The augmented images initially make it difficult for the model to learn, but are very beneficial in the long run. They improve the model's generalization ability (ability to be more robust and the make accurate predictions on unseen images/data).There was no augmentation in validation set at all. Obviously model sees the same image multiple times over all these epochs during the validation process."
      ]
    },
    {
      "cell_type": "markdown",
      "metadata": {
        "colab_type": "text",
        "id": "MpC9DvYGPN2u"
      },
      "source": [
        "## Age Estimation based on Provided Image\n"
      ]
    },
    {
      "cell_type": "code",
      "execution_count": 47,
      "metadata": {},
      "outputs": [],
      "source": [
        "#Load saved model\n",
        "new_model = load_model('/Users/rachana/Rachana_Python_VS/age_detection/model/agemodelpf.h5')\n",
        " "
      ]
    },
    {
      "cell_type": "code",
      "execution_count": 48,
      "metadata": {},
      "outputs": [
        {
          "data": {
            "image/png": "[encoded data removed]",
            "text/plain": [
              "<Figure size 640x480 with 1 Axes>"
            ]
          },
          "metadata": {},
          "output_type": "display_data"
        },
        {
          "name": "stdout",
          "output_type": "stream",
          "text": [
            "1/1 [==============================] - 0s 251ms/step\n",
            "[[40.570385]]\n"
          ]
        }
      ],
      "source": [
        "def loadImage(filepath):\n",
        "  test_img = image.load_img(filepath, target_size=(180, 180))\n",
        "  test_img = image.img_to_array(test_img)\n",
        "  test_img = np.expand_dims(test_img, axis = 0)\n",
        "  test_img /= 255\n",
        "  return test_img\n",
        "\n",
        " # This picture should be in the same directory from which the nb is running\n",
        "picture = \"/Users/rachana/Rachana_Python_VS/age_detection/images/Kim_Kardashian_West_2014_34.jpeg\"                                  \n",
        "img = image.load_img(picture)                        \n",
        "plt.imshow(img)\n",
        "plt.show()\n",
        "\n",
        "prediction = new_model.predict(loadImage(picture))\n",
        "print(prediction)\n"
      ]
    },
    {
      "cell_type": "code",
      "execution_count": 14,
      "metadata": {
        "colab": {
          "base_uri": "https://localhost:8080/",
          "height": 286
        },
        "colab_type": "code",
        "id": "Obae5Jb2o2Un",
        "outputId": "ecffb80e-d2a5-412a-df97-712463cbf9c9"
      },
      "outputs": [
        {
          "data": {
            "image/png": "[encoded data removed]",
            "text/plain": [
              "<Figure size 640x480 with 1 Axes>"
            ]
          },
          "metadata": {},
          "output_type": "display_data"
        },
        {
          "name": "stdout",
          "output_type": "stream",
          "text": [
            "1/1 [==============================] - 0s 34ms/step\n",
            "[[54.119446]]\n"
          ]
        }
      ],
      "source": [
        "def loadImage(filepath):\n",
        "  test_img = image.load_img(filepath, target_size=(180, 180))\n",
        "  test_img = image.img_to_array(test_img)\n",
        "  test_img = np.expand_dims(test_img, axis = 0)\n",
        "  test_img /= 255\n",
        "  return test_img\n",
        "\n",
        " # This picture should be in the same directory from which the nb is running\n",
        "picture = \"/Users/rachana/Rachana_Python_VS/age_detection/images/AnupamKher5_58.jpeg\"                                  \n",
        "img = image.load_img(picture)                        \n",
        "plt.imshow(img)\n",
        "plt.show()\n",
        "\n",
        "prediction = new_model.predict(loadImage(picture))\n",
        "print(prediction)\n"
      ]
    },
    {
      "cell_type": "code",
      "execution_count": null,
      "metadata": {},
      "outputs": [],
      "source": []
    }
  ],
  "metadata": {
    "colab": {
      "collapsed_sections": [
        "MAkp9xW1U1U5",
        "vMvOFy5qVtOC"
      ],
      "include_colab_link": true,
      "name": "Age Estimation.ipynb",
      "provenance": []
    },
    "kernelspec": {
      "display_name": "Python 3",
      "name": "python3"
    },
    "language_info": {
      "codemirror_mode": {
        "name": "ipython",
        "version": 3
      },
      "file_extension": ".py",
      "mimetype": "text/x-python",
      "name": "python",
      "nbconvert_exporter": "python",
      "pygments_lexer": "ipython3",
      "version": "3.10.13"
    }
  },
  "nbformat": 4,
  "nbformat_minor": 0
}
